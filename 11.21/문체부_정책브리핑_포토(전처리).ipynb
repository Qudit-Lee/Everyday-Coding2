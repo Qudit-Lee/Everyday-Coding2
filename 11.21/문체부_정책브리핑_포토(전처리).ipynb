{
 "cells": [
  {
   "cell_type": "code",
   "execution_count": 1,
   "id": "9a2e0744",
   "metadata": {},
   "outputs": [],
   "source": [
    "import warnings\n",
    "import pandas as pd\n",
    "warnings.filterwarnings('ignore')"
   ]
  },
  {
   "cell_type": "code",
   "execution_count": 2,
   "id": "a6d1ce4c",
   "metadata": {},
   "outputs": [],
   "source": [
    "# 포토자료\n",
    "df= pd.read_csv('문화체육관광부_정책브리핑_포토_20221114.csv',encoding='cp949')"
   ]
  },
  {
   "cell_type": "code",
   "execution_count": 3,
   "id": "c40407d3",
   "metadata": {},
   "outputs": [
    {
     "name": "stdout",
     "output_type": "stream",
     "text": [
      "<class 'pandas.core.frame.DataFrame'>\n",
      "RangeIndex: 39409 entries, 0 to 39408\n",
      "Data columns (total 36 columns):\n",
      " #   Column      Non-Null Count  Dtype  \n",
      "---  ------      --------------  -----  \n",
      " 0   기사글번호       39409 non-null  int64  \n",
      " 1   주제코드        39409 non-null  object \n",
      " 2   소속코드        39409 non-null  object \n",
      " 3   부모기사글번호     39409 non-null  int64  \n",
      " 4   기사글제목       39409 non-null  object \n",
      " 5   기사글부제목      3293 non-null   object \n",
      " 6   기사글내용       26605 non-null  object \n",
      " 7   기사글태그정보     25653 non-null  object \n",
      " 8   기자기수아이디     120 non-null    object \n",
      " 9   사진기제작자코드    19668 non-null  object \n",
      " 10  사진기기기종류명    19267 non-null  object \n",
      " 11  촬영지역명       28265 non-null  float64\n",
      " 12  촬영지역상세주소    28159 non-null  object \n",
      " 13  촬영날짜정보      28265 non-null  object \n",
      " 14  촬영행위자명      27677 non-null  object \n",
      " 15  썸네일저장주소     29073 non-null  object \n",
      " 16  역사일자        11732 non-null  float64\n",
      " 17  이력년월        11732 non-null  object \n",
      " 18  대표사진내용      8106 non-null   object \n",
      " 19  기사글분류코드     476 non-null    object \n",
      " 20  공공누리자유사용여부  39409 non-null  object \n",
      " 21  공공누리유형코드    4363 non-null   object \n",
      " 22  사진출처정보      27436 non-null  object \n",
      " 23  부가정보        5 non-null      float64\n",
      " 24  상세주소        823 non-null    object \n",
      " 25  상태코드        39409 non-null  object \n",
      " 26  최초승인일시      39395 non-null  object \n",
      " 27  승인일시        39395 non-null  object \n",
      " 28  정렬순서        39187 non-null  float64\n",
      " 29  추천수         39409 non-null  int64  \n",
      " 30  조회수         39409 non-null  int64  \n",
      " 31  최초등록자아이디    39409 non-null  object \n",
      " 32  최초등록일시      39409 non-null  object \n",
      " 33  최종수정자아이디    19188 non-null  object \n",
      " 34  최종수정일시      39409 non-null  object \n",
      " 35  날짜표시구분      7207 non-null   float64\n",
      "dtypes: float64(5), int64(4), object(27)\n",
      "memory usage: 10.8+ MB\n"
     ]
    }
   ],
   "source": [
    "df.info()"
   ]
  },
  {
   "cell_type": "code",
   "execution_count": null,
   "id": "28922cf5",
   "metadata": {},
   "outputs": [],
   "source": [
    "classifications= df.filter(regex='분야') #정첵브리핑>포토"
   ]
  },
  {
   "cell_type": "code",
   "execution_count": 15,
   "id": "ac167549",
   "metadata": {},
   "outputs": [],
   "source": [
    "if df.filter(regex= 'type')is not None: #멀티미디어 & 신문/잡지\n",
    "    type= df.filter(regex= 'type')\n",
    "elif df.filter(regex= '글제목') is None:\n",
    "    type= ['None']*len(title)"
   ]
  },
  {
   "cell_type": "code",
   "execution_count": 13,
   "id": "fa3dd68b",
   "metadata": {},
   "outputs": [],
   "source": [
    "if df.filter(regex= '글제목') is not None: #제목\n",
    "    title=df.filter(regex= '글제목')\n",
    "elif df.filter(regex= '글제목') is None:\n",
    "    title=df.filter(regex= '부제목')"
   ]
  },
  {
   "cell_type": "code",
   "execution_count": null,
   "id": "384eb5c5",
   "metadata": {},
   "outputs": [],
   "source": [
    "subject= df9.filter(regex= '주제') #주제어 or 테그정보 "
   ]
  },
  {
   "cell_type": "code",
   "execution_count": null,
   "id": "d0adec73",
   "metadata": {},
   "outputs": [],
   "source": [
    "description= df9.filter(regex= '글내용') #내용"
   ]
  },
  {
   "cell_type": "code",
   "execution_count": null,
   "id": "3aad569f",
   "metadata": {},
   "outputs": [],
   "source": [
    "publisher= df9.filter(regex= '소속') #기관"
   ]
  },
  {
   "cell_type": "code",
   "execution_count": null,
   "id": "4e2cb1e2",
   "metadata": {},
   "outputs": [],
   "source": [
    "contributors= df9.filter(regex= '등록아이디') # 저자"
   ]
  },
  {
   "cell_type": "code",
   "execution_count": null,
   "id": "fa7b11b7",
   "metadata": {},
   "outputs": [],
   "source": [
    "date= df9.filter(regex= '등록일') # 등록일"
   ]
  },
  {
   "cell_type": "code",
   "execution_count": null,
   "id": "6b9afb05",
   "metadata": {},
   "outputs": [],
   "source": [
    "la= ['ko']*len(title) #언어"
   ]
  },
  {
   "cell_type": "code",
   "execution_count": null,
   "id": "61099e11",
   "metadata": {},
   "outputs": [],
   "source": [
    "url= df9.filter(regex= '썸네일') #홈페이지 주소"
   ]
  },
  {
   "cell_type": "code",
   "execution_count": null,
   "id": "ede59bbb",
   "metadata": {},
   "outputs": [],
   "source": [
    "format= df9.filter(regex= '') #파일 형식"
   ]
  },
  {
   "cell_type": "code",
   "execution_count": null,
   "id": "16ff511b",
   "metadata": {},
   "outputs": [],
   "source": [
    "relat=  df9.filter(regex= '') #참고자료"
   ]
  },
  {
   "cell_type": "code",
   "execution_count": null,
   "id": "3728aafc",
   "metadata": {},
   "outputs": [],
   "source": [
    "addr= df9.filter(regex= '찰영지역') #주소"
   ]
  },
  {
   "cell_type": "code",
   "execution_count": null,
   "id": "de7b89ad",
   "metadata": {},
   "outputs": [],
   "source": [
    "right= df9.filter(regex= '적용여부') #이용 조건"
   ]
  },
  {
   "cell_type": "code",
   "execution_count": 16,
   "id": "0b21e95d",
   "metadata": {
    "scrolled": true
   },
   "outputs": [
    {
     "data": {
      "text/html": [
       "<div>\n",
       "<style scoped>\n",
       "    .dataframe tbody tr th:only-of-type {\n",
       "        vertical-align: middle;\n",
       "    }\n",
       "\n",
       "    .dataframe tbody tr th {\n",
       "        vertical-align: top;\n",
       "    }\n",
       "\n",
       "    .dataframe thead th {\n",
       "        text-align: right;\n",
       "    }\n",
       "</style>\n",
       "<table border=\"1\" class=\"dataframe\">\n",
       "  <thead>\n",
       "    <tr style=\"text-align: right;\">\n",
       "      <th></th>\n",
       "    </tr>\n",
       "  </thead>\n",
       "  <tbody>\n",
       "    <tr>\n",
       "      <th>0</th>\n",
       "    </tr>\n",
       "    <tr>\n",
       "      <th>1</th>\n",
       "    </tr>\n",
       "    <tr>\n",
       "      <th>2</th>\n",
       "    </tr>\n",
       "    <tr>\n",
       "      <th>3</th>\n",
       "    </tr>\n",
       "    <tr>\n",
       "      <th>4</th>\n",
       "    </tr>\n",
       "    <tr>\n",
       "      <th>...</th>\n",
       "    </tr>\n",
       "    <tr>\n",
       "      <th>39404</th>\n",
       "    </tr>\n",
       "    <tr>\n",
       "      <th>39405</th>\n",
       "    </tr>\n",
       "    <tr>\n",
       "      <th>39406</th>\n",
       "    </tr>\n",
       "    <tr>\n",
       "      <th>39407</th>\n",
       "    </tr>\n",
       "    <tr>\n",
       "      <th>39408</th>\n",
       "    </tr>\n",
       "  </tbody>\n",
       "</table>\n",
       "<p>39409 rows × 0 columns</p>\n",
       "</div>"
      ],
      "text/plain": [
       "Empty DataFrame\n",
       "Columns: []\n",
       "Index: [0, 1, 2, 3, 4, 5, 6, 7, 8, 9, 10, 11, 12, 13, 14, 15, 16, 17, 18, 19, 20, 21, 22, 23, 24, 25, 26, 27, 28, 29, 30, 31, 32, 33, 34, 35, 36, 37, 38, 39, 40, 41, 42, 43, 44, 45, 46, 47, 48, 49, 50, 51, 52, 53, 54, 55, 56, 57, 58, 59, 60, 61, 62, 63, 64, 65, 66, 67, 68, 69, 70, 71, 72, 73, 74, 75, 76, 77, 78, 79, 80, 81, 82, 83, 84, 85, 86, 87, 88, 89, 90, 91, 92, 93, 94, 95, 96, 97, 98, 99, ...]\n",
       "\n",
       "[39409 rows x 0 columns]"
      ]
     },
     "execution_count": 16,
     "metadata": {},
     "output_type": "execute_result"
    }
   ],
   "source": [
    "type"
   ]
  },
  {
   "cell_type": "code",
   "execution_count": null,
   "id": "b03638c9",
   "metadata": {},
   "outputs": [],
   "source": []
  },
  {
   "cell_type": "code",
   "execution_count": null,
   "id": "b2505a20",
   "metadata": {},
   "outputs": [],
   "source": []
  },
  {
   "cell_type": "code",
   "execution_count": null,
   "id": "e46c9850",
   "metadata": {},
   "outputs": [],
   "source": []
  }
 ],
 "metadata": {
  "hide_input": false,
  "kernelspec": {
   "display_name": "Python 3 (ipykernel)",
   "language": "python",
   "name": "python3"
  },
  "language_info": {
   "codemirror_mode": {
    "name": "ipython",
    "version": 3
   },
   "file_extension": ".py",
   "mimetype": "text/x-python",
   "name": "python",
   "nbconvert_exporter": "python",
   "pygments_lexer": "ipython3",
   "version": "3.9.12"
  }
 },
 "nbformat": 4,
 "nbformat_minor": 5
}
