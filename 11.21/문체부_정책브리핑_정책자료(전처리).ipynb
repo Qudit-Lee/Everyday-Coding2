{
 "cells": [
  {
   "cell_type": "code",
   "execution_count": 39,
   "id": "26004c08",
   "metadata": {},
   "outputs": [],
   "source": [
    "import pandas as pd\n",
    "import os\n",
    "import warnings\n",
    "warnings.filterwarnings('ignore')"
   ]
  },
  {
   "cell_type": "code",
   "execution_count": 2,
   "id": "2bc2fde2",
   "metadata": {},
   "outputs": [],
   "source": [
    "# 정책자료\n",
    "df9= pd.read_csv('문화체육관광부_정책브리핑_정책자료_20221026.csv',encoding='cp949')"
   ]
  },
  {
   "cell_type": "code",
   "execution_count": 3,
   "id": "0fc07414",
   "metadata": {},
   "outputs": [
    {
     "name": "stdout",
     "output_type": "stream",
     "text": [
      "<class 'pandas.core.frame.DataFrame'>\n",
      "RangeIndex: 24394 entries, 0 to 24393\n",
      "Data columns (total 13 columns):\n",
      " #   Column               Non-Null Count  Dtype \n",
      "---  ------               --------------  ----- \n",
      " 0   정책자료실뉴스아이디           24394 non-null  int64 \n",
      " 1   정책자료실메타아이디           24394 non-null  object\n",
      " 2   정책자료실여부에이치티엠엘(HTML)  24394 non-null  object\n",
      " 3   정책자료실메인제목            24394 non-null  object\n",
      " 4   정책자료실본문내용            22615 non-null  object\n",
      " 5   정책자료실등록일자            24394 non-null  object\n",
      " 6   정책자료실등록아이디           9327 non-null   object\n",
      " 7   정책자료실수정일자            13429 non-null  object\n",
      " 8   정책자료실연설자이름           11389 non-null  object\n",
      " 9   정책자료실연설자일자           18965 non-null  object\n",
      " 10  정책자료실외부사이트아이디        6126 non-null   object\n",
      " 11  공공저작물자유이용적용여부        24394 non-null  object\n",
      " 12  공공저작물유형              24394 non-null  object\n",
      "dtypes: int64(1), object(12)\n",
      "memory usage: 2.4+ MB\n"
     ]
    }
   ],
   "source": [
    "df9.info()"
   ]
  },
  {
   "cell_type": "code",
   "execution_count": 50,
   "id": "2a52a955",
   "metadata": {},
   "outputs": [
    {
     "data": {
      "text/html": [
       "<div>\n",
       "<style scoped>\n",
       "    .dataframe tbody tr th:only-of-type {\n",
       "        vertical-align: middle;\n",
       "    }\n",
       "\n",
       "    .dataframe tbody tr th {\n",
       "        vertical-align: top;\n",
       "    }\n",
       "\n",
       "    .dataframe thead th {\n",
       "        text-align: right;\n",
       "    }\n",
       "</style>\n",
       "<table border=\"1\" class=\"dataframe\">\n",
       "  <thead>\n",
       "    <tr style=\"text-align: right;\">\n",
       "      <th></th>\n",
       "    </tr>\n",
       "  </thead>\n",
       "  <tbody>\n",
       "    <tr>\n",
       "      <th>0</th>\n",
       "    </tr>\n",
       "    <tr>\n",
       "      <th>1</th>\n",
       "    </tr>\n",
       "    <tr>\n",
       "      <th>2</th>\n",
       "    </tr>\n",
       "    <tr>\n",
       "      <th>3</th>\n",
       "    </tr>\n",
       "    <tr>\n",
       "      <th>4</th>\n",
       "    </tr>\n",
       "    <tr>\n",
       "      <th>...</th>\n",
       "    </tr>\n",
       "    <tr>\n",
       "      <th>24389</th>\n",
       "    </tr>\n",
       "    <tr>\n",
       "      <th>24390</th>\n",
       "    </tr>\n",
       "    <tr>\n",
       "      <th>24391</th>\n",
       "    </tr>\n",
       "    <tr>\n",
       "      <th>24392</th>\n",
       "    </tr>\n",
       "    <tr>\n",
       "      <th>24393</th>\n",
       "    </tr>\n",
       "  </tbody>\n",
       "</table>\n",
       "<p>24394 rows × 0 columns</p>\n",
       "</div>"
      ],
      "text/plain": [
       "Empty DataFrame\n",
       "Columns: []\n",
       "Index: [0, 1, 2, 3, 4, 5, 6, 7, 8, 9, 10, 11, 12, 13, 14, 15, 16, 17, 18, 19, 20, 21, 22, 23, 24, 25, 26, 27, 28, 29, 30, 31, 32, 33, 34, 35, 36, 37, 38, 39, 40, 41, 42, 43, 44, 45, 46, 47, 48, 49, 50, 51, 52, 53, 54, 55, 56, 57, 58, 59, 60, 61, 62, 63, 64, 65, 66, 67, 68, 69, 70, 71, 72, 73, 74, 75, 76, 77, 78, 79, 80, 81, 82, 83, 84, 85, 86, 87, 88, 89, 90, 91, 92, 93, 94, 95, 96, 97, 98, 99, ...]\n",
       "\n",
       "[24394 rows x 0 columns]"
      ]
     },
     "execution_count": 50,
     "metadata": {},
     "output_type": "execute_result"
    }
   ],
   "source": [
    "classifications= df9.filter(regex='분야')\n",
    "classifications.isnull()"
   ]
  },
  {
   "cell_type": "code",
   "execution_count": 51,
   "id": "5ba6808e",
   "metadata": {
    "scrolled": true
   },
   "outputs": [],
   "source": [
    "classifications= df9.filter(regex='분야') #정책브리핑>정책자료"
   ]
  },
  {
   "cell_type": "code",
   "execution_count": 5,
   "id": "7bd85690",
   "metadata": {},
   "outputs": [],
   "source": [
    "type= df9.filter(regex= 'type')"
   ]
  },
  {
   "cell_type": "code",
   "execution_count": 6,
   "id": "73a07687",
   "metadata": {},
   "outputs": [],
   "source": [
    "title= df9.filter(regex= '제목')"
   ]
  },
  {
   "cell_type": "code",
   "execution_count": 7,
   "id": "9e64bb9b",
   "metadata": {},
   "outputs": [],
   "source": [
    "subject= df9.filter(regex= '서브')"
   ]
  },
  {
   "cell_type": "code",
   "execution_count": 8,
   "id": "3ab9eb6e",
   "metadata": {},
   "outputs": [],
   "source": [
    "description= df9.filter(regex= '내용')"
   ]
  },
  {
   "cell_type": "code",
   "execution_count": 9,
   "id": "bf1cfb22",
   "metadata": {},
   "outputs": [],
   "source": [
    "publisher= df9.filter(regex= '외부사이트')"
   ]
  },
  {
   "cell_type": "code",
   "execution_count": 10,
   "id": "b5c4d55d",
   "metadata": {},
   "outputs": [],
   "source": [
    "contributors= df9.filter(regex= '등록아이디')"
   ]
  },
  {
   "cell_type": "code",
   "execution_count": 11,
   "id": "8860ee50",
   "metadata": {},
   "outputs": [],
   "source": [
    "date= df9.filter(regex= '등록일자')"
   ]
  },
  {
   "cell_type": "code",
   "execution_count": 12,
   "id": "1484ec54",
   "metadata": {},
   "outputs": [],
   "source": [
    "la= ['ko']*len(title)"
   ]
  },
  {
   "cell_type": "code",
   "execution_count": 13,
   "id": "c8f8142c",
   "metadata": {},
   "outputs": [],
   "source": [
    "url= df9.filter(regex= 'Url')"
   ]
  },
  {
   "cell_type": "code",
   "execution_count": 14,
   "id": "49df8a4e",
   "metadata": {},
   "outputs": [],
   "source": [
    "Format= df9.filter(regex= '에이치티엠엘')"
   ]
  },
  {
   "cell_type": "code",
   "execution_count": 15,
   "id": "0d31123d",
   "metadata": {},
   "outputs": [],
   "source": [
    "relat=  df9.filter(regex= '메타아이디')"
   ]
  },
  {
   "cell_type": "code",
   "execution_count": 16,
   "id": "3284c23e",
   "metadata": {},
   "outputs": [],
   "source": [
    "addr= df9.filter(regex= '주소')"
   ]
  },
  {
   "cell_type": "code",
   "execution_count": 17,
   "id": "6467e009",
   "metadata": {},
   "outputs": [],
   "source": [
    "right= df9.filter(regex= '적용여부')"
   ]
  },
  {
   "cell_type": "code",
   "execution_count": 30,
   "id": "6aa64a08",
   "metadata": {},
   "outputs": [
    {
     "data": {
      "text/html": [
       "<div>\n",
       "<style scoped>\n",
       "    .dataframe tbody tr th:only-of-type {\n",
       "        vertical-align: middle;\n",
       "    }\n",
       "\n",
       "    .dataframe tbody tr th {\n",
       "        vertical-align: top;\n",
       "    }\n",
       "\n",
       "    .dataframe thead th {\n",
       "        text-align: right;\n",
       "    }\n",
       "</style>\n",
       "<table border=\"1\" class=\"dataframe\">\n",
       "  <thead>\n",
       "    <tr style=\"text-align: right;\">\n",
       "      <th></th>\n",
       "    </tr>\n",
       "  </thead>\n",
       "  <tbody>\n",
       "    <tr>\n",
       "      <th>0</th>\n",
       "    </tr>\n",
       "    <tr>\n",
       "      <th>1</th>\n",
       "    </tr>\n",
       "    <tr>\n",
       "      <th>2</th>\n",
       "    </tr>\n",
       "    <tr>\n",
       "      <th>3</th>\n",
       "    </tr>\n",
       "    <tr>\n",
       "      <th>4</th>\n",
       "    </tr>\n",
       "    <tr>\n",
       "      <th>...</th>\n",
       "    </tr>\n",
       "    <tr>\n",
       "      <th>24389</th>\n",
       "    </tr>\n",
       "    <tr>\n",
       "      <th>24390</th>\n",
       "    </tr>\n",
       "    <tr>\n",
       "      <th>24391</th>\n",
       "    </tr>\n",
       "    <tr>\n",
       "      <th>24392</th>\n",
       "    </tr>\n",
       "    <tr>\n",
       "      <th>24393</th>\n",
       "    </tr>\n",
       "  </tbody>\n",
       "</table>\n",
       "<p>24394 rows × 0 columns</p>\n",
       "</div>"
      ],
      "text/plain": [
       "Empty DataFrame\n",
       "Columns: []\n",
       "Index: [0, 1, 2, 3, 4, 5, 6, 7, 8, 9, 10, 11, 12, 13, 14, 15, 16, 17, 18, 19, 20, 21, 22, 23, 24, 25, 26, 27, 28, 29, 30, 31, 32, 33, 34, 35, 36, 37, 38, 39, 40, 41, 42, 43, 44, 45, 46, 47, 48, 49, 50, 51, 52, 53, 54, 55, 56, 57, 58, 59, 60, 61, 62, 63, 64, 65, 66, 67, 68, 69, 70, 71, 72, 73, 74, 75, 76, 77, 78, 79, 80, 81, 82, 83, 84, 85, 86, 87, 88, 89, 90, 91, 92, 93, 94, 95, 96, 97, 98, 99, ...]\n",
       "\n",
       "[24394 rows x 0 columns]"
      ]
     },
     "execution_count": 30,
     "metadata": {},
     "output_type": "execute_result"
    }
   ],
   "source": [
    "classifications"
   ]
  },
  {
   "cell_type": "code",
   "execution_count": 34,
   "id": "54ef287b",
   "metadata": {},
   "outputs": [],
   "source": [
    "data= pd.concat([classifications, type, subject, title],axis=1)"
   ]
  },
  {
   "cell_type": "code",
   "execution_count": 35,
   "id": "2ffac5f1",
   "metadata": {},
   "outputs": [
    {
     "data": {
      "text/html": [
       "<div>\n",
       "<style scoped>\n",
       "    .dataframe tbody tr th:only-of-type {\n",
       "        vertical-align: middle;\n",
       "    }\n",
       "\n",
       "    .dataframe tbody tr th {\n",
       "        vertical-align: top;\n",
       "    }\n",
       "\n",
       "    .dataframe thead th {\n",
       "        text-align: right;\n",
       "    }\n",
       "</style>\n",
       "<table border=\"1\" class=\"dataframe\">\n",
       "  <thead>\n",
       "    <tr style=\"text-align: right;\">\n",
       "      <th></th>\n",
       "      <th>공공저작물유형</th>\n",
       "      <th>정책자료실메인제목</th>\n",
       "    </tr>\n",
       "  </thead>\n",
       "  <tbody>\n",
       "    <tr>\n",
       "      <th>0</th>\n",
       "      <td>유형</td>\n",
       "      <td>금융실명제의 생활화 - 근검저축 편</td>\n",
       "    </tr>\n",
       "    <tr>\n",
       "      <th>1</th>\n",
       "      <td>유형</td>\n",
       "      <td>세계화 - 장인정신 편</td>\n",
       "    </tr>\n",
       "    <tr>\n",
       "      <th>2</th>\n",
       "      <td>유형</td>\n",
       "      <td>세계화 - 환경보호 편</td>\n",
       "    </tr>\n",
       "    <tr>\n",
       "      <th>3</th>\n",
       "      <td>유형</td>\n",
       "      <td>금융종합과세 안내 - 부부 편</td>\n",
       "    </tr>\n",
       "    <tr>\n",
       "      <th>4</th>\n",
       "      <td>유형</td>\n",
       "      <td>세계화 - 유길준 편</td>\n",
       "    </tr>\n",
       "    <tr>\n",
       "      <th>...</th>\n",
       "      <td>...</td>\n",
       "      <td>...</td>\n",
       "    </tr>\n",
       "    <tr>\n",
       "      <th>24389</th>\n",
       "      <td>유형</td>\n",
       "      <td>[Vol.729] 감염재생산지수 9주만에 1 넘어…“겨울철 재유행 철저 대비”</td>\n",
       "    </tr>\n",
       "    <tr>\n",
       "      <th>24390</th>\n",
       "      <td>유형</td>\n",
       "      <td>제40회 대통령기 이북도민 체육대회 축사</td>\n",
       "    </tr>\n",
       "    <tr>\n",
       "      <th>24391</th>\n",
       "      <td>유형</td>\n",
       "      <td>「청산리 대첩 전승 102주년 기념사」 축사</td>\n",
       "    </tr>\n",
       "    <tr>\n",
       "      <th>24392</th>\n",
       "      <td>유형</td>\n",
       "      <td>제42주년 전북도민의 날 기념식 영상축사</td>\n",
       "    </tr>\n",
       "    <tr>\n",
       "      <th>24393</th>\n",
       "      <td>유형</td>\n",
       "      <td>2023년도 예산안 및 기금운용계획안 대통령 시정연설</td>\n",
       "    </tr>\n",
       "  </tbody>\n",
       "</table>\n",
       "<p>24394 rows × 2 columns</p>\n",
       "</div>"
      ],
      "text/plain": [
       "      공공저작물유형                                    정책자료실메인제목\n",
       "0          유형                          금융실명제의 생활화 - 근검저축 편\n",
       "1          유형                                 세계화 - 장인정신 편\n",
       "2          유형                                 세계화 - 환경보호 편\n",
       "3          유형                             금융종합과세 안내 - 부부 편\n",
       "4          유형                                  세계화 - 유길준 편\n",
       "...       ...                                          ...\n",
       "24389      유형  [Vol.729] 감염재생산지수 9주만에 1 넘어…“겨울철 재유행 철저 대비”\n",
       "24390      유형                       제40회 대통령기 이북도민 체육대회 축사\n",
       "24391      유형                     「청산리 대첩 전승 102주년 기념사」 축사\n",
       "24392      유형                       제42주년 전북도민의 날 기념식 영상축사\n",
       "24393      유형                2023년도 예산안 및 기금운용계획안 대통령 시정연설\n",
       "\n",
       "[24394 rows x 2 columns]"
      ]
     },
     "execution_count": 35,
     "metadata": {},
     "output_type": "execute_result"
    }
   ],
   "source": [
    "data"
   ]
  },
  {
   "cell_type": "code",
   "execution_count": null,
   "id": "b50b412f",
   "metadata": {},
   "outputs": [],
   "source": []
  }
 ],
 "metadata": {
  "hide_input": false,
  "kernelspec": {
   "display_name": "Python 3 (ipykernel)",
   "language": "python",
   "name": "python3"
  },
  "language_info": {
   "codemirror_mode": {
    "name": "ipython",
    "version": 3
   },
   "file_extension": ".py",
   "mimetype": "text/x-python",
   "name": "python",
   "nbconvert_exporter": "python",
   "pygments_lexer": "ipython3",
   "version": "3.9.12"
  }
 },
 "nbformat": 4,
 "nbformat_minor": 5
}
