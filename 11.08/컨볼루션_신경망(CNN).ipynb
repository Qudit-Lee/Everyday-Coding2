{
  "nbformat": 4,
  "nbformat_minor": 0,
  "metadata": {
    "colab": {
      "provenance": [],
      "collapsed_sections": []
    },
    "kernelspec": {
      "name": "python3",
      "display_name": "Python 3"
    },
    "language_info": {
      "name": "python"
    },
    "accelerator": "GPU",
    "gpuClass": "standard"
  },
  "cells": [
    {
      "cell_type": "markdown",
      "source": [
        "1 이미지 인식"
      ],
      "metadata": {
        "id": "D5oHJbe9_-VF"
      }
    },
    {
      "cell_type": "code",
      "source": [
        "from tensorflow.keras.datasets import mnist"
      ],
      "metadata": {
        "id": "iuRPKQ-RFyBw"
      },
      "execution_count": 1,
      "outputs": []
    },
    {
      "cell_type": "code",
      "source": [
        "# 학습에 사용될 데이터를 x로, 테스트에 사용될 데이터는 y로 지정.\n",
        "(x_train, y_train), (x_test, y_test)= mnist.load_data()"
      ],
      "metadata": {
        "id": "Gcd6yAhuF4dm",
        "colab": {
          "base_uri": "https://localhost:8080/"
        },
        "outputId": "5ab47bfa-7f55-4355-b7af-b0c08dfd4c4f"
      },
      "execution_count": 2,
      "outputs": [
        {
          "output_type": "stream",
          "name": "stdout",
          "text": [
            "Downloading data from https://storage.googleapis.com/tensorflow/tf-keras-datasets/mnist.npz\n",
            "11490434/11490434 [==============================] - 0s 0us/step\n"
          ]
        }
      ]
    },
    {
      "cell_type": "code",
      "source": [
        "# 분리된 데이터의 수 출력 및 비율 확인.\n",
        "print('학습셋 이미지 수: %d개' % (x_train.shape[0]))\n",
        "print('데이터셋 이미지 수: %d개' % (x_test.shape[0]))"
      ],
      "metadata": {
        "colab": {
          "base_uri": "https://localhost:8080/"
        },
        "id": "K6jx7UTwGnmB",
        "outputId": "4671bad5-f5e2-495e-f5de-c3fb19e61da8"
      },
      "execution_count": 3,
      "outputs": [
        {
          "output_type": "stream",
          "name": "stdout",
          "text": [
            "학습셋 이미지 수: 60000개\n",
            "데이터셋 이미지 수: 10000개\n"
          ]
        }
      ]
    },
    {
      "cell_type": "code",
      "source": [
        "import matplotlib.pyplot as plt\n",
        "from keras.utils import np_utils\n",
        "import sys"
      ],
      "metadata": {
        "id": "eHb27rtiHqnG"
      },
      "execution_count": 4,
      "outputs": []
    },
    {
      "cell_type": "code",
      "source": [
        "# 임위의 이미지를 선택해 그래프화.\n",
        "plt.imshow(x_train[0], cmap= 'Greys')\n",
        "plt.show()"
      ],
      "metadata": {
        "colab": {
          "base_uri": "https://localhost:8080/",
          "height": 265
        },
        "id": "VtwHPw1dKbbi",
        "outputId": "01394415-ab5e-40ba-953e-c61fe6686329"
      },
      "execution_count": 5,
      "outputs": [
        {
          "output_type": "display_data",
          "data": {
            "text/plain": [
              "<Figure size 432x288 with 1 Axes>"
            ],
            "image/png": "[encoded data removed]"
          },
          "metadata": {
            "needs_background": "light"
          }
        }
      ]
    },
    {
      "cell_type": "code",
      "source": [
        "# 각 픽셀의 밝기는 0~255까지 임으로 이미지의 숫자를 밝기의 단위로 변환.\n",
        "for x in x_train[0]:\n",
        "  for i in x:\n",
        "    sys.stdout.write('%-3s' % i) # 'stdout.write' == 'print' 성능이 더 좋음.\n",
        "  sys.stdout.write('\\n')"
      ],
      "metadata": {
        "colab": {
          "base_uri": "https://localhost:8080/"
        },
        "id": "bd2cIu8IKj-i",
        "outputId": "9c0f301a-c9e2-4d40-c061-9a0ca18fdd56"
      },
      "execution_count": 6,
      "outputs": [
        {
          "output_type": "stream",
          "name": "stdout",
          "text": [
            "0  0  0  0  0  0  0  0  0  0  0  0  0  0  0  0  0  0  0  0  0  0  0  0  0  0  0  0  \n",
            "0  0  0  0  0  0  0  0  0  0  0  0  0  0  0  0  0  0  0  0  0  0  0  0  0  0  0  0  \n",
            "0  0  0  0  0  0  0  0  0  0  0  0  0  0  0  0  0  0  0  0  0  0  0  0  0  0  0  0  \n",
            "0  0  0  0  0  0  0  0  0  0  0  0  0  0  0  0  0  0  0  0  0  0  0  0  0  0  0  0  \n",
            "0  0  0  0  0  0  0  0  0  0  0  0  0  0  0  0  0  0  0  0  0  0  0  0  0  0  0  0  \n",
            "0  0  0  0  0  0  0  0  0  0  0  0  3  18 18 18 12613617526 1662552471270  0  0  0  \n",
            "0  0  0  0  0  0  0  0  30 36 94 15417025325325325325322517225324219564 0  0  0  0  \n",
            "0  0  0  0  0  0  0  49 23825325325325325325325325325193 82 82 56 39 0  0  0  0  0  \n",
            "0  0  0  0  0  0  0  18 2192532532532532531981822472410  0  0  0  0  0  0  0  0  0  \n",
            "0  0  0  0  0  0  0  0  80 15610725325320511 0  43 1540  0  0  0  0  0  0  0  0  0  \n",
            "0  0  0  0  0  0  0  0  0  14 1  15425390 0  0  0  0  0  0  0  0  0  0  0  0  0  0  \n",
            "0  0  0  0  0  0  0  0  0  0  0  1392531902  0  0  0  0  0  0  0  0  0  0  0  0  0  \n",
            "0  0  0  0  0  0  0  0  0  0  0  11 19025370 0  0  0  0  0  0  0  0  0  0  0  0  0  \n",
            "0  0  0  0  0  0  0  0  0  0  0  0  35 2412251601081  0  0  0  0  0  0  0  0  0  0  \n",
            "0  0  0  0  0  0  0  0  0  0  0  0  0  81 24025325311925 0  0  0  0  0  0  0  0  0  \n",
            "0  0  0  0  0  0  0  0  0  0  0  0  0  0  45 18625325315027 0  0  0  0  0  0  0  0  \n",
            "0  0  0  0  0  0  0  0  0  0  0  0  0  0  0  16 93 2522531870  0  0  0  0  0  0  0  \n",
            "0  0  0  0  0  0  0  0  0  0  0  0  0  0  0  0  0  24925324964 0  0  0  0  0  0  0  \n",
            "0  0  0  0  0  0  0  0  0  0  0  0  0  0  46 1301832532532072  0  0  0  0  0  0  0  \n",
            "0  0  0  0  0  0  0  0  0  0  0  0  39 1482292532532532501820  0  0  0  0  0  0  0  \n",
            "0  0  0  0  0  0  0  0  0  0  24 11422125325325325320178 0  0  0  0  0  0  0  0  0  \n",
            "0  0  0  0  0  0  0  0  23 66 21325325325325319881 2  0  0  0  0  0  0  0  0  0  0  \n",
            "0  0  0  0  0  0  18 17121925325325325319580 9  0  0  0  0  0  0  0  0  0  0  0  0  \n",
            "0  0  0  0  55 17222625325325325324413311 0  0  0  0  0  0  0  0  0  0  0  0  0  0  \n",
            "0  0  0  0  13625325325321213513216 0  0  0  0  0  0  0  0  0  0  0  0  0  0  0  0  \n",
            "0  0  0  0  0  0  0  0  0  0  0  0  0  0  0  0  0  0  0  0  0  0  0  0  0  0  0  0  \n",
            "0  0  0  0  0  0  0  0  0  0  0  0  0  0  0  0  0  0  0  0  0  0  0  0  0  0  0  0  \n",
            "0  0  0  0  0  0  0  0  0  0  0  0  0  0  0  0  0  0  0  0  0  0  0  0  0  0  0  0  \n"
          ]
        }
      ]
    },
    {
      "cell_type": "code",
      "source": [
        "# 가로 28, 세로 28의 2차원 배열을 1차원으로 변환.\n",
        "x_train= x_train.reshape(x_train.shape[0], 784)"
      ],
      "metadata": {
        "id": "phxSyA4hMOmo"
      },
      "execution_count": 7,
      "outputs": []
    },
    {
      "cell_type": "code",
      "source": [
        "# 0~255 사이의 값으로 이루어진 값을 0~1 사이의 값으로 변환하기 위해 각 값을 255로 나눔.\n",
        "x_train= x_train.astype('float64')\n",
        "x_train= x_train/255\n",
        "\n",
        "x_test= x_test.reshape(x_test.shape[0], 784).astype('float64')/255"
      ],
      "metadata": {
        "id": "KIPEa6POMg8B"
      },
      "execution_count": 8,
      "outputs": []
    },
    {
      "cell_type": "code",
      "source": [
        "# 이미지의 숫자의 레이블이 무엇인지 확인.\n",
        "print('class: %d' % (y_train[0]))"
      ],
      "metadata": {
        "colab": {
          "base_uri": "https://localhost:8080/"
        },
        "id": "lU8SRJS0NmGQ",
        "outputId": "5205f65b-c8f7-4d4f-b827-64462802a8f3"
      },
      "execution_count": 9,
      "outputs": [
        {
          "output_type": "stream",
          "name": "stdout",
          "text": [
            "class: 5\n"
          ]
        }
      ]
    },
    {
      "cell_type": "code",
      "source": [
        "# 이미지의 클래스를 1차원 배열로 변환.(Ex [0,0,0,0,0,1...])\n",
        "y_train= np_utils.to_categorical(y_train, 10) # 'to_categorical=' 1차원으로 변환하는 함수.\n",
        "y_test= np_utils.to_categorical(y_test, 10)\n",
        "\n",
        "# 출력\n",
        "print(y_train[0])"
      ],
      "metadata": {
        "colab": {
          "base_uri": "https://localhost:8080/"
        },
        "id": "90aWh9rzOZbC",
        "outputId": "f02d5c33-b852-4933-eeb2-c14bf0861c21"
      },
      "execution_count": 10,
      "outputs": [
        {
          "output_type": "stream",
          "name": "stdout",
          "text": [
            "[0. 0. 0. 0. 0. 1. 0. 0. 0. 0.]\n"
          ]
        }
      ]
    },
    {
      "cell_type": "markdown",
      "source": [
        "2 기본 프레임 만들기"
      ],
      "metadata": {
        "id": "7ZUNgh-_S1qt"
      }
    },
    {
      "cell_type": "code",
      "source": [
        "from tensorflow.keras.callbacks import EarlyStopping, ModelCheckpoint\n",
        "from keras.utils.np_utils import to_categorical\n",
        "from tensorflow.keras.models import Sequential\n",
        "from tensorflow.keras.datasets import mnist\n",
        "from tensorflow.keras.layers import Dense\n",
        "\n",
        "import matplotlib.pyplot as plt\n",
        "import numpy as np\n",
        "import os"
      ],
      "metadata": {
        "id": "gJShI9qEXWRC"
      },
      "execution_count": 11,
      "outputs": []
    },
    {
      "cell_type": "code",
      "source": [
        "# MNIST 데이터 불러오기.\n",
        "(x_train, y_train), (x_test, y_test)= mnist.load_data()\n",
        "\n",
        "# 차원 변환 후, 테스트셋과 학습셋으로 분활.\n",
        "x_train= x_train.reshape(x_train.shape[0], 784).astype('float64')/255  \n",
        "x_test= x_test.reshape(x_test.shape[0], 784).astype('float64')/255  \n",
        "\n",
        "y_train= np_utils.to_categorical(y_train, 10) \n",
        "y_test= np_utils.to_categorical(y_test, 10)\n",
        "\n",
        "# 모델 구조 설정.\n",
        "model= Sequential()\n",
        "model.add(Dense(512, input_dim= 784, activation= 'relu'))\n",
        "model.add(Dense(10, activation= 'softmax'))\n",
        "model.summary()\n",
        "\n",
        "# 모델 실행 환경 설정.\n",
        "model.compile(loss= 'categorical_crossentropy', optimizer= 'adam',\n",
        "              metrics= ['accuracy'])\n",
        "\n",
        "# 모델 최적화.\n",
        "modelpath= './MNIST_MLP.hdf5'\n",
        "checkpointer= ModelCheckpoint(filepath= modelpath, monitor= 'val_loss',\n",
        "                              verbose= 1, save_best_only= True)\n",
        "early_stopping_callback= EarlyStopping(monitor= 'val_loss', patience= 10)\n",
        "\n",
        "# 모델 실행.\n",
        "history= model.fit(x_train, y_train, validation_split= .25,\n",
        "                   epochs= 30, batch_size= 200, verbose= 0,\n",
        "                   callbacks= [early_stopping_callback, checkpointer])\n",
        "\n",
        "# 테스트 정확도 출력.\n",
        "print('\\n Test Accuracy: %.4f' % (model.evaluate(x_test, y_test)[1]))\n",
        "\n",
        "# 검출셋과 학습셋의 오차 저장.\n",
        "y_vloss= history.history['val_loss']\n",
        "y_loss= history.history['loss']\n",
        "\n",
        "# 그래프로 표현.\n",
        "x_len= np.arange(len(y_loss))\n",
        "plt.plot(x_len, y_vloss, marker= '.', c= 'red', label= 'Testsets_loss')\n",
        "plt.plot(x_len, y_loss, marker= '.', c= 'green', label= 'Trainsets_loss')\n",
        "\n",
        "# 그래프에 그리드를 주고 레이블 표시.\n",
        "plt.legend(loc= 'upper right')\n",
        "plt.grid()\n",
        "plt.xlabel('epoch')\n",
        "plt.ylabel('loss')\n",
        "plt.show()"
      ],
      "metadata": {
        "colab": {
          "base_uri": "https://localhost:8080/",
          "height": 1000
        },
        "id": "n4Gc9eJUXtlk",
        "outputId": "eb2aafe4-b5fa-4fa9-8a53-1cf7f9b78731"
      },
      "execution_count": 12,
      "outputs": [
        {
          "output_type": "stream",
          "name": "stdout",
          "text": [
            "Model: \"sequential\"\n",
            "_________________________________________________________________\n",
            " Layer (type)                Output Shape              Param #   \n",
            "=================================================================\n",
            " dense (Dense)               (None, 512)               401920    \n",
            "                                                                 \n",
            " dense_1 (Dense)             (None, 10)                5130      \n",
            "                                                                 \n",
            "=================================================================\n",
            "Total params: 407,050\n",
            "Trainable params: 407,050\n",
            "Non-trainable params: 0\n",
            "_________________________________________________________________\n",
            "\n",
            "Epoch 1: val_loss improved from inf to 0.20078, saving model to ./MNIST_MLP.hdf5\n",
            "\n",
            "Epoch 2: val_loss improved from 0.20078 to 0.13525, saving model to ./MNIST_MLP.hdf5\n",
            "\n",
            "Epoch 3: val_loss improved from 0.13525 to 0.11022, saving model to ./MNIST_MLP.hdf5\n",
            "\n",
            "Epoch 4: val_loss improved from 0.11022 to 0.10037, saving model to ./MNIST_MLP.hdf5\n",
            "\n",
            "Epoch 5: val_loss improved from 0.10037 to 0.09610, saving model to ./MNIST_MLP.hdf5\n",
            "\n",
            "Epoch 6: val_loss improved from 0.09610 to 0.08651, saving model to ./MNIST_MLP.hdf5\n",
            "\n",
            "Epoch 7: val_loss improved from 0.08651 to 0.08500, saving model to ./MNIST_MLP.hdf5\n",
            "\n",
            "Epoch 8: val_loss improved from 0.08500 to 0.08045, saving model to ./MNIST_MLP.hdf5\n",
            "\n",
            "Epoch 9: val_loss did not improve from 0.08045\n",
            "\n",
            "Epoch 10: val_loss did not improve from 0.08045\n",
            "\n",
            "Epoch 11: val_loss improved from 0.08045 to 0.07844, saving model to ./MNIST_MLP.hdf5\n",
            "\n",
            "Epoch 12: val_loss did not improve from 0.07844\n",
            "\n",
            "Epoch 13: val_loss did not improve from 0.07844\n",
            "\n",
            "Epoch 14: val_loss did not improve from 0.07844\n",
            "\n",
            "Epoch 15: val_loss did not improve from 0.07844\n",
            "\n",
            "Epoch 16: val_loss did not improve from 0.07844\n",
            "\n",
            "Epoch 17: val_loss did not improve from 0.07844\n",
            "\n",
            "Epoch 18: val_loss did not improve from 0.07844\n",
            "\n",
            "Epoch 19: val_loss did not improve from 0.07844\n",
            "\n",
            "Epoch 20: val_loss did not improve from 0.07844\n",
            "\n",
            "Epoch 21: val_loss did not improve from 0.07844\n",
            "313/313 [==============================] - 1s 3ms/step - loss: 0.0696 - accuracy: 0.9802\n",
            "\n",
            " Test Accuracy: 0.9802\n"
          ]
        },
        {
          "output_type": "display_data",
          "data": {
            "text/plain": [
              "<Figure size 432x288 with 1 Axes>"
            ],
            "image/png": "[encoded data removed]"
          },
          "metadata": {
            "needs_background": "light"
          }
        }
      ]
    },
    {
      "cell_type": "markdown",
      "source": [
        "컨볼루션 신경망(CNN) 적용용"
      ],
      "metadata": {
        "id": "5O-DmLx8ZoCu"
      }
    },
    {
      "cell_type": "code",
      "source": [
        "from tensorflow.keras.layers import Dense, Dropout, Flatten, Conv2D, MaxPooling2D\n",
        "from tensorflow.keras.callbacks import EarlyStopping, ModelCheckpoint\n",
        "from keras.utils.np_utils import to_categorical\n",
        "from tensorflow.keras.models import Sequential\n",
        "from tensorflow.keras.datasets import mnist\n",
        "\n",
        "import matplotlib.pyplot as plt\n",
        "import numpy as np"
      ],
      "metadata": {
        "id": "rA2vScUXbKeA"
      },
      "execution_count": 13,
      "outputs": []
    },
    {
      "cell_type": "code",
      "source": [
        "# 데이터 불러오기.\n",
        "(x_train, y_train), (x_test, y_test)= mnist.load_data()\n",
        "x_train= x_train.reshape(x_train.shape[0], 28, 28, 1).astype('float64')/255  \n",
        "x_test= x_test.reshape(x_test.shape[0], 28, 28, 1).astype('float64')/255  \n",
        "y_train= np_utils.to_categorical(y_train, 10) \n",
        "y_test= np_utils.to_categorical(y_test, 10)\n",
        "\n",
        "# 컨볼루션 신경망의 설정.\n",
        "model= Sequential()\n",
        "model.add(Conv2D(32, kernel_size= (3, 3), input_shape= (28, 28, 1),\n",
        "                 activation= 'relu'))\n",
        "model.add(Conv2D(64, (3, 3), activation= 'relu'))\n",
        "model.add(MaxPooling2D(pool_size= (2,2)))\n",
        "model.add(Dropout(.25))\n",
        "model.add(Flatten())\n",
        "model.add(Dense(128, activation= 'relu'))\n",
        "model.add(Dropout(.5))\n",
        "model.add(Dense(10, activation= 'softmax'))\n",
        "\n",
        "# 모델의 실행 옵션 설정.\n",
        "model.compile(loss= 'categorical_crossentropy', optimizer= 'adam',\n",
        "              metrics= ['accuracy'])\n",
        "\n",
        "# 모델 최적화 설정.\n",
        "modelpath= './MNIST_CNN.hdf5'\n",
        "checkpointer= ModelCheckpoint(filepath= modelpath, monitor= 'val_loss',\n",
        "                              verbose= 1, save_best_only= True)\n",
        "early_stopping_callback= EarlyStopping(monitor= 'val_loss', patience= 10)\n",
        "\n",
        "# 모델 실행.\n",
        "history= model.fit(x_train, y_train, validation_split= .25,\n",
        "                   epochs= 30, batch_size= 200, verbose= 0,\n",
        "                   callbacks= [early_stopping_callback, checkpointer])\n",
        "\n",
        "# 테스트 정확도 출력.\n",
        "print('\\n Test Accuracy: %.4f' % (model.evaluate(x_test, y_test)[1]))\n",
        "\n",
        "# 검증셋과 학습셋의 오차 저장.\n",
        "y_vloss= history.history['val_loss']\n",
        "y_loss= history.history['loss']\n",
        "\n",
        "# 그래프로 표현.\n",
        "x_len= np.arange(len(y_loss))\n",
        "plt.plot(x_len, y_vloss, marker= '.', c= 'red', label= 'Testsets_loss')\n",
        "plt.plot(x_len, y_loss, marker= '.', c= 'green', label= 'Trainsets_loss')\n",
        "\n",
        "# 그래프에 그리드를 주고 레이블 표시.\n",
        "plt.legend(loc= 'upper right')\n",
        "plt.grid()\n",
        "plt.xlabel('epoch')\n",
        "plt.ylabel('loss')\n",
        "plt.show()"
      ],
      "metadata": {
        "colab": {
          "base_uri": "https://localhost:8080/",
          "height": 1000
        },
        "id": "T4bRNx1KdJva",
        "outputId": "3c9c0436-029d-4efa-e009-0acacae3ac71"
      },
      "execution_count": 14,
      "outputs": [
        {
          "output_type": "stream",
          "name": "stdout",
          "text": [
            "\n",
            "Epoch 1: val_loss improved from inf to 0.08650, saving model to ./MNIST_CNN.hdf5\n",
            "\n",
            "Epoch 2: val_loss improved from 0.08650 to 0.05832, saving model to ./MNIST_CNN.hdf5\n",
            "\n",
            "Epoch 3: val_loss improved from 0.05832 to 0.04727, saving model to ./MNIST_CNN.hdf5\n",
            "\n",
            "Epoch 4: val_loss improved from 0.04727 to 0.04370, saving model to ./MNIST_CNN.hdf5\n",
            "\n",
            "Epoch 5: val_loss did not improve from 0.04370\n",
            "\n",
            "Epoch 6: val_loss did not improve from 0.04370\n",
            "\n",
            "Epoch 7: val_loss improved from 0.04370 to 0.04160, saving model to ./MNIST_CNN.hdf5\n",
            "\n",
            "Epoch 8: val_loss did not improve from 0.04160\n",
            "\n",
            "Epoch 9: val_loss did not improve from 0.04160\n",
            "\n",
            "Epoch 10: val_loss improved from 0.04160 to 0.04149, saving model to ./MNIST_CNN.hdf5\n",
            "\n",
            "Epoch 11: val_loss improved from 0.04149 to 0.04088, saving model to ./MNIST_CNN.hdf5\n",
            "\n",
            "Epoch 12: val_loss did not improve from 0.04088\n",
            "\n",
            "Epoch 13: val_loss did not improve from 0.04088\n",
            "\n",
            "Epoch 14: val_loss did not improve from 0.04088\n",
            "\n",
            "Epoch 15: val_loss did not improve from 0.04088\n",
            "\n",
            "Epoch 16: val_loss did not improve from 0.04088\n",
            "\n",
            "Epoch 17: val_loss improved from 0.04088 to 0.03883, saving model to ./MNIST_CNN.hdf5\n",
            "\n",
            "Epoch 18: val_loss did not improve from 0.03883\n",
            "\n",
            "Epoch 19: val_loss did not improve from 0.03883\n",
            "\n",
            "Epoch 20: val_loss did not improve from 0.03883\n",
            "\n",
            "Epoch 21: val_loss did not improve from 0.03883\n",
            "\n",
            "Epoch 22: val_loss did not improve from 0.03883\n",
            "\n",
            "Epoch 23: val_loss did not improve from 0.03883\n",
            "\n",
            "Epoch 24: val_loss did not improve from 0.03883\n",
            "\n",
            "Epoch 25: val_loss did not improve from 0.03883\n",
            "\n",
            "Epoch 26: val_loss did not improve from 0.03883\n",
            "\n",
            "Epoch 27: val_loss did not improve from 0.03883\n",
            "313/313 [==============================] - 2s 4ms/step - loss: 0.0351 - accuracy: 0.9914\n",
            "\n",
            " Test Accuracy: 0.9914\n"
          ]
        },
        {
          "output_type": "display_data",
          "data": {
            "text/plain": [
              "<Figure size 432x288 with 1 Axes>"
            ],
            "image/png": "[encoded data removed]"
          },
          "metadata": {
            "needs_background": "light"
          }
        }
      ]
    }
  ]
}