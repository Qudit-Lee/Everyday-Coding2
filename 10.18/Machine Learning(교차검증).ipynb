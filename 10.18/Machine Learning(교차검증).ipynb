{
 "cells": [
  {
   "cell_type": "markdown",
   "id": "a42234b1",
   "metadata": {},
   "source": [
    "### 회귀"
   ]
  },
  {
   "cell_type": "markdown",
   "id": "38828aaa",
   "metadata": {},
   "source": [
    "#### K-Fold"
   ]
  },
  {
   "cell_type": "code",
   "execution_count": 1,
   "id": "50a36c5f",
   "metadata": {},
   "outputs": [],
   "source": [
    "import numpy as np\n",
    "import pandas as pd\n",
    "from sklearn.model_selection import KFold"
   ]
  },
  {
   "cell_type": "code",
   "execution_count": 2,
   "id": "ef72a313",
   "metadata": {},
   "outputs": [],
   "source": [
    "x_data= np.array([\n",
    "    [2, 1],\n",
    "    [3, 2],\n",
    "    [3, 4],\n",
    "    [5, 5],\n",
    "    [7, 5],\n",
    "    [2, 5],\n",
    "    [8, 9],\n",
    "    [9, 10],\n",
    "    [6, 12],\n",
    "    [9, 2],\n",
    "    [6, 10],\n",
    "    [2, 4]\n",
    "])"
   ]
  },
  {
   "cell_type": "code",
   "execution_count": 3,
   "id": "13cbba0a",
   "metadata": {},
   "outputs": [],
   "source": [
    "kf= KFold(n_splits= 5)"
   ]
  },
  {
   "cell_type": "code",
   "execution_count": 4,
   "id": "f117af0b",
   "metadata": {
    "scrolled": true
   },
   "outputs": [
    {
     "name": "stdout",
     "output_type": "stream",
     "text": [
      "tarin_index:  [ 3  4  5  6  7  8  9 10 11]\n",
      "test_index:  [0 1 2]\n",
      "tarin_index:  [ 0  1  2  6  7  8  9 10 11]\n",
      "test_index:  [3 4 5]\n",
      "tarin_index:  [ 0  1  2  3  4  5  8  9 10 11]\n",
      "test_index:  [6 7]\n",
      "tarin_index:  [ 0  1  2  3  4  5  6  7 10 11]\n",
      "test_index:  [8 9]\n",
      "tarin_index:  [0 1 2 3 4 5 6 7 8 9]\n",
      "test_index:  [10 11]\n"
     ]
    }
   ],
   "source": [
    "for tarin_index, test_index in kf.split(x_data):\n",
    "    print('tarin_index: ', tarin_index)\n",
    "    print('test_index: ', test_index)"
   ]
  },
  {
   "cell_type": "markdown",
   "id": "7e372a01",
   "metadata": {},
   "source": [
    "### K-Fold 교차검증 -> 보통 회귀 문제에 사용\n",
    "- 학습 데이터와 테스트 데이터를 k개의 세트로 나눠 검증하는 방법\n",
    "- 데이터 셋이 굉장히 적을 때 훈련 데이터를 어떻게든 최대한 늘리기 위해 사용하는 것\n",
    "- 여려 개의 훈련 데이터, 테스트 데이터 짝으로 검증"
   ]
  },
  {
   "cell_type": "code",
   "execution_count": 5,
   "id": "2e4d16cd",
   "metadata": {},
   "outputs": [],
   "source": [
    "from sklearn.model_selection import train_test_split\n",
    "from sklearn.linear_model import LinearRegression"
   ]
  },
  {
   "cell_type": "code",
   "execution_count": 6,
   "id": "3bef0e4b",
   "metadata": {},
   "outputs": [],
   "source": [
    "x_data= np.array([\n",
    "    [2, 1],\n",
    "    [3, 2],\n",
    "    [3, 4],\n",
    "    [5, 5],\n",
    "    [7, 5],\n",
    "    [2, 5],\n",
    "    [8, 9],\n",
    "    [9, 10],\n",
    "    [6, 12],\n",
    "    [9, 2],\n",
    "    [6, 10],\n",
    "    [2, 4]\n",
    "])"
   ]
  },
  {
   "cell_type": "code",
   "execution_count": 7,
   "id": "68f6749c",
   "metadata": {},
   "outputs": [],
   "source": [
    "y_data= np.array([3, 5, 7, 10, 12, 7, 13, 13, 12, 13, 12, 6])"
   ]
  },
  {
   "cell_type": "code",
   "execution_count": 8,
   "id": "fa12dd1e",
   "metadata": {},
   "outputs": [],
   "source": [
    "lr= LinearRegression()"
   ]
  },
  {
   "cell_type": "code",
   "execution_count": 9,
   "id": "27068b3d",
   "metadata": {},
   "outputs": [
    {
     "name": "stdout",
     "output_type": "stream",
     "text": [
      "[0.9522707858769932, 0.9469593697441799, 0.9446524178499608, 0.9232432525564045, 0.9166499001004778]\n",
      "[-1.1475590101753324, 0.56847222331606, 0.0, -11.7747639790487, 0.9602035173350366]\n"
     ]
    }
   ],
   "source": [
    "train_scores= []\n",
    "test_scores=[]\n",
    "\n",
    "kf= KFold(n_splits= 5)\n",
    "\n",
    "for train_index, test_index in kf.split(x_data):\n",
    "    x_train= np.array(x_data)[train_index]\n",
    "    y_train= np.array(y_data)[train_index]\n",
    "    x_test= np.array(x_data)[test_index]\n",
    "    y_test= np.array(y_data)[test_index]\n",
    "    \n",
    "    lr= LinearRegression().fit(x_train, y_train)\n",
    "    score= lr.score(x_train, y_train)\n",
    "    train_scores.append(score)\n",
    "    \n",
    "    score_test= lr.score(x_test, y_test)\n",
    "    test_scores.append(score_test)\n",
    "    \n",
    "print(train_scores)\n",
    "print(test_scores)"
   ]
  },
  {
   "cell_type": "code",
   "execution_count": 10,
   "id": "e30b08c7",
   "metadata": {},
   "outputs": [
    {
     "name": "stdout",
     "output_type": "stream",
     "text": [
      "0.9367551452256032\n",
      "-2.278729449714587\n"
     ]
    }
   ],
   "source": [
    "print(np.array(train_scores).mean())\n",
    "print(np.array(test_scores).mean())"
   ]
  },
  {
   "cell_type": "code",
   "execution_count": 11,
   "id": "6c293ad6",
   "metadata": {},
   "outputs": [],
   "source": [
    "lr.fit(x_data, y_data)\n",
    "\n",
    "x_test= np.array([\n",
    "    [4,6]\n",
    "])\n",
    "\n",
    "y_predict= lr.predict(x_test)"
   ]
  },
  {
   "cell_type": "code",
   "execution_count": 12,
   "id": "78a538e6",
   "metadata": {},
   "outputs": [
    {
     "data": {
      "text/plain": [
       "array([8.27950438])"
      ]
     },
     "execution_count": 12,
     "metadata": {},
     "output_type": "execute_result"
    }
   ],
   "source": [
    "y_predict"
   ]
  },
  {
   "cell_type": "markdown",
   "id": "6eae4293",
   "metadata": {},
   "source": [
    "### 계층별 K-겹 교차검증(Stratified K-Fold crss validation)\n",
    "- 분류 모델에 적용\n",
    "- K-겹 교차검증은 K-Fold가 원본 데이터 집합의 레이블 분포를 학습 및 검증 데이터 세트에 \n",
    "  제대로 분배 하지 못하는 문제를 해결해주고, 레이블에 속성 값의 개수를 골고루 넣어줌\n",
    "  \n",
    "  (x와 y의 데이터 1000개이고, 그 중 y의 데이터가 0: 800개, 1: 200개를 가지고 있을 때\n",
    "   y의 값이 한 곳에 몰린 것이 아니라 8:2라는 비율로 골고루 분배가 됨)"
   ]
  },
  {
   "cell_type": "code",
   "execution_count": 13,
   "id": "7213d83c",
   "metadata": {},
   "outputs": [],
   "source": [
    "from sklearn.model_selection import cross_val_score, StratifiedKFold\n",
    "from sklearn.linear_model import LogisticRegression\n",
    "from sklearn.metrics import accuracy_score\n",
    "from sklearn.datasets import load_iris"
   ]
  },
  {
   "cell_type": "code",
   "execution_count": 14,
   "id": "829f36a5",
   "metadata": {},
   "outputs": [],
   "source": [
    "iris= load_iris()"
   ]
  },
  {
   "cell_type": "code",
   "execution_count": 15,
   "id": "82b6a33e",
   "metadata": {},
   "outputs": [],
   "source": [
    "lr= LogisticRegression()"
   ]
  },
  {
   "cell_type": "code",
   "execution_count": 16,
   "id": "1b96978f",
   "metadata": {},
   "outputs": [],
   "source": [
    "skf= StratifiedKFold(n_splits= 5, random_state= 3, shuffle= True)"
   ]
  },
  {
   "cell_type": "code",
   "execution_count": 17,
   "id": "c703fbdd",
   "metadata": {},
   "outputs": [],
   "source": [
    "x= iris.data\n",
    "y= iris.target"
   ]
  },
  {
   "cell_type": "code",
   "execution_count": 18,
   "id": "ef2dbf41",
   "metadata": {},
   "outputs": [
    {
     "name": "stdout",
     "output_type": "stream",
     "text": [
      "1번째 교차 검증 정확도: 1.0 \n",
      " 학습 데이터 크기: 120 \n",
      " 검증 데이터 크기: 30\n",
      "2번째 교차 검증 정확도: 0.9667 \n",
      " 학습 데이터 크기: 120 \n",
      " 검증 데이터 크기: 30\n",
      "3번째 교차 검증 정확도: 0.9 \n",
      " 학습 데이터 크기: 120 \n",
      " 검증 데이터 크기: 30\n",
      "4번째 교차 검증 정확도: 1.0 \n",
      " 학습 데이터 크기: 120 \n",
      " 검증 데이터 크기: 30\n",
      "5번째 교차 검증 정확도: 0.9667 \n",
      " 학습 데이터 크기: 120 \n",
      " 검증 데이터 크기: 30\n"
     ]
    },
    {
     "name": "stderr",
     "output_type": "stream",
     "text": [
      "C:\\Users\\user\\anaconda3\\lib\\site-packages\\sklearn\\linear_model\\_logistic.py:814: ConvergenceWarning: lbfgs failed to converge (status=1):\n",
      "STOP: TOTAL NO. of ITERATIONS REACHED LIMIT.\n",
      "\n",
      "Increase the number of iterations (max_iter) or scale the data as shown in:\n",
      "    https://scikit-learn.org/stable/modules/preprocessing.html\n",
      "Please also refer to the documentation for alternative solver options:\n",
      "    https://scikit-learn.org/stable/modules/linear_model.html#logistic-regression\n",
      "  n_iter_i = _check_optimize_result(\n",
      "C:\\Users\\user\\anaconda3\\lib\\site-packages\\sklearn\\linear_model\\_logistic.py:814: ConvergenceWarning: lbfgs failed to converge (status=1):\n",
      "STOP: TOTAL NO. of ITERATIONS REACHED LIMIT.\n",
      "\n",
      "Increase the number of iterations (max_iter) or scale the data as shown in:\n",
      "    https://scikit-learn.org/stable/modules/preprocessing.html\n",
      "Please also refer to the documentation for alternative solver options:\n",
      "    https://scikit-learn.org/stable/modules/linear_model.html#logistic-regression\n",
      "  n_iter_i = _check_optimize_result(\n",
      "C:\\Users\\user\\anaconda3\\lib\\site-packages\\sklearn\\linear_model\\_logistic.py:814: ConvergenceWarning: lbfgs failed to converge (status=1):\n",
      "STOP: TOTAL NO. of ITERATIONS REACHED LIMIT.\n",
      "\n",
      "Increase the number of iterations (max_iter) or scale the data as shown in:\n",
      "    https://scikit-learn.org/stable/modules/preprocessing.html\n",
      "Please also refer to the documentation for alternative solver options:\n",
      "    https://scikit-learn.org/stable/modules/linear_model.html#logistic-regression\n",
      "  n_iter_i = _check_optimize_result(\n",
      "C:\\Users\\user\\anaconda3\\lib\\site-packages\\sklearn\\linear_model\\_logistic.py:814: ConvergenceWarning: lbfgs failed to converge (status=1):\n",
      "STOP: TOTAL NO. of ITERATIONS REACHED LIMIT.\n",
      "\n",
      "Increase the number of iterations (max_iter) or scale the data as shown in:\n",
      "    https://scikit-learn.org/stable/modules/preprocessing.html\n",
      "Please also refer to the documentation for alternative solver options:\n",
      "    https://scikit-learn.org/stable/modules/linear_model.html#logistic-regression\n",
      "  n_iter_i = _check_optimize_result(\n"
     ]
    }
   ],
   "source": [
    "idx_iter= 0\n",
    "cv_accuracy= []\n",
    "\n",
    "for train_index, test_index in skf.split(x, y):\n",
    "    \n",
    "    x_train, x_test= x[train_index], x[test_index]\n",
    "    y_train, y_test= y[train_index], y[test_index]\n",
    "    \n",
    "    lr.fit(x_train, y_train)\n",
    "    pred= lr.predict(x_test)\n",
    "    \n",
    "    idx_iter += 1 \n",
    "    accuracy= np.round(accuracy_score(y_test, pred), 4)\n",
    "    train_size= x_train.shape[0]\n",
    "    test_size= x_test.shape[0]\n",
    "    \n",
    "    print('{0}번째 교차 검증 정확도: {1} \\n 학습 데이터 크기: {2} \\n 검증 데이터 크기: {3}'.format(idx_iter,\n",
    "                                                                                                   accuracy,\n",
    "                                                                                                   train_size,\n",
    "                                                                                                   test_size))\n",
    "    \n",
    "    cv_accuracy.append(accuracy)"
   ]
  },
  {
   "cell_type": "code",
   "execution_count": 19,
   "id": "c2f08e25",
   "metadata": {},
   "outputs": [
    {
     "name": "stdout",
     "output_type": "stream",
     "text": [
      "교차 검증별 정확도:  [1.     0.9667 0.9    1.     0.9667]\n",
      "평균 검증 정확도:  0.96668\n"
     ]
    }
   ],
   "source": [
    "print('교차 검증별 정확도: ', np.round(cv_accuracy, 4))\n",
    "print('평균 검증 정확도: ', np.mean(cv_accuracy))"
   ]
  },
  {
   "cell_type": "markdown",
   "id": "6ead2e75",
   "metadata": {},
   "source": [
    "<교차 검증의 장점>\n",
    "1. test set에 데이터가 최소 한 번씩 들어가기 때문에 모델이 더 잘 일반화 됨\n",
    "2. 분활을 한 번 했을 때보다 데이터를 더 효과적으로 사용하기에 보다 더 정확한 모델을 만들 수 있음\n",
    "\n",
    "<교차 검증의 단점>\n",
    "1. 연산 비용이 늘어남(k개의 모델을 만들어야 함으로 데이터를 한 번 나눴을 때보다 느리다"
   ]
  },
  {
   "cell_type": "code",
   "execution_count": null,
   "id": "1bbc2ff5",
   "metadata": {},
   "outputs": [],
   "source": []
  }
 ],
 "metadata": {
  "kernelspec": {
   "display_name": "Python 3 (ipykernel)",
   "language": "python",
   "name": "python3"
  },
  "language_info": {
   "codemirror_mode": {
    "name": "ipython",
    "version": 3
   },
   "file_extension": ".py",
   "mimetype": "text/x-python",
   "name": "python",
   "nbconvert_exporter": "python",
   "pygments_lexer": "ipython3",
   "version": "3.9.12"
  }
 },
 "nbformat": 4,
 "nbformat_minor": 5
}
