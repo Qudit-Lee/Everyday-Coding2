{
 "cells": [
  {
   "cell_type": "markdown",
   "id": "6ace7b10",
   "metadata": {},
   "source": [
    "### 1. 문제 정의 - 당뇨병을 예측"
   ]
  },
  {
   "cell_type": "code",
   "execution_count": 1,
   "id": "341c743d",
   "metadata": {},
   "outputs": [],
   "source": [
    "import pandas as pd\n",
    "from sklearn.ensemble import RandomForestClassifier\n",
    "from sklearn.metrics import r2_score\n",
    "import numpy as np"
   ]
  },
  {
   "cell_type": "markdown",
   "id": "dd2626c2",
   "metadata": {},
   "source": [
    "### 2. 데이터 수집"
   ]
  },
  {
   "cell_type": "code",
   "execution_count": 2,
   "id": "1f9a0915",
   "metadata": {},
   "outputs": [],
   "source": [
    "train_df= pd.read_excel('당뇨병.xlsx', sheet_name= 'train')\n",
    "test_df= pd.read_excel('당뇨병.xlsx', sheet_name= 'test')"
   ]
  },
  {
   "cell_type": "code",
   "execution_count": 3,
   "id": "ae1c6ef7",
   "metadata": {
    "scrolled": true
   },
   "outputs": [
    {
     "data": {
      "text/html": [
       "<div>\n",
       "<style scoped>\n",
       "    .dataframe tbody tr th:only-of-type {\n",
       "        vertical-align: middle;\n",
       "    }\n",
       "\n",
       "    .dataframe tbody tr th {\n",
       "        vertical-align: top;\n",
       "    }\n",
       "\n",
       "    .dataframe thead th {\n",
       "        text-align: right;\n",
       "    }\n",
       "</style>\n",
       "<table border=\"1\" class=\"dataframe\">\n",
       "  <thead>\n",
       "    <tr style=\"text-align: right;\">\n",
       "      <th></th>\n",
       "      <th>ID</th>\n",
       "      <th>임신</th>\n",
       "      <th>글루코스(탄수화물 화합물)</th>\n",
       "      <th>혈압</th>\n",
       "      <th>피부두께</th>\n",
       "      <th>인슐린</th>\n",
       "      <th>BMI</th>\n",
       "      <th>가족력</th>\n",
       "      <th>나이</th>\n",
       "      <th>당뇨여부</th>\n",
       "    </tr>\n",
       "  </thead>\n",
       "  <tbody>\n",
       "    <tr>\n",
       "      <th>0</th>\n",
       "      <td>1</td>\n",
       "      <td>6</td>\n",
       "      <td>148</td>\n",
       "      <td>72</td>\n",
       "      <td>35</td>\n",
       "      <td>0</td>\n",
       "      <td>33.6</td>\n",
       "      <td>0.627</td>\n",
       "      <td>50</td>\n",
       "      <td>1</td>\n",
       "    </tr>\n",
       "    <tr>\n",
       "      <th>1</th>\n",
       "      <td>3</td>\n",
       "      <td>1</td>\n",
       "      <td>89</td>\n",
       "      <td>66</td>\n",
       "      <td>23</td>\n",
       "      <td>94</td>\n",
       "      <td>28.1</td>\n",
       "      <td>0.167</td>\n",
       "      <td>21</td>\n",
       "      <td>0</td>\n",
       "    </tr>\n",
       "    <tr>\n",
       "      <th>2</th>\n",
       "      <td>4</td>\n",
       "      <td>0</td>\n",
       "      <td>137</td>\n",
       "      <td>40</td>\n",
       "      <td>35</td>\n",
       "      <td>168</td>\n",
       "      <td>43.1</td>\n",
       "      <td>2.288</td>\n",
       "      <td>33</td>\n",
       "      <td>1</td>\n",
       "    </tr>\n",
       "    <tr>\n",
       "      <th>3</th>\n",
       "      <td>6</td>\n",
       "      <td>2</td>\n",
       "      <td>197</td>\n",
       "      <td>70</td>\n",
       "      <td>45</td>\n",
       "      <td>543</td>\n",
       "      <td>30.5</td>\n",
       "      <td>0.158</td>\n",
       "      <td>53</td>\n",
       "      <td>1</td>\n",
       "    </tr>\n",
       "    <tr>\n",
       "      <th>4</th>\n",
       "      <td>8</td>\n",
       "      <td>5</td>\n",
       "      <td>166</td>\n",
       "      <td>72</td>\n",
       "      <td>19</td>\n",
       "      <td>175</td>\n",
       "      <td>25.8</td>\n",
       "      <td>0.587</td>\n",
       "      <td>51</td>\n",
       "      <td>1</td>\n",
       "    </tr>\n",
       "  </tbody>\n",
       "</table>\n",
       "</div>"
      ],
      "text/plain": [
       "   ID  임신  글루코스(탄수화물 화합물)  혈압  피부두께  인슐린   BMI    가족력  나이  당뇨여부\n",
       "0   1   6             148  72    35    0  33.6  0.627  50     1\n",
       "1   3   1              89  66    23   94  28.1  0.167  21     0\n",
       "2   4   0             137  40    35  168  43.1  2.288  33     1\n",
       "3   6   2             197  70    45  543  30.5  0.158  53     1\n",
       "4   8   5             166  72    19  175  25.8  0.587  51     1"
      ]
     },
     "execution_count": 3,
     "metadata": {},
     "output_type": "execute_result"
    }
   ],
   "source": [
    "train_df.head()"
   ]
  },
  {
   "cell_type": "code",
   "execution_count": 4,
   "id": "4947c2e4",
   "metadata": {},
   "outputs": [
    {
     "data": {
      "text/html": [
       "<div>\n",
       "<style scoped>\n",
       "    .dataframe tbody tr th:only-of-type {\n",
       "        vertical-align: middle;\n",
       "    }\n",
       "\n",
       "    .dataframe tbody tr th {\n",
       "        vertical-align: top;\n",
       "    }\n",
       "\n",
       "    .dataframe thead th {\n",
       "        text-align: right;\n",
       "    }\n",
       "</style>\n",
       "<table border=\"1\" class=\"dataframe\">\n",
       "  <thead>\n",
       "    <tr style=\"text-align: right;\">\n",
       "      <th></th>\n",
       "      <th>ID</th>\n",
       "      <th>임신</th>\n",
       "      <th>글루코스(탄수화물 화합물)</th>\n",
       "      <th>혈압</th>\n",
       "      <th>피부두께</th>\n",
       "      <th>인슐린</th>\n",
       "      <th>BMI</th>\n",
       "      <th>가족력</th>\n",
       "      <th>나이</th>\n",
       "      <th>당뇨여부</th>\n",
       "    </tr>\n",
       "  </thead>\n",
       "  <tbody>\n",
       "    <tr>\n",
       "      <th>0</th>\n",
       "      <td>2</td>\n",
       "      <td>1</td>\n",
       "      <td>85</td>\n",
       "      <td>66</td>\n",
       "      <td>29</td>\n",
       "      <td>0</td>\n",
       "      <td>26.6</td>\n",
       "      <td>0.351</td>\n",
       "      <td>31</td>\n",
       "      <td>0</td>\n",
       "    </tr>\n",
       "    <tr>\n",
       "      <th>1</th>\n",
       "      <td>5</td>\n",
       "      <td>3</td>\n",
       "      <td>78</td>\n",
       "      <td>50</td>\n",
       "      <td>32</td>\n",
       "      <td>88</td>\n",
       "      <td>31.0</td>\n",
       "      <td>0.248</td>\n",
       "      <td>26</td>\n",
       "      <td>1</td>\n",
       "    </tr>\n",
       "    <tr>\n",
       "      <th>2</th>\n",
       "      <td>7</td>\n",
       "      <td>1</td>\n",
       "      <td>189</td>\n",
       "      <td>60</td>\n",
       "      <td>23</td>\n",
       "      <td>846</td>\n",
       "      <td>30.1</td>\n",
       "      <td>0.398</td>\n",
       "      <td>59</td>\n",
       "      <td>1</td>\n",
       "    </tr>\n",
       "    <tr>\n",
       "      <th>3</th>\n",
       "      <td>9</td>\n",
       "      <td>0</td>\n",
       "      <td>118</td>\n",
       "      <td>84</td>\n",
       "      <td>47</td>\n",
       "      <td>230</td>\n",
       "      <td>45.8</td>\n",
       "      <td>0.551</td>\n",
       "      <td>31</td>\n",
       "      <td>1</td>\n",
       "    </tr>\n",
       "    <tr>\n",
       "      <th>4</th>\n",
       "      <td>10</td>\n",
       "      <td>1</td>\n",
       "      <td>103</td>\n",
       "      <td>30</td>\n",
       "      <td>38</td>\n",
       "      <td>83</td>\n",
       "      <td>43.3</td>\n",
       "      <td>0.183</td>\n",
       "      <td>33</td>\n",
       "      <td>0</td>\n",
       "    </tr>\n",
       "  </tbody>\n",
       "</table>\n",
       "</div>"
      ],
      "text/plain": [
       "   ID  임신  글루코스(탄수화물 화합물)  혈압  피부두께  인슐린   BMI    가족력  나이  당뇨여부\n",
       "0   2   1              85  66    29    0  26.6  0.351  31     0\n",
       "1   5   3              78  50    32   88  31.0  0.248  26     1\n",
       "2   7   1             189  60    23  846  30.1  0.398  59     1\n",
       "3   9   0             118  84    47  230  45.8  0.551  31     1\n",
       "4  10   1             103  30    38   83  43.3  0.183  33     0"
      ]
     },
     "execution_count": 4,
     "metadata": {},
     "output_type": "execute_result"
    }
   ],
   "source": [
    "test_df.head()"
   ]
  },
  {
   "cell_type": "code",
   "execution_count": 5,
   "id": "7478f658",
   "metadata": {},
   "outputs": [],
   "source": [
    "labels= ['정상', '당뇨']"
   ]
  },
  {
   "cell_type": "code",
   "execution_count": 6,
   "id": "0c596d3c",
   "metadata": {},
   "outputs": [],
   "source": [
    "x_train= train_df.drop(['ID', '당뇨여부'], axis= 1)\n",
    "x_test= test_df.drop(['ID', '당뇨여부'], axis= 1)\n",
    "y_train= train_df['당뇨여부']\n",
    "y_test= test_df['당뇨여부']"
   ]
  },
  {
   "cell_type": "code",
   "execution_count": 7,
   "id": "1beead43",
   "metadata": {},
   "outputs": [
    {
     "data": {
      "text/html": [
       "<div>\n",
       "<style scoped>\n",
       "    .dataframe tbody tr th:only-of-type {\n",
       "        vertical-align: middle;\n",
       "    }\n",
       "\n",
       "    .dataframe tbody tr th {\n",
       "        vertical-align: top;\n",
       "    }\n",
       "\n",
       "    .dataframe thead th {\n",
       "        text-align: right;\n",
       "    }\n",
       "</style>\n",
       "<table border=\"1\" class=\"dataframe\">\n",
       "  <thead>\n",
       "    <tr style=\"text-align: right;\">\n",
       "      <th></th>\n",
       "      <th>임신</th>\n",
       "      <th>글루코스(탄수화물 화합물)</th>\n",
       "      <th>혈압</th>\n",
       "      <th>피부두께</th>\n",
       "      <th>인슐린</th>\n",
       "      <th>BMI</th>\n",
       "      <th>가족력</th>\n",
       "      <th>나이</th>\n",
       "    </tr>\n",
       "  </thead>\n",
       "  <tbody>\n",
       "    <tr>\n",
       "      <th>0</th>\n",
       "      <td>6</td>\n",
       "      <td>148</td>\n",
       "      <td>72</td>\n",
       "      <td>35</td>\n",
       "      <td>0</td>\n",
       "      <td>33.6</td>\n",
       "      <td>0.627</td>\n",
       "      <td>50</td>\n",
       "    </tr>\n",
       "    <tr>\n",
       "      <th>1</th>\n",
       "      <td>1</td>\n",
       "      <td>89</td>\n",
       "      <td>66</td>\n",
       "      <td>23</td>\n",
       "      <td>94</td>\n",
       "      <td>28.1</td>\n",
       "      <td>0.167</td>\n",
       "      <td>21</td>\n",
       "    </tr>\n",
       "    <tr>\n",
       "      <th>2</th>\n",
       "      <td>0</td>\n",
       "      <td>137</td>\n",
       "      <td>40</td>\n",
       "      <td>35</td>\n",
       "      <td>168</td>\n",
       "      <td>43.1</td>\n",
       "      <td>2.288</td>\n",
       "      <td>33</td>\n",
       "    </tr>\n",
       "    <tr>\n",
       "      <th>3</th>\n",
       "      <td>2</td>\n",
       "      <td>197</td>\n",
       "      <td>70</td>\n",
       "      <td>45</td>\n",
       "      <td>543</td>\n",
       "      <td>30.5</td>\n",
       "      <td>0.158</td>\n",
       "      <td>53</td>\n",
       "    </tr>\n",
       "    <tr>\n",
       "      <th>4</th>\n",
       "      <td>5</td>\n",
       "      <td>166</td>\n",
       "      <td>72</td>\n",
       "      <td>19</td>\n",
       "      <td>175</td>\n",
       "      <td>25.8</td>\n",
       "      <td>0.587</td>\n",
       "      <td>51</td>\n",
       "    </tr>\n",
       "  </tbody>\n",
       "</table>\n",
       "</div>"
      ],
      "text/plain": [
       "   임신  글루코스(탄수화물 화합물)  혈압  피부두께  인슐린   BMI    가족력  나이\n",
       "0   6             148  72    35    0  33.6  0.627  50\n",
       "1   1              89  66    23   94  28.1  0.167  21\n",
       "2   0             137  40    35  168  43.1  2.288  33\n",
       "3   2             197  70    45  543  30.5  0.158  53\n",
       "4   5             166  72    19  175  25.8  0.587  51"
      ]
     },
     "execution_count": 7,
     "metadata": {},
     "output_type": "execute_result"
    }
   ],
   "source": [
    "x_train.head()"
   ]
  },
  {
   "cell_type": "markdown",
   "id": "d8fdaac1",
   "metadata": {},
   "source": [
    "### 3. 모델링\n",
    "\n",
    "#### random forest"
   ]
  },
  {
   "cell_type": "code",
   "execution_count": 8,
   "id": "d0a6638e",
   "metadata": {},
   "outputs": [
    {
     "name": "stdout",
     "output_type": "stream",
     "text": [
      "1.0\n",
      "0.7453416149068323\n"
     ]
    }
   ],
   "source": [
    "rf= RandomForestClassifier()\n",
    "#rf= RandomForestClassifier(max_depth= 4)\n",
    "rf.fit(x_train, y_train)\n",
    "print(rf.score(x_train, y_train))\n",
    "print(rf.score(x_test, y_test))"
   ]
  },
  {
   "cell_type": "markdown",
   "id": "17f31851",
   "metadata": {},
   "source": [
    "#### ada boost"
   ]
  },
  {
   "cell_type": "code",
   "execution_count": 9,
   "id": "9ec0513d",
   "metadata": {},
   "outputs": [],
   "source": [
    "from sklearn.ensemble import AdaBoostClassifier"
   ]
  },
  {
   "cell_type": "code",
   "execution_count": 10,
   "id": "1f4e7b49",
   "metadata": {},
   "outputs": [
    {
     "name": "stdout",
     "output_type": "stream",
     "text": [
      "0.8909574468085106\n",
      "0.7701863354037267\n"
     ]
    }
   ],
   "source": [
    "ada= AdaBoostClassifier()\n",
    "#ada= AdaBoostClassifier(n_estimators= 100, random_state= 0, learning_rate= 0.01)\n",
    "ada.fit(x_train, y_train)\n",
    "print(ada.score(x_train, y_train))\n",
    "print(ada.score(x_test, y_test))"
   ]
  },
  {
   "cell_type": "markdown",
   "id": "7da6a1b1",
   "metadata": {},
   "source": [
    "#### gradient boost"
   ]
  },
  {
   "cell_type": "code",
   "execution_count": 11,
   "id": "6e3e3068",
   "metadata": {},
   "outputs": [],
   "source": [
    "from sklearn.ensemble import GradientBoostingClassifier"
   ]
  },
  {
   "cell_type": "code",
   "execution_count": 12,
   "id": "75a8c92e",
   "metadata": {
    "scrolled": true
   },
   "outputs": [
    {
     "name": "stdout",
     "output_type": "stream",
     "text": [
      "0.9654255319148937\n",
      "0.7515527950310559\n"
     ]
    }
   ],
   "source": [
    "gb= GradientBoostingClassifier()\n",
    "#gb= GradientBoostingClassifier(n_estimators= 100, random_state= 0, learning_rate= 0.01)\n",
    "gb.fit(x_train, y_train)\n",
    "print(gb.score(x_train, y_train))\n",
    "print(gb.score(x_test, y_test))"
   ]
  },
  {
   "cell_type": "markdown",
   "id": "c9d4bbb6",
   "metadata": {},
   "source": [
    "#### xgboost"
   ]
  },
  {
   "cell_type": "code",
   "execution_count": 13,
   "id": "25a53150",
   "metadata": {},
   "outputs": [],
   "source": [
    "import xgboost as xgb"
   ]
  },
  {
   "cell_type": "code",
   "execution_count": 14,
   "id": "9ec0e489",
   "metadata": {},
   "outputs": [
    {
     "name": "stdout",
     "output_type": "stream",
     "text": [
      "1.0\n",
      "0.7515527950310559\n"
     ]
    }
   ],
   "source": [
    "xgb= xgb.XGBClassifier()\n",
    "#xgb= xgb.XGBClassifier(n_estimators= 100, random_state= 0, learning_rate= 0.01)\n",
    "xgb.fit(x_train, y_train)\n",
    "print(xgb.score(x_train, y_train))\n",
    "print(xgb.score(x_test, y_test))"
   ]
  },
  {
   "cell_type": "markdown",
   "id": "3f4c9d2b",
   "metadata": {},
   "source": [
    "#### light gbm"
   ]
  },
  {
   "cell_type": "code",
   "execution_count": 15,
   "id": "29457279",
   "metadata": {},
   "outputs": [],
   "source": [
    "from lightgbm import LGBMClassifier"
   ]
  },
  {
   "cell_type": "code",
   "execution_count": 16,
   "id": "d1f62458",
   "metadata": {},
   "outputs": [
    {
     "name": "stdout",
     "output_type": "stream",
     "text": [
      "1.0\n",
      "0.7701863354037267\n"
     ]
    }
   ],
   "source": [
    "lgb= LGBMClassifier()\n",
    "#lgb= LGBMClassifier(n_estimators= 100, random_state= 0, learning_rate= 0.01)\n",
    "lgb.fit(x_train, y_train)\n",
    "print(lgb.score(x_train, y_train))\n",
    "print(lgb.score(x_test, y_test))"
   ]
  }
 ],
 "metadata": {
  "kernelspec": {
   "display_name": "Python 3 (ipykernel)",
   "language": "python",
   "name": "python3"
  },
  "language_info": {
   "codemirror_mode": {
    "name": "ipython",
    "version": 3
   },
   "file_extension": ".py",
   "mimetype": "text/x-python",
   "name": "python",
   "nbconvert_exporter": "python",
   "pygments_lexer": "ipython3",
   "version": "3.9.12"
  }
 },
 "nbformat": 4,
 "nbformat_minor": 5
}
