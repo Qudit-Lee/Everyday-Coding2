{
 "cells": [
  {
   "cell_type": "code",
   "execution_count": 1,
   "id": "75fbb812",
   "metadata": {},
   "outputs": [],
   "source": [
    "# !pip install lightgbm"
   ]
  },
  {
   "cell_type": "markdown",
   "id": "9e18beef",
   "metadata": {},
   "source": [
    "### 분류 모델"
   ]
  },
  {
   "cell_type": "code",
   "execution_count": 2,
   "id": "fdd580bd",
   "metadata": {},
   "outputs": [],
   "source": [
    "from lightgbm import LGBMClassifier\n",
    "from sklearn.model_selection import train_test_split\n",
    "from sklearn.datasets import load_breast_cancer\n",
    "import mglearn\n",
    "import numpy as np\n",
    "import pandas as pd\n",
    "import matplotlib.pyplot as plt\n",
    "from matplotlib import rc\n",
    "rc('font', family= 'Malgun Gothic')\n",
    "plt.rcParams['axes.unicode_minus']= False"
   ]
  },
  {
   "cell_type": "code",
   "execution_count": 3,
   "id": "79eff662",
   "metadata": {},
   "outputs": [],
   "source": [
    "cancer= load_breast_cancer()\n",
    "x_train, x_test, y_train, y_test= train_test_split(cancer.data, cancer.target,\n",
    "                                                   random_state= 0)"
   ]
  },
  {
   "cell_type": "code",
   "execution_count": 4,
   "id": "c7ec8495",
   "metadata": {},
   "outputs": [],
   "source": [
    "lgb= LGBMClassifier(n_estimators= 100, random_state= 0)"
   ]
  },
  {
   "cell_type": "code",
   "execution_count": 5,
   "id": "12eab3c0",
   "metadata": {},
   "outputs": [
    {
     "data": {
      "text/plain": [
       "LGBMClassifier(random_state=0)"
      ]
     },
     "execution_count": 5,
     "metadata": {},
     "output_type": "execute_result"
    }
   ],
   "source": [
    "lgb.fit(x_train, y_train)"
   ]
  },
  {
   "cell_type": "code",
   "execution_count": 6,
   "id": "d6b6dcd4",
   "metadata": {},
   "outputs": [
    {
     "data": {
      "text/plain": [
       "array([0, 1, 1, 1, 1, 1, 1, 1, 1, 1, 1, 1, 1, 1, 1, 0, 1, 0, 0, 0, 0, 0,\n",
       "       1, 1, 0, 1, 1, 0, 1, 0, 1, 0, 1, 0, 1, 0, 1, 0, 1, 0, 1, 1, 1, 1,\n",
       "       1, 0, 1, 1, 1, 0, 0, 0, 0, 1, 1, 1, 1, 1, 1, 0, 0, 0, 1, 1, 0, 1,\n",
       "       0, 0, 0, 1, 1, 0, 1, 0, 0, 1, 1, 1, 1, 1, 0, 0, 0, 1, 0, 1, 1, 1,\n",
       "       0, 0, 1, 1, 1, 0, 1, 1, 0, 1, 1, 1, 1, 1, 1, 1, 0, 1, 0, 1, 0, 0,\n",
       "       1, 0, 0, 1, 1, 1, 1, 1, 1, 1, 1, 1, 0, 1, 0, 1, 1, 1, 1, 1, 0, 1,\n",
       "       1, 1, 1, 1, 1, 1, 0, 1, 1, 1, 0])"
      ]
     },
     "execution_count": 6,
     "metadata": {},
     "output_type": "execute_result"
    }
   ],
   "source": [
    "pred= lgb.predict(x_test)\n",
    "pred"
   ]
  },
  {
   "cell_type": "code",
   "execution_count": 7,
   "id": "26ca4f09",
   "metadata": {
    "scrolled": true
   },
   "outputs": [
    {
     "data": {
      "text/plain": [
       "1.0"
      ]
     },
     "execution_count": 7,
     "metadata": {},
     "output_type": "execute_result"
    }
   ],
   "source": [
    "lgb.score(x_train, y_train)"
   ]
  },
  {
   "cell_type": "code",
   "execution_count": 8,
   "id": "c76971d6",
   "metadata": {},
   "outputs": [
    {
     "data": {
      "text/plain": [
       "0.972027972027972"
      ]
     },
     "execution_count": 8,
     "metadata": {},
     "output_type": "execute_result"
    }
   ],
   "source": [
    "lgb.score(x_test, y_test)"
   ]
  },
  {
   "cell_type": "markdown",
   "id": "1180a0a9",
   "metadata": {},
   "source": [
    "### 사전 가지치기"
   ]
  },
  {
   "cell_type": "code",
   "execution_count": 9,
   "id": "951a1f8c",
   "metadata": {},
   "outputs": [],
   "source": [
    "lgb= LGBMClassifier(random_state= 42, max_depth= 1)"
   ]
  },
  {
   "cell_type": "code",
   "execution_count": 10,
   "id": "f3e9f347",
   "metadata": {},
   "outputs": [
    {
     "data": {
      "text/plain": [
       "LGBMClassifier(max_depth=1, random_state=42)"
      ]
     },
     "execution_count": 10,
     "metadata": {},
     "output_type": "execute_result"
    }
   ],
   "source": [
    "lgb.fit(x_train, y_train)"
   ]
  },
  {
   "cell_type": "code",
   "execution_count": 11,
   "id": "75663af9",
   "metadata": {},
   "outputs": [
    {
     "data": {
      "text/plain": [
       "0.9882629107981221"
      ]
     },
     "execution_count": 11,
     "metadata": {},
     "output_type": "execute_result"
    }
   ],
   "source": [
    "lgb.score(x_train, y_train)"
   ]
  },
  {
   "cell_type": "code",
   "execution_count": 12,
   "id": "a7df5bf0",
   "metadata": {},
   "outputs": [
    {
     "data": {
      "text/plain": [
       "0.965034965034965"
      ]
     },
     "execution_count": 12,
     "metadata": {},
     "output_type": "execute_result"
    }
   ],
   "source": [
    "lgb.score(x_test, y_test)"
   ]
  },
  {
   "cell_type": "markdown",
   "id": "86ad25bb",
   "metadata": {},
   "source": [
    "### 학습률 낮추기"
   ]
  },
  {
   "cell_type": "code",
   "execution_count": 13,
   "id": "96a8bd66",
   "metadata": {},
   "outputs": [],
   "source": [
    "lgb= LGBMClassifier(n_estimators= 100, random_state= 0, learning_rate= 0.01)"
   ]
  },
  {
   "cell_type": "code",
   "execution_count": 14,
   "id": "8a9f7438",
   "metadata": {},
   "outputs": [
    {
     "data": {
      "text/plain": [
       "LGBMClassifier(learning_rate=0.01, random_state=0)"
      ]
     },
     "execution_count": 14,
     "metadata": {},
     "output_type": "execute_result"
    }
   ],
   "source": [
    "lgb.fit(x_train, y_train)"
   ]
  },
  {
   "cell_type": "code",
   "execution_count": 15,
   "id": "05e5c813",
   "metadata": {},
   "outputs": [
    {
     "data": {
      "text/plain": [
       "0.9812206572769953"
      ]
     },
     "execution_count": 15,
     "metadata": {},
     "output_type": "execute_result"
    }
   ],
   "source": [
    "lgb.score(x_train, y_train)"
   ]
  },
  {
   "cell_type": "code",
   "execution_count": 16,
   "id": "fb69c1f7",
   "metadata": {},
   "outputs": [
    {
     "data": {
      "text/plain": [
       "0.958041958041958"
      ]
     },
     "execution_count": 16,
     "metadata": {},
     "output_type": "execute_result"
    }
   ],
   "source": [
    "lgb.score(x_test, y_test)"
   ]
  },
  {
   "cell_type": "markdown",
   "id": "b0809bda",
   "metadata": {},
   "source": [
    "### 특성 중요도 시각화"
   ]
  },
  {
   "cell_type": "code",
   "execution_count": 17,
   "id": "48d03ebb",
   "metadata": {},
   "outputs": [
    {
     "data": {
      "text/plain": [
       "(-1.0, 30.0)"
      ]
     },
     "execution_count": 17,
     "metadata": {},
     "output_type": "execute_result"
    },
    {
     "data": {
      "image/png": "[encoded data removed]",
      "text/plain": [
       "<Figure size 432x288 with 1 Axes>"
      ]
     },
     "metadata": {
      "needs_background": "light"
     },
     "output_type": "display_data"
    }
   ],
   "source": [
    "n_features= cancer.data.shape[1]\n",
    "plt.barh(np.arange(n_features), lgb.feature_importances_, align= 'center')\n",
    "plt.yticks(np.arange(n_features), cancer.feature_names)\n",
    "plt.xlabel('특성 중요도')\n",
    "plt.ylabel('특성')\n",
    "plt.ylim(-1, n_features)"
   ]
  },
  {
   "cell_type": "markdown",
   "id": "7f1e9ae1",
   "metadata": {},
   "source": [
    "### 회귀 모델"
   ]
  },
  {
   "cell_type": "code",
   "execution_count": 18,
   "id": "4c3c2c7d",
   "metadata": {},
   "outputs": [],
   "source": [
    "from sklearn.datasets import load_boston\n",
    "import warnings\n",
    "warnings.filterwarnings('ignore', category= FutureWarning)\n",
    "from lightgbm import LGBMRegressor\n",
    "import xgboost\n",
    "from sklearn.metrics import mean_squared_error\n",
    "from sklearn.metrics import r2_score"
   ]
  },
  {
   "cell_type": "code",
   "execution_count": 19,
   "id": "0b8ec83f",
   "metadata": {},
   "outputs": [],
   "source": [
    "boston= load_boston()\n",
    "x_train, x_test, y_train, y_test= train_test_split(boston.data,\n",
    "                                                   boston.target,\n",
    "                                                   test_size= 0.3)"
   ]
  },
  {
   "cell_type": "code",
   "execution_count": 20,
   "id": "07d10167",
   "metadata": {},
   "outputs": [],
   "source": [
    "lgb= LGBMRegressor(n_estimators= 100, learning_rate= 0.01, random_state= 0, max_depth= 3)"
   ]
  },
  {
   "cell_type": "code",
   "execution_count": 21,
   "id": "2dbf1554",
   "metadata": {},
   "outputs": [
    {
     "data": {
      "text/plain": [
       "LGBMRegressor(learning_rate=0.01, max_depth=3, random_state=0)"
      ]
     },
     "execution_count": 21,
     "metadata": {},
     "output_type": "execute_result"
    }
   ],
   "source": [
    "lgb.fit(x_train, y_train)"
   ]
  },
  {
   "cell_type": "code",
   "execution_count": 22,
   "id": "4f4a8a34",
   "metadata": {},
   "outputs": [
    {
     "data": {
      "text/plain": [
       "(-1.0, 13.0)"
      ]
     },
     "execution_count": 22,
     "metadata": {},
     "output_type": "execute_result"
    },
    {
     "data": {
      "image/png": "[encoded data removed]",
      "text/plain": [
       "<Figure size 432x288 with 1 Axes>"
      ]
     },
     "metadata": {
      "needs_background": "light"
     },
     "output_type": "display_data"
    }
   ],
   "source": [
    "n_features= boston.data.shape[1]\n",
    "plt.barh(np.arange(n_features), lgb.feature_importances_, align= 'center')\n",
    "plt.yticks(np.arange(n_features), boston.feature_names)\n",
    "plt.xlabel('특성 중요도')\n",
    "plt.ylabel('특성')\n",
    "plt.ylim(-1, n_features)"
   ]
  },
  {
   "cell_type": "code",
   "execution_count": 23,
   "id": "e63caae5",
   "metadata": {},
   "outputs": [
    {
     "data": {
      "text/plain": [
       "array([15.0284825 , 19.08687486, 15.0284825 , 16.91333718, 21.3890144 ,\n",
       "       29.54760994, 23.63765272, 28.76464667, 15.0284825 , 19.12577198,\n",
       "       30.34229623, 19.94183375, 16.2070634 , 15.0284825 , 23.38079733,\n",
       "       25.02086058, 19.39701692, 21.87907975, 23.89383644, 24.52970209,\n",
       "       21.76985962, 22.12583452, 23.38079733, 23.84853874, 25.13466431,\n",
       "       22.12583452, 23.63765272, 17.67441804, 19.17494027, 18.77779306,\n",
       "       20.71968405, 19.39658441, 15.0284825 , 23.63765272, 18.82467759,\n",
       "       21.84486716, 16.75427554, 23.63765272, 37.06090802, 16.2070634 ,\n",
       "       21.53130685, 29.05529987, 24.52970209, 18.09353576, 36.70247627,\n",
       "       21.33626831, 23.63765272, 21.33626831, 16.36375735, 23.63765272,\n",
       "       24.52970209, 20.27003172, 18.85108634, 33.54498499, 36.70247627,\n",
       "       36.398596  , 21.66135993, 15.0284825 , 18.82467759, 26.87193489,\n",
       "       15.18754414, 15.18754414, 36.92798451, 20.22054194, 21.48907151,\n",
       "       15.0284825 , 21.749017  , 18.28003792, 27.91296999, 15.0284825 ,\n",
       "       23.63765272, 17.04108472, 23.63765272, 23.69189569, 36.92798451,\n",
       "       15.0284825 , 16.36375735, 21.52328409, 26.97987206, 21.93609459,\n",
       "       16.49820483, 19.99878679, 15.0284825 , 18.42353027, 22.02458295,\n",
       "       23.63765272, 24.74447162, 23.63765272, 19.32113067, 18.15228533,\n",
       "       26.43034088, 16.68407528, 23.32917844, 23.63765272, 21.93260486,\n",
       "       26.37609792, 29.29403518, 18.82467759, 18.82467759, 17.51401691,\n",
       "       20.56337977, 23.63765272, 17.93285644, 23.63765272, 29.05529987,\n",
       "       23.83817368, 18.85108634, 18.82467759, 23.63765272, 23.63765272,\n",
       "       26.82255339, 18.77779306, 19.20013728, 34.14008556, 15.0284825 ,\n",
       "       21.51907714, 21.78791412, 29.85406271, 19.99878679, 18.85108634,\n",
       "       22.6799635 , 18.92187778, 23.63765272, 19.11593574, 15.0284825 ,\n",
       "       16.25826223, 20.12141512, 23.63765272, 18.15228533, 19.12577198,\n",
       "       26.58588456, 21.93260486, 26.43034088, 26.58588456, 21.93881874,\n",
       "       17.48340328, 16.51553361, 24.46801757, 18.85108634, 30.45254115,\n",
       "       23.63765272, 26.97987206, 21.61913425, 21.55753849, 21.55753849,\n",
       "       24.46801757, 21.87907975, 17.35569166, 28.24021482, 28.4423585 ,\n",
       "       29.54751178, 15.0284825 ])"
      ]
     },
     "execution_count": 23,
     "metadata": {},
     "output_type": "execute_result"
    }
   ],
   "source": [
    "pred= lgb.predict(x_test)\n",
    "pred"
   ]
  },
  {
   "cell_type": "code",
   "execution_count": 24,
   "id": "3f813882",
   "metadata": {},
   "outputs": [
    {
     "data": {
      "text/plain": [
       "0.7051257276180736"
      ]
     },
     "execution_count": 24,
     "metadata": {},
     "output_type": "execute_result"
    }
   ],
   "source": [
    "lgb.score(x_train, y_train)"
   ]
  },
  {
   "cell_type": "code",
   "execution_count": 25,
   "id": "6741f62f",
   "metadata": {},
   "outputs": [
    {
     "data": {
      "text/plain": [
       "0.6918993057794995"
      ]
     },
     "execution_count": 25,
     "metadata": {},
     "output_type": "execute_result"
    }
   ],
   "source": [
    "lgb.score(x_test, y_test)"
   ]
  }
 ],
 "metadata": {
  "kernelspec": {
   "display_name": "Python 3 (ipykernel)",
   "language": "python",
   "name": "python3"
  },
  "language_info": {
   "codemirror_mode": {
    "name": "ipython",
    "version": 3
   },
   "file_extension": ".py",
   "mimetype": "text/x-python",
   "name": "python",
   "nbconvert_exporter": "python",
   "pygments_lexer": "ipython3",
   "version": "3.9.12"
  }
 },
 "nbformat": 4,
 "nbformat_minor": 5
}
