{
 "cells": [
  {
   "cell_type": "markdown",
   "id": "6d899cff",
   "metadata": {},
   "source": [
    "### 1. 문제 정의\n",
    "- iris 데이터에 scaler를 적용해서 모델을 학습해보자"
   ]
  },
  {
   "cell_type": "markdown",
   "id": "55070a66",
   "metadata": {},
   "source": [
    "### 2. 데이터 수집"
   ]
  },
  {
   "cell_type": "code",
   "execution_count": 1,
   "id": "4bd091ac",
   "metadata": {},
   "outputs": [],
   "source": [
    "import numpy as np\n",
    "import pandas as pd\n",
    "from sklearn.svm import SVC\n",
    "from sklearn.datasets import load_iris\n",
    "from sklearn.model_selection import train_test_split"
   ]
  },
  {
   "cell_type": "code",
   "execution_count": 2,
   "id": "0e4e6163",
   "metadata": {},
   "outputs": [],
   "source": [
    "# x,y 데이터 정의\n",
    "iris= load_iris()"
   ]
  },
  {
   "cell_type": "code",
   "execution_count": 3,
   "id": "f3f37827",
   "metadata": {},
   "outputs": [
    {
     "data": {
      "text/plain": [
       "(150, 4)"
      ]
     },
     "execution_count": 3,
     "metadata": {},
     "output_type": "execute_result"
    }
   ],
   "source": [
    "df= pd.DataFrame(iris.data, columns= iris.feature_names)\n",
    "df.shape"
   ]
  },
  {
   "cell_type": "code",
   "execution_count": 4,
   "id": "dcd87dbc",
   "metadata": {},
   "outputs": [
    {
     "data": {
      "text/html": [
       "<div>\n",
       "<style scoped>\n",
       "    .dataframe tbody tr th:only-of-type {\n",
       "        vertical-align: middle;\n",
       "    }\n",
       "\n",
       "    .dataframe tbody tr th {\n",
       "        vertical-align: top;\n",
       "    }\n",
       "\n",
       "    .dataframe thead th {\n",
       "        text-align: right;\n",
       "    }\n",
       "</style>\n",
       "<table border=\"1\" class=\"dataframe\">\n",
       "  <thead>\n",
       "    <tr style=\"text-align: right;\">\n",
       "      <th></th>\n",
       "      <th>sepal length (cm)</th>\n",
       "      <th>sepal width (cm)</th>\n",
       "      <th>petal length (cm)</th>\n",
       "      <th>petal width (cm)</th>\n",
       "    </tr>\n",
       "  </thead>\n",
       "  <tbody>\n",
       "    <tr>\n",
       "      <th>0</th>\n",
       "      <td>5.1</td>\n",
       "      <td>3.5</td>\n",
       "      <td>1.4</td>\n",
       "      <td>0.2</td>\n",
       "    </tr>\n",
       "    <tr>\n",
       "      <th>1</th>\n",
       "      <td>4.9</td>\n",
       "      <td>3.0</td>\n",
       "      <td>1.4</td>\n",
       "      <td>0.2</td>\n",
       "    </tr>\n",
       "    <tr>\n",
       "      <th>2</th>\n",
       "      <td>4.7</td>\n",
       "      <td>3.2</td>\n",
       "      <td>1.3</td>\n",
       "      <td>0.2</td>\n",
       "    </tr>\n",
       "    <tr>\n",
       "      <th>3</th>\n",
       "      <td>4.6</td>\n",
       "      <td>3.1</td>\n",
       "      <td>1.5</td>\n",
       "      <td>0.2</td>\n",
       "    </tr>\n",
       "    <tr>\n",
       "      <th>4</th>\n",
       "      <td>5.0</td>\n",
       "      <td>3.6</td>\n",
       "      <td>1.4</td>\n",
       "      <td>0.2</td>\n",
       "    </tr>\n",
       "  </tbody>\n",
       "</table>\n",
       "</div>"
      ],
      "text/plain": [
       "   sepal length (cm)  sepal width (cm)  petal length (cm)  petal width (cm)\n",
       "0                5.1               3.5                1.4               0.2\n",
       "1                4.9               3.0                1.4               0.2\n",
       "2                4.7               3.2                1.3               0.2\n",
       "3                4.6               3.1                1.5               0.2\n",
       "4                5.0               3.6                1.4               0.2"
      ]
     },
     "execution_count": 4,
     "metadata": {},
     "output_type": "execute_result"
    }
   ],
   "source": [
    "df.head()"
   ]
  },
  {
   "cell_type": "markdown",
   "id": "53396d8d",
   "metadata": {},
   "source": [
    "### 3. Scaler 적용 - 4가지 종류 모두"
   ]
  },
  {
   "cell_type": "code",
   "execution_count": 5,
   "id": "5a3dbcfd",
   "metadata": {},
   "outputs": [],
   "source": [
    "from sklearn.preprocessing import StandardScaler\n",
    "from sklearn.preprocessing import RobustScaler\n",
    "from sklearn.preprocessing import MinMaxScaler\n",
    "from sklearn.preprocessing import Normalizer"
   ]
  },
  {
   "cell_type": "markdown",
   "id": "802e88d1",
   "metadata": {},
   "source": [
    "### Standard Scaler"
   ]
  },
  {
   "cell_type": "code",
   "execution_count": 6,
   "id": "76db59ff",
   "metadata": {},
   "outputs": [],
   "source": [
    "scaler= StandardScaler()\n",
    "scaler.fit(df)\n",
    "train_scaler= scaler.transform(df)"
   ]
  },
  {
   "cell_type": "code",
   "execution_count": 7,
   "id": "31944236",
   "metadata": {
    "scrolled": true
   },
   "outputs": [
    {
     "data": {
      "text/html": [
       "<div>\n",
       "<style scoped>\n",
       "    .dataframe tbody tr th:only-of-type {\n",
       "        vertical-align: middle;\n",
       "    }\n",
       "\n",
       "    .dataframe tbody tr th {\n",
       "        vertical-align: top;\n",
       "    }\n",
       "\n",
       "    .dataframe thead th {\n",
       "        text-align: right;\n",
       "    }\n",
       "</style>\n",
       "<table border=\"1\" class=\"dataframe\">\n",
       "  <thead>\n",
       "    <tr style=\"text-align: right;\">\n",
       "      <th></th>\n",
       "      <th>sepal length (cm)</th>\n",
       "      <th>sepal width (cm)</th>\n",
       "      <th>petal length (cm)</th>\n",
       "      <th>petal width (cm)</th>\n",
       "    </tr>\n",
       "  </thead>\n",
       "  <tbody>\n",
       "    <tr>\n",
       "      <th>0</th>\n",
       "      <td>-0.900681</td>\n",
       "      <td>1.019004</td>\n",
       "      <td>-1.340227</td>\n",
       "      <td>-1.315444</td>\n",
       "    </tr>\n",
       "    <tr>\n",
       "      <th>1</th>\n",
       "      <td>-1.143017</td>\n",
       "      <td>-0.131979</td>\n",
       "      <td>-1.340227</td>\n",
       "      <td>-1.315444</td>\n",
       "    </tr>\n",
       "    <tr>\n",
       "      <th>2</th>\n",
       "      <td>-1.385353</td>\n",
       "      <td>0.328414</td>\n",
       "      <td>-1.397064</td>\n",
       "      <td>-1.315444</td>\n",
       "    </tr>\n",
       "    <tr>\n",
       "      <th>3</th>\n",
       "      <td>-1.506521</td>\n",
       "      <td>0.098217</td>\n",
       "      <td>-1.283389</td>\n",
       "      <td>-1.315444</td>\n",
       "    </tr>\n",
       "    <tr>\n",
       "      <th>4</th>\n",
       "      <td>-1.021849</td>\n",
       "      <td>1.249201</td>\n",
       "      <td>-1.340227</td>\n",
       "      <td>-1.315444</td>\n",
       "    </tr>\n",
       "    <tr>\n",
       "      <th>...</th>\n",
       "      <td>...</td>\n",
       "      <td>...</td>\n",
       "      <td>...</td>\n",
       "      <td>...</td>\n",
       "    </tr>\n",
       "    <tr>\n",
       "      <th>145</th>\n",
       "      <td>1.038005</td>\n",
       "      <td>-0.131979</td>\n",
       "      <td>0.819596</td>\n",
       "      <td>1.448832</td>\n",
       "    </tr>\n",
       "    <tr>\n",
       "      <th>146</th>\n",
       "      <td>0.553333</td>\n",
       "      <td>-1.282963</td>\n",
       "      <td>0.705921</td>\n",
       "      <td>0.922303</td>\n",
       "    </tr>\n",
       "    <tr>\n",
       "      <th>147</th>\n",
       "      <td>0.795669</td>\n",
       "      <td>-0.131979</td>\n",
       "      <td>0.819596</td>\n",
       "      <td>1.053935</td>\n",
       "    </tr>\n",
       "    <tr>\n",
       "      <th>148</th>\n",
       "      <td>0.432165</td>\n",
       "      <td>0.788808</td>\n",
       "      <td>0.933271</td>\n",
       "      <td>1.448832</td>\n",
       "    </tr>\n",
       "    <tr>\n",
       "      <th>149</th>\n",
       "      <td>0.068662</td>\n",
       "      <td>-0.131979</td>\n",
       "      <td>0.762758</td>\n",
       "      <td>0.790671</td>\n",
       "    </tr>\n",
       "  </tbody>\n",
       "</table>\n",
       "<p>150 rows × 4 columns</p>\n",
       "</div>"
      ],
      "text/plain": [
       "     sepal length (cm)  sepal width (cm)  petal length (cm)  petal width (cm)\n",
       "0            -0.900681          1.019004          -1.340227         -1.315444\n",
       "1            -1.143017         -0.131979          -1.340227         -1.315444\n",
       "2            -1.385353          0.328414          -1.397064         -1.315444\n",
       "3            -1.506521          0.098217          -1.283389         -1.315444\n",
       "4            -1.021849          1.249201          -1.340227         -1.315444\n",
       "..                 ...               ...                ...               ...\n",
       "145           1.038005         -0.131979           0.819596          1.448832\n",
       "146           0.553333         -1.282963           0.705921          0.922303\n",
       "147           0.795669         -0.131979           0.819596          1.053935\n",
       "148           0.432165          0.788808           0.933271          1.448832\n",
       "149           0.068662         -0.131979           0.762758          0.790671\n",
       "\n",
       "[150 rows x 4 columns]"
      ]
     },
     "execution_count": 7,
     "metadata": {},
     "output_type": "execute_result"
    }
   ],
   "source": [
    "scaler_df= pd.DataFrame(train_scaler, columns= iris['feature_names'])\n",
    "scaler_df"
   ]
  },
  {
   "cell_type": "code",
   "execution_count": 8,
   "id": "eba23bf2",
   "metadata": {},
   "outputs": [],
   "source": [
    "x= scaler_df\n",
    "y= iris.target"
   ]
  },
  {
   "cell_type": "code",
   "execution_count": 9,
   "id": "35491f18",
   "metadata": {
    "scrolled": true
   },
   "outputs": [
    {
     "data": {
      "text/plain": [
       "(150, 4)"
      ]
     },
     "execution_count": 9,
     "metadata": {},
     "output_type": "execute_result"
    }
   ],
   "source": [
    "x.shape"
   ]
  },
  {
   "cell_type": "code",
   "execution_count": 10,
   "id": "d9aa6135",
   "metadata": {},
   "outputs": [
    {
     "data": {
      "text/plain": [
       "(150,)"
      ]
     },
     "execution_count": 10,
     "metadata": {},
     "output_type": "execute_result"
    }
   ],
   "source": [
    "y.shape"
   ]
  },
  {
   "cell_type": "markdown",
   "id": "028519ec",
   "metadata": {},
   "source": [
    "### 4. train-test 데이터셋 분할"
   ]
  },
  {
   "cell_type": "code",
   "execution_count": 11,
   "id": "b842ea78",
   "metadata": {},
   "outputs": [],
   "source": [
    "x_train, x_test, y_train, y_test= train_test_split(x,y,\n",
    "                                                   test_size= 0.3,\n",
    "                                                   random_state= 0)"
   ]
  },
  {
   "cell_type": "code",
   "execution_count": 12,
   "id": "e126618e",
   "metadata": {},
   "outputs": [
    {
     "data": {
      "text/plain": [
       "(105, 4)"
      ]
     },
     "execution_count": 12,
     "metadata": {},
     "output_type": "execute_result"
    }
   ],
   "source": [
    "x_train.shape"
   ]
  },
  {
   "cell_type": "code",
   "execution_count": 13,
   "id": "c9829ad9",
   "metadata": {},
   "outputs": [
    {
     "data": {
      "text/plain": [
       "(105,)"
      ]
     },
     "execution_count": 13,
     "metadata": {},
     "output_type": "execute_result"
    }
   ],
   "source": [
    "y_train.shape"
   ]
  },
  {
   "cell_type": "code",
   "execution_count": 14,
   "id": "5b6ca4dc",
   "metadata": {},
   "outputs": [
    {
     "data": {
      "text/plain": [
       "(105, 4)"
      ]
     },
     "execution_count": 14,
     "metadata": {},
     "output_type": "execute_result"
    }
   ],
   "source": [
    "x_train.shape"
   ]
  },
  {
   "cell_type": "code",
   "execution_count": 15,
   "id": "d6d567dc",
   "metadata": {},
   "outputs": [
    {
     "data": {
      "text/plain": [
       "(105,)"
      ]
     },
     "execution_count": 15,
     "metadata": {},
     "output_type": "execute_result"
    }
   ],
   "source": [
    "y_train.shape"
   ]
  },
  {
   "cell_type": "markdown",
   "id": "05bf10ff",
   "metadata": {},
   "source": [
    "### 5. 모델링(모델선택, 모델학습, 모델평가) - 4가지 Scaler 모두 모델 만들어 보기"
   ]
  },
  {
   "cell_type": "markdown",
   "id": "4295a4e2",
   "metadata": {},
   "source": [
    "#### KNN\n",
    "- 분류 알고리즘\n",
    "- 예측하려는 데이터 x가 주어지면, 기존 데이터 중 속성이 비슷한 k개의 이웃을 먼저 찾는 알고리즘\n",
    "- x를 둘러싼 k개의 가장 가까운 이웃을 찾고, 이웃 데이터가 가장 많이 속해있는 목표 클래스를 예측값으로 결정\n",
    "- k값에 따라 모델의 예측력이 달라지므로 적합한 k값 설정이 필요"
   ]
  },
  {
   "cell_type": "code",
   "execution_count": 16,
   "id": "96cea046",
   "metadata": {},
   "outputs": [],
   "source": [
    "from sklearn.neighbors import KNeighborsClassifier"
   ]
  },
  {
   "cell_type": "code",
   "execution_count": 17,
   "id": "2fb47e10",
   "metadata": {},
   "outputs": [
    {
     "data": {
      "text/plain": [
       "KNeighborsClassifier()"
      ]
     },
     "execution_count": 17,
     "metadata": {},
     "output_type": "execute_result"
    }
   ],
   "source": [
    "knn= KNeighborsClassifier(n_neighbors= 5)\n",
    "knn.fit(x_train, y_train)"
   ]
  },
  {
   "cell_type": "code",
   "execution_count": 18,
   "id": "3449a069",
   "metadata": {
    "scrolled": true
   },
   "outputs": [
    {
     "name": "stdout",
     "output_type": "stream",
     "text": [
      "예측값:  [2 1 0 2 0 2 0 1 1 1 2 1 1 1 1 0 1 1 0 0 2 1 0 0 2 0 0 1 1 0 2 1 0 2 2 1 0\n",
      " 2 1 1 2 0 2 0 0]\n"
     ]
    }
   ],
   "source": [
    "pred= knn.predict(x_test)\n",
    "print('예측값: ', pred)"
   ]
  },
  {
   "cell_type": "markdown",
   "id": "c074fdfc",
   "metadata": {},
   "source": [
    "#### 로지스틱 회귀\n",
    "- 분류 알고리즘/ 회귀 x => 이름만 회귀\n",
    "- 시그모이드 함수의 출력값(0~1)을 각 분류 클래스에 속하게 될 확률값으로 사용\n",
    "- 1에 가까우면 해당 클래스로 분류, 0에 가까우면 해당 클래스가 아니라고 분류"
   ]
  },
  {
   "cell_type": "code",
   "execution_count": 19,
   "id": "d990cc86",
   "metadata": {},
   "outputs": [],
   "source": [
    "from sklearn.linear_model import LogisticRegression\n",
    "from sklearn.metrics import accuracy_score"
   ]
  },
  {
   "cell_type": "code",
   "execution_count": 20,
   "id": "cd4ad834",
   "metadata": {},
   "outputs": [
    {
     "data": {
      "text/plain": [
       "LogisticRegression()"
      ]
     },
     "execution_count": 20,
     "metadata": {},
     "output_type": "execute_result"
    }
   ],
   "source": [
    "lr= LogisticRegression()\n",
    "lr.fit(x_train, y_train)"
   ]
  },
  {
   "cell_type": "code",
   "execution_count": 21,
   "id": "5282e054",
   "metadata": {
    "scrolled": false
   },
   "outputs": [
    {
     "name": "stdout",
     "output_type": "stream",
     "text": [
      "예측값:  [2 1 0 2 0 2 0 1 1 1 2 1 1 1 1 0 1 1 0 0 2 1 0 0 2 0 0 1 1 0 2 1 0 2 2 1 0\n",
      " 2 1 1 2 0 2 0 0]\n"
     ]
    }
   ],
   "source": [
    "lr_pred= lr.predict(x_test)\n",
    "print('예측값: ', lr_pred)"
   ]
  },
  {
   "cell_type": "code",
   "execution_count": 22,
   "id": "1e63dd03",
   "metadata": {},
   "outputs": [
    {
     "data": {
      "text/plain": [
       "array([[-8.85689243e+00, -3.48630161e+00, -3.12391837e-02],\n",
       "       [-5.07091898e+00, -5.09639689e-02, -3.13705532e+00],\n",
       "       [-4.67322419e-03, -5.36825856e+00, -1.63611173e+01],\n",
       "       [-1.05505722e+01, -2.46980958e+00, -8.84238061e-02],\n",
       "       [-2.50980712e-02, -3.69752345e+00, -1.39190101e+01],\n",
       "       [-1.01763106e+01, -4.60301467e+00, -1.01105799e-02],\n",
       "       [-1.76118089e-02, -4.04801734e+00, -1.42071310e+01],\n",
       "       [-4.98851053e+00, -3.35063614e-01, -1.28052414e+00],\n",
       "       [-6.06282335e+00, -3.13822318e-01, -1.32041920e+00],\n",
       "       [-3.78625977e+00, -1.14132575e-01, -2.46298797e+00],\n",
       "       [-6.57802502e+00, -8.37261942e-01, -5.69664480e-01],\n",
       "       [-3.89130690e+00, -2.75180061e-01, -1.51346436e+00],\n",
       "       [-4.28501905e+00, -1.62111120e-01, -1.99598363e+00],\n",
       "       [-5.51670685e+00, -3.64964391e-01, -1.19812471e+00],\n",
       "       [-4.34788301e+00, -2.96003849e-01, -1.41353702e+00],\n",
       "       [-9.08186062e-03, -4.70603258e+00, -1.55827222e+01],\n",
       "       [-4.16258794e+00, -3.37081338e-01, -1.30718006e+00],\n",
       "       [-3.55422285e+00, -1.55782473e-01, -2.15717750e+00],\n",
       "       [-6.29360276e-02, -2.79700436e+00, -1.24399304e+01],\n",
       "       [-1.17995993e-02, -4.44562457e+00, -1.45507844e+01],\n",
       "       [-6.16688194e+00, -1.82316126e+00, -1.78662803e-01],\n",
       "       [-3.12742314e+00, -3.60739159e-01, -1.35089409e+00],\n",
       "       [-2.40548366e-02, -3.73948528e+00, -1.34154368e+01],\n",
       "       [-3.68741367e-02, -3.31867481e+00, -1.32317361e+01],\n",
       "       [-6.19929860e+00, -1.07091195e+00, -4.22702892e-01],\n",
       "       [-4.25245244e-03, -5.46240222e+00, -1.64254218e+01],\n",
       "       [-1.51648590e-02, -4.19644684e+00, -1.34112435e+01],\n",
       "       [-3.92806133e+00, -1.41631018e-01, -2.18589816e+00],\n",
       "       [-2.39008947e+00, -1.15406755e-01, -4.05273073e+00],\n",
       "       [-3.46752224e-02, -3.37910854e+00, -1.26823121e+01],\n",
       "       [-6.67615308e+00, -1.55424055e+00, -2.39032172e-01],\n",
       "       [-2.78269581e+00, -3.86897836e-01, -1.35105065e+00],\n",
       "       [-2.64679648e-02, -3.64505793e+00, -1.39646071e+01],\n",
       "       [-5.46312923e+00, -1.07231654e+00, -4.25344059e-01],\n",
       "       [-9.92368891e+00, -3.27661071e+00, -3.85381529e-02],\n",
       "       [-2.58000697e+00, -2.18775554e-01, -2.11424433e+00],\n",
       "       [-3.42960705e-02, -3.38987140e+00, -1.33366408e+01],\n",
       "       [-5.95895509e+00, -8.84514973e-01, -5.36993380e-01],\n",
       "       [-3.33026665e+00, -2.53164359e-01, -1.67197223e+00],\n",
       "       [-3.72574586e+00, -9.88574053e-02, -2.65878863e+00],\n",
       "       [-9.14528460e+00, -2.59551671e+00, -7.76524406e-02],\n",
       "       [-2.30495987e-02, -3.78164328e+00, -1.40797723e+01],\n",
       "       [-9.10302056e+00, -2.76671938e+00, -6.50498429e-02],\n",
       "       [-3.23387680e-02, -3.44780085e+00, -1.20346651e+01],\n",
       "       [-2.04045586e-02, -3.90220970e+00, -1.43918819e+01]])"
      ]
     },
     "execution_count": 22,
     "metadata": {},
     "output_type": "execute_result"
    }
   ],
   "source": [
    "prob= lr.predict_log_proba(x_test)\n",
    "prob"
   ]
  },
  {
   "cell_type": "markdown",
   "id": "a742c6bd",
   "metadata": {},
   "source": [
    "#### decision tree\n",
    "- 의사결정나무 모델은 트리 알고리즘 사용\n",
    "- 트리의 각 분기점(node)에는 데이터셋의 피처를 하나씩 위치시킴\n",
    "- 각 분기점에서 해당 피처에 관한 임의의 조건식을 갖고 2개 이상의 줄기로 가지를 나누면서 데이터를 구분\n",
    "- 이때, 각 분기점에서 분류가 가장 잘 되는 최적의 기준을 찾는 과정이 중요"
   ]
  },
  {
   "cell_type": "code",
   "execution_count": 23,
   "id": "92a6f8da",
   "metadata": {},
   "outputs": [],
   "source": [
    "from sklearn.tree import DecisionTreeClassifier"
   ]
  },
  {
   "cell_type": "code",
   "execution_count": 24,
   "id": "7650c181",
   "metadata": {},
   "outputs": [
    {
     "data": {
      "text/plain": [
       "DecisionTreeClassifier(max_depth=3, random_state=0)"
      ]
     },
     "execution_count": 24,
     "metadata": {},
     "output_type": "execute_result"
    }
   ],
   "source": [
    "dt= DecisionTreeClassifier(max_depth= 3, random_state= 0)\n",
    "dt.fit(x_train, y_train)"
   ]
  },
  {
   "cell_type": "code",
   "execution_count": 25,
   "id": "4d308553",
   "metadata": {
    "scrolled": true
   },
   "outputs": [
    {
     "name": "stdout",
     "output_type": "stream",
     "text": [
      "예측값:  [2 1 0 2 0 2 0 1 1 1 2 1 1 1 1 0 1 1 0 0 2 1 0 0 2 0 0 1 1 0 2 1 0 2 2 1 0\n",
      " 2 1 1 2 0 2 0 0]\n"
     ]
    }
   ],
   "source": [
    "dt_pred= dt.predict(x_test)\n",
    "print('예측값: ', dt_pred)"
   ]
  },
  {
   "cell_type": "code",
   "execution_count": 26,
   "id": "efb77d97",
   "metadata": {},
   "outputs": [
    {
     "name": "stdout",
     "output_type": "stream",
     "text": [
      "Accuracy: 0.977778\n"
     ]
    }
   ],
   "source": [
    "acc= accuracy_score(y_test, dt_pred)\n",
    "print('Accuracy: %4f'%acc)"
   ]
  },
  {
   "cell_type": "markdown",
   "id": "f347ea1f",
   "metadata": {},
   "source": [
    "### 6. accuracy 다 뽑아보기"
   ]
  },
  {
   "cell_type": "code",
   "execution_count": 27,
   "id": "e2a384b8",
   "metadata": {},
   "outputs": [],
   "source": [
    "from sklearn.metrics import accuracy_score"
   ]
  },
  {
   "cell_type": "markdown",
   "id": "ccac5d42",
   "metadata": {},
   "source": [
    "knn-accuracy"
   ]
  },
  {
   "cell_type": "code",
   "execution_count": 28,
   "id": "2dafd814",
   "metadata": {},
   "outputs": [
    {
     "name": "stdout",
     "output_type": "stream",
     "text": [
      "Accuracy: 0.9778\n"
     ]
    }
   ],
   "source": [
    "acc= accuracy_score(y_test, pred)\n",
    "print('Accuracy: %.4f'%acc)"
   ]
  },
  {
   "cell_type": "markdown",
   "id": "54f6799b",
   "metadata": {},
   "source": [
    "로지스틱-accuracy"
   ]
  },
  {
   "cell_type": "code",
   "execution_count": 29,
   "id": "bc796bb4",
   "metadata": {},
   "outputs": [
    {
     "name": "stdout",
     "output_type": "stream",
     "text": [
      "Accuracy: 0.9778\n"
     ]
    }
   ],
   "source": [
    "acc= accuracy_score(y_test, lr_pred)\n",
    "print('Accuracy: %.4f'%acc)"
   ]
  },
  {
   "cell_type": "markdown",
   "id": "46adf7ed",
   "metadata": {},
   "source": [
    "df-accuracy"
   ]
  },
  {
   "cell_type": "code",
   "execution_count": 30,
   "id": "0aaa14de",
   "metadata": {},
   "outputs": [
    {
     "name": "stdout",
     "output_type": "stream",
     "text": [
      "Accuracy: 0.9778\n"
     ]
    }
   ],
   "source": [
    "acc= accuracy_score(y_test, dt_pred)\n",
    "print('Accuracy: %.4f'%acc)"
   ]
  },
  {
   "cell_type": "code",
   "execution_count": null,
   "id": "e879984f",
   "metadata": {},
   "outputs": [],
   "source": []
  }
 ],
 "metadata": {
  "kernelspec": {
   "display_name": "Python 3 (ipykernel)",
   "language": "python",
   "name": "python3"
  },
  "language_info": {
   "codemirror_mode": {
    "name": "ipython",
    "version": 3
   },
   "file_extension": ".py",
   "mimetype": "text/x-python",
   "name": "python",
   "nbconvert_exporter": "python",
   "pygments_lexer": "ipython3",
   "version": "3.9.12"
  }
 },
 "nbformat": 4,
 "nbformat_minor": 5
}
