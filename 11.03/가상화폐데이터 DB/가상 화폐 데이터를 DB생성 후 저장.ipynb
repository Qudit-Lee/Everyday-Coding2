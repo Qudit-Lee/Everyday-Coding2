{
 "cells": [
  {
   "cell_type": "markdown",
   "id": "3f0d2650",
   "metadata": {},
   "source": [
    "! pip install pyupbit\n",
    "가상 화폐를 거래, 조회 등을 할 수 있는 업비트라는 회사(홈페이지)에서 테이터를 조회하는 라이브러리"
   ]
  },
  {
   "cell_type": "code",
   "execution_count": null,
   "id": "9972c2f8",
   "metadata": {},
   "outputs": [],
   "source": [
    "import pyupbit\n",
    "# 가상 화폐의 데이터를 조회하기 위한 라이브러리\n",
    "import sqlite3\n",
    "# SQLite라는 데이터 베이스 프로그램을 실행하기 위한 라이브러리\n",
    "import datetime\n",
    "# 시간에 관련된 행동을 하기 위한 라이브러리\n",
    "import pandas as pd\n",
    "# 데이터를 시각화 하기 위해 불러오는 라이브러리"
   ]
  },
  {
   "cell_type": "code",
   "execution_count": null,
   "id": "b5352a55",
   "metadata": {
    "scrolled": true
   },
   "outputs": [],
   "source": [
    "coin_lists= pyupbit.get_tickers(fiat= 'KRW')\n",
    "# 업비트에서 지원하는 암호 화폐 목록 중 특정시장(fiat)에서 매매 가능한 목록\n",
    "print(coin_lists)\n",
    "\n",
    "price_now= pyupbit.get_current_price(['KRW-BTC', 'KRW-ETH'])\n",
    "# '한화-비트코인'과 '한화-이더리움'의 현재 가격을 불러오기\n",
    "print(price_now)"
   ]
  },
  {
   "cell_type": "markdown",
   "id": "0710087a",
   "metadata": {},
   "source": [
    "가상 화폐의 데이터를 DB에 저장하고 생성  "
   ]
  },
  {
   "cell_type": "code",
   "execution_count": null,
   "id": "f1f0bfbb",
   "metadata": {},
   "outputs": [],
   "source": [
    "ticker= 'KRW-BTC'\n",
    "# '한화-비트코인'의 데이터를 불러오기 위해.\n",
    "interval= 'minutel'\n",
    "# 분 단위로 변하는 주가를 간격으로 지정.\n",
    "to= '2022-11-03 17:00'\n",
    "# 지정한 시간 이전의 데이터를 불러오기 위해.\n",
    "count= 200\n",
    "# 불러올 데이터의 개수.\n",
    "price_now= pyupbit.get_ohlcv(ticker= ticker, interval= interval, to= to, count= count)\n",
    "\n",
    "db_path= r\"C:\\Users\\user\\Desktop\\가상화폐_DB\\coin.db\"\n",
    "# 생성할 DB의 경로\n",
    "\n",
    "con= sqlite3.connect(db_path, isolation_level= None)\n",
    "# 'connect' DB를 생성하고 연결하기 위한 함수, \n",
    "# 'isolation_level= None' update, insert, delete 등과 같이 DB의 데이터에 \n",
    "# 변화를 주는 쿼리문에 대해 오토커밋을 해주는 함수\n",
    "\n",
    "price_now.to_sql('BTC', con, if_exists= 'append')\n",
    "# DB에 테이블이 존재할 때 '추가'라는 동작을 지정 \n",
    "\n",
    "con.close"
   ]
  },
  {
   "cell_type": "markdown",
   "id": "28fcc151",
   "metadata": {},
   "source": [
    "DB의 데이터 출력"
   ]
  },
  {
   "cell_type": "code",
   "execution_count": null,
   "id": "ca8cef0b",
   "metadata": {
    "scrolled": true
   },
   "outputs": [],
   "source": [
    "db_path= r\"C:\\Users\\user\\Desktop\\가상화폐_DB\\coin.db\"\n",
    "\n",
    "con= sqlite3.connect(db_path, isolation_level= None)\n",
    "readed_df= pd.read_sql(\"SELECT * FROM 'BTC'\", con, index_col= 'index')\n",
    "# 'index_col=' 특정 columns를 지정\n",
    "print(readed_df)"
   ]
  },
  {
   "cell_type": "markdown",
   "id": "35893f26",
   "metadata": {},
   "source": [
    "오늘 하루 동안 가상 화폐의 데이터 DB에 수집(2022-11-03) "
   ]
  },
  {
   "cell_type": "code",
   "execution_count": null,
   "id": "f098e90a",
   "metadata": {
    "scrolled": true
   },
   "outputs": [],
   "source": [
    "def date_range(start, end):\n",
    "    start= datetime.datetime.strptime(start, \"%Y-%m-%d\")\n",
    "    # 'datetime.strptime' 날짜와 시간 형식의 문자열을 datetime으로 변환\n",
    "    start= start + datetime.timedelta(days= 1)\n",
    "    # 날짜를 비교하기 위한 함수\n",
    "    end= datetime.datetime.strptime(end, \"%Y-%m-%d\")\n",
    "    end= end + datetime.timedelta(days= 1)\n",
    "    dates= [(start + datetime.timedelta(days= i)).strftime(\"%Y-%m-%d\") for i\n",
    "            in range((end-start).days+1)] # 'strftime' 날짜와 시간을 문자열로\n",
    "    return dates\n",
    "\n",
    "dates= date_range(\"2022-11-01\",\"2022-11-02\")\n",
    "\n",
    "print(dates)\n",
    "\n",
    "for day in reversed(dates):\n",
    "    myDay= day + ' 00:00' # Ex)day= 2018-11-21 09:\n",
    "    print(myDay)\n",
    "    ticker= 'KRW-BTC'\n",
    "    interval= 'minutel'\n",
    "    to= myDay\n",
    "    count= 1440\n",
    "    price_now= pyupbit.get_ohlcv(ticker= ticker, interval= interval, to= to, count= count)\n",
    "\n",
    "    print(price_now)\n",
    "    \n",
    "    db_path= r\"C:\\Users\\user\\Desktop\\가상화폐_DB\\coin.db\"\n",
    "\n",
    "    con= sqlite3.connect(db_path, isolation_level= None)\n",
    "    price_now.to_sql('BTC', con, if_exists= 'append')\n",
    "    \n",
    "    con.close"
   ]
  },
  {
   "cell_type": "markdown",
   "id": "12239cc9",
   "metadata": {},
   "source": [
    "중복된 값 제외"
   ]
  },
  {
   "cell_type": "code",
   "execution_count": null,
   "id": "7c878dc8",
   "metadata": {},
   "outputs": [],
   "source": [
    "db_path= r\"C:\\Users\\user\\Desktop\\가상화폐_DB\\coin.db\"\n",
    "con= sqlite3.connect(db_path, isolation_level= None)\n",
    "\n",
    "readed_df= pd.read_sql(\"SELECT DISTINCT * FROM 'BTC'\", con, index_col= 'index')\n",
    "# 중복된 자료 제거\n",
    "readed_df.to_sql('BTC_NEW', con, if_exists= 'replace')\n",
    "# 'replace'= 테이블이 존재하면 기존 테이블 삭제 후 생성\n",
    "print(readed_df)"
   ]
  },
  {
   "cell_type": "code",
   "execution_count": null,
   "id": "68e81795",
   "metadata": {},
   "outputs": [],
   "source": []
  }
 ],
 "metadata": {
  "hide_input": false,
  "kernelspec": {
   "display_name": "Python 3 (ipykernel)",
   "language": "python",
   "name": "python3"
  },
  "language_info": {
   "codemirror_mode": {
    "name": "ipython",
    "version": 3
   },
   "file_extension": ".py",
   "mimetype": "text/x-python",
   "name": "python",
   "nbconvert_exporter": "python",
   "pygments_lexer": "ipython3",
   "version": "3.9.12"
  }
 },
 "nbformat": 4,
 "nbformat_minor": 5
}
