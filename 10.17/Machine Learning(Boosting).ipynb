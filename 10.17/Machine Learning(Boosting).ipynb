{
 "cells": [
  {
   "cell_type": "markdown",
   "id": "7f815667",
   "metadata": {},
   "source": [
    "### Ada Boost Classifier"
   ]
  },
  {
   "cell_type": "code",
   "execution_count": 1,
   "id": "dd08aa47",
   "metadata": {},
   "outputs": [],
   "source": [
    "from sklearn.ensemble import AdaBoostClassifier\n",
    "from sklearn.model_selection import train_test_split\n",
    "from sklearn.datasets import load_breast_cancer\n",
    "from sklearn.datasets import load_boston\n",
    "import warnings\n",
    "warnings.filterwarnings('ignore', category= FutureWarning)\n",
    "import numpy as np\n",
    "import matplotlib.pyplot as plt\n",
    "from matplotlib import rc\n",
    "plt.rc('font', family='Malgun Gothic')\n",
    "plt.rcParams['axes.unicode_minus']= False"
   ]
  },
  {
   "cell_type": "code",
   "execution_count": 2,
   "id": "b41b9b15",
   "metadata": {},
   "outputs": [],
   "source": [
    "cancer= load_breast_cancer()\n",
    "x_train, x_test, y_train, y_test= train_test_split(cancer.data,\n",
    "                                                   cancer.target,\n",
    "                                                   random_state= 0)"
   ]
  },
  {
   "cell_type": "code",
   "execution_count": 3,
   "id": "d2089df8",
   "metadata": {},
   "outputs": [],
   "source": [
    "ada= AdaBoostClassifier(n_estimators= 100, random_state= 42)"
   ]
  },
  {
   "cell_type": "code",
   "execution_count": 4,
   "id": "fe41f724",
   "metadata": {},
   "outputs": [
    {
     "data": {
      "text/plain": [
       "AdaBoostClassifier(n_estimators=100, random_state=42)"
      ]
     },
     "execution_count": 4,
     "metadata": {},
     "output_type": "execute_result"
    }
   ],
   "source": [
    "ada.fit(x_train, y_train)"
   ]
  },
  {
   "cell_type": "code",
   "execution_count": 5,
   "id": "167b27f8",
   "metadata": {},
   "outputs": [
    {
     "data": {
      "text/plain": [
       "1.0"
      ]
     },
     "execution_count": 5,
     "metadata": {},
     "output_type": "execute_result"
    }
   ],
   "source": [
    "ada.score(x_train, y_train)"
   ]
  },
  {
   "cell_type": "code",
   "execution_count": 6,
   "id": "57616dd5",
   "metadata": {},
   "outputs": [
    {
     "data": {
      "text/plain": [
       "0.986013986013986"
      ]
     },
     "execution_count": 6,
     "metadata": {},
     "output_type": "execute_result"
    }
   ],
   "source": [
    "ada.score(x_test, y_test)"
   ]
  },
  {
   "cell_type": "code",
   "execution_count": 7,
   "id": "da9eac9c",
   "metadata": {},
   "outputs": [],
   "source": [
    "n_features= cancer.data.shape[1]"
   ]
  },
  {
   "cell_type": "code",
   "execution_count": 8,
   "id": "78bcc7b3",
   "metadata": {},
   "outputs": [
    {
     "data": {
      "image/png": "[encoded data removed]",
      "text/plain": [
       "<Figure size 432x288 with 1 Axes>"
      ]
     },
     "metadata": {
      "needs_background": "light"
     },
     "output_type": "display_data"
    }
   ],
   "source": [
    "plt.barh(range(n_features), ada.feature_importances_, align= 'center')\n",
    "plt.yticks(np.arange(n_features), cancer.feature_names)\n",
    "plt.xlabel('특성 중요도')\n",
    "plt.ylabel('특성')\n",
    "plt.ylim(-1, n_features)\n",
    "plt.show()"
   ]
  },
  {
   "cell_type": "markdown",
   "id": "bfcd204c",
   "metadata": {},
   "source": [
    "### 회귀 모델"
   ]
  },
  {
   "cell_type": "code",
   "execution_count": 9,
   "id": "dfddca5a",
   "metadata": {},
   "outputs": [],
   "source": [
    "from sklearn.datasets import load_boston\n",
    "from sklearn.ensemble import AdaBoostRegressor\n",
    "from sklearn.metrics import explained_variance_score\n",
    "from sklearn.metrics import mean_absolute_error\n",
    "from sklearn.metrics import mean_squared_error\n",
    "from sklearn.metrics import r2_score"
   ]
  },
  {
   "cell_type": "code",
   "execution_count": 10,
   "id": "7b3e47bd",
   "metadata": {},
   "outputs": [],
   "source": [
    "boston= load_boston()\n",
    "x_train, x_test, y_train, y_test= train_test_split(boston.data,\n",
    "                                                   boston.target,\n",
    "                                                   test_size= 0.3)"
   ]
  },
  {
   "cell_type": "code",
   "execution_count": 11,
   "id": "f1784c2f",
   "metadata": {},
   "outputs": [],
   "source": [
    "ada= AdaBoostRegressor(n_estimators= 100, random_state= 0)"
   ]
  },
  {
   "cell_type": "code",
   "execution_count": 12,
   "id": "3b416def",
   "metadata": {},
   "outputs": [
    {
     "data": {
      "text/plain": [
       "AdaBoostRegressor(n_estimators=100, random_state=0)"
      ]
     },
     "execution_count": 12,
     "metadata": {},
     "output_type": "execute_result"
    }
   ],
   "source": [
    "ada.fit(x_train, y_train)"
   ]
  },
  {
   "cell_type": "code",
   "execution_count": 13,
   "id": "06e958b9",
   "metadata": {},
   "outputs": [
    {
     "data": {
      "text/plain": [
       "array([12.62592593, 26.13825503, 45.72878788, 15.525     , 45.14666667,\n",
       "       20.07222222, 20.73255814, 24.60073529, 10.31666667, 30.28684211,\n",
       "       18.81875   , 18.65833333, 18.4       , 20.36551724, 17.34666667,\n",
       "       12.96551724, 18.51818182, 28.175     , 20.40054348, 13.69259259,\n",
       "       26.09285714, 28.84179104, 26.22325581, 18.659375  , 18.02      ,\n",
       "       22.58529412, 20.16944444, 18.2525    , 44.76470588, 20.44210526,\n",
       "       24.40125   , 26.09285714, 28.45219298, 15.525     , 24.60073529,\n",
       "       20.55147059, 23.44068966, 18.51818182, 32.6699422 , 24.40125   ,\n",
       "       18.81272727, 28.97239583, 11.98307692, 32.38592593, 27.72027027,\n",
       "       45.65490196, 27.44452555, 20.40054348, 24.60073529, 19.29371069,\n",
       "       20.16944444, 19.33505155, 25.67559055, 26.80242424, 26.22325581,\n",
       "       34.71418919, 20.68700565, 23.00172414, 11.02037037, 24.19484536,\n",
       "       23.44068966, 26.06586826, 20.31573034, 25.64390244, 29.57346939,\n",
       "       23.00172414, 21.07714286, 20.73255814, 28.        , 18.4       ,\n",
       "       20.40054348, 19.76666667, 16.94736842, 23.60941176, 26.09285714,\n",
       "       23.44068966, 16.44210526, 18.58611111, 15.03125   , 28.35175439,\n",
       "       23.44068966, 26.22325581, 32.02105263, 18.17692308, 23.55333333,\n",
       "       42.175     , 27.44452555, 33.49761905, 20.49438202, 24.91818182,\n",
       "       24.        , 18.44814815, 41.3       , 21.06195652, 24.25393258,\n",
       "       17.18181818, 20.68700565, 20.36551724, 19.29371069, 19.165625  ,\n",
       "       46.00126582, 15.57391304, 32.15      , 26.09285714, 32.45982906,\n",
       "       11.98307692, 19.195     , 12.94166667, 16.78222222, 19.195     ,\n",
       "       20.68700565, 47.70517241, 10.72903226, 21.06195652, 26.06586826,\n",
       "       23.44068966, 24.40125   , 22.12878788, 17.83846154, 15.99534884,\n",
       "       21.06195652, 11.0725    , 32.6699422 , 26.06586826, 42.175     ,\n",
       "       26.14171429, 23.00172414, 19.195     , 23.44068966, 20.73255814,\n",
       "       20.68700565, 10.17647059, 18.2525    , 29.18899083, 19.49060403,\n",
       "       26.80242424, 32.15      , 24.40125   , 24.40125   , 18.72887324,\n",
       "       25.01066667, 11.79642857, 18.99615385, 11.32142857, 26.14171429,\n",
       "       18.4       , 21.98152174, 25.67559055, 27.44285714, 25.01066667,\n",
       "       27.59253731, 21.98181818])"
      ]
     },
     "execution_count": 13,
     "metadata": {},
     "output_type": "execute_result"
    }
   ],
   "source": [
    "pred= ada.predict(x_test)\n",
    "pred"
   ]
  },
  {
   "cell_type": "code",
   "execution_count": 14,
   "id": "d4ec3833",
   "metadata": {},
   "outputs": [
    {
     "data": {
      "text/plain": [
       "0.907705374054406"
      ]
     },
     "execution_count": 14,
     "metadata": {},
     "output_type": "execute_result"
    }
   ],
   "source": [
    "ada.score(x_train, y_train)"
   ]
  },
  {
   "cell_type": "code",
   "execution_count": 15,
   "id": "4517fc1e",
   "metadata": {
    "scrolled": true
   },
   "outputs": [
    {
     "data": {
      "text/plain": [
       "0.8003628371576219"
      ]
     },
     "execution_count": 15,
     "metadata": {},
     "output_type": "execute_result"
    }
   ],
   "source": [
    "ada.score(x_test, y_test)"
   ]
  },
  {
   "cell_type": "markdown",
   "id": "22cbd1d5",
   "metadata": {},
   "source": [
    "### Gradient Boost Classifier"
   ]
  },
  {
   "cell_type": "code",
   "execution_count": 16,
   "id": "39014d6e",
   "metadata": {},
   "outputs": [],
   "source": [
    "from sklearn.ensemble import GradientBoostingClassifier"
   ]
  },
  {
   "cell_type": "code",
   "execution_count": 17,
   "id": "f25ea431",
   "metadata": {},
   "outputs": [],
   "source": [
    "cancer= load_breast_cancer()\n",
    "x_train, x_test, y_train, y_test= train_test_split(cancer.data,\n",
    "                                                   cancer.target,\n",
    "                                                   random_state= 0)"
   ]
  },
  {
   "cell_type": "code",
   "execution_count": 18,
   "id": "19f2e0f6",
   "metadata": {},
   "outputs": [],
   "source": [
    "gb= GradientBoostingClassifier(n_estimators= 100, random_state= 0)"
   ]
  },
  {
   "cell_type": "code",
   "execution_count": 19,
   "id": "e83d7330",
   "metadata": {},
   "outputs": [
    {
     "data": {
      "text/plain": [
       "GradientBoostingClassifier(random_state=0)"
      ]
     },
     "execution_count": 19,
     "metadata": {},
     "output_type": "execute_result"
    }
   ],
   "source": [
    "gb.fit(x_train, y_train)"
   ]
  },
  {
   "cell_type": "code",
   "execution_count": 20,
   "id": "3cc86719",
   "metadata": {},
   "outputs": [
    {
     "data": {
      "text/plain": [
       "1.0"
      ]
     },
     "execution_count": 20,
     "metadata": {},
     "output_type": "execute_result"
    }
   ],
   "source": [
    "gb.score(x_train, y_train)"
   ]
  },
  {
   "cell_type": "code",
   "execution_count": 21,
   "id": "e5be7edf",
   "metadata": {},
   "outputs": [
    {
     "data": {
      "text/plain": [
       "0.965034965034965"
      ]
     },
     "execution_count": 21,
     "metadata": {},
     "output_type": "execute_result"
    }
   ],
   "source": [
    "gb.score(x_test, y_test)"
   ]
  },
  {
   "cell_type": "markdown",
   "id": "7eb88dfd",
   "metadata": {},
   "source": [
    "### 사전 가지치기"
   ]
  },
  {
   "cell_type": "code",
   "execution_count": 22,
   "id": "650a8952",
   "metadata": {},
   "outputs": [],
   "source": [
    "gb= GradientBoostingClassifier(n_estimators= 100, random_state= 0, max_depth= 1)"
   ]
  },
  {
   "cell_type": "code",
   "execution_count": 23,
   "id": "e2f804d9",
   "metadata": {},
   "outputs": [
    {
     "data": {
      "text/plain": [
       "GradientBoostingClassifier(max_depth=1, random_state=0)"
      ]
     },
     "execution_count": 23,
     "metadata": {},
     "output_type": "execute_result"
    }
   ],
   "source": [
    "gb.fit(x_train, y_train)"
   ]
  },
  {
   "cell_type": "code",
   "execution_count": 24,
   "id": "191eedba",
   "metadata": {},
   "outputs": [
    {
     "data": {
      "text/plain": [
       "0.9906103286384976"
      ]
     },
     "execution_count": 24,
     "metadata": {},
     "output_type": "execute_result"
    }
   ],
   "source": [
    "gb.score(x_train, y_train)"
   ]
  },
  {
   "cell_type": "code",
   "execution_count": 25,
   "id": "21afcb46",
   "metadata": {},
   "outputs": [
    {
     "data": {
      "text/plain": [
       "0.972027972027972"
      ]
     },
     "execution_count": 25,
     "metadata": {},
     "output_type": "execute_result"
    }
   ],
   "source": [
    "gb.score(x_test, y_test)"
   ]
  },
  {
   "cell_type": "markdown",
   "id": "78ecde67",
   "metadata": {},
   "source": [
    "### 학습률 낮추기"
   ]
  },
  {
   "cell_type": "code",
   "execution_count": 26,
   "id": "43ad3ba8",
   "metadata": {},
   "outputs": [],
   "source": [
    "gb= GradientBoostingClassifier(n_estimators= 100, random_state= 0, learning_rate= 0.01)"
   ]
  },
  {
   "cell_type": "code",
   "execution_count": 27,
   "id": "35a11c39",
   "metadata": {},
   "outputs": [
    {
     "data": {
      "text/plain": [
       "GradientBoostingClassifier(learning_rate=0.01, random_state=0)"
      ]
     },
     "execution_count": 27,
     "metadata": {},
     "output_type": "execute_result"
    }
   ],
   "source": [
    "gb.fit(x_train, y_train)"
   ]
  },
  {
   "cell_type": "code",
   "execution_count": 28,
   "id": "68439c36",
   "metadata": {},
   "outputs": [
    {
     "data": {
      "text/plain": [
       "0.9882629107981221"
      ]
     },
     "execution_count": 28,
     "metadata": {},
     "output_type": "execute_result"
    }
   ],
   "source": [
    "gb.score(x_train, y_train)"
   ]
  },
  {
   "cell_type": "code",
   "execution_count": 29,
   "id": "79192905",
   "metadata": {},
   "outputs": [
    {
     "data": {
      "text/plain": [
       "0.965034965034965"
      ]
     },
     "execution_count": 29,
     "metadata": {},
     "output_type": "execute_result"
    }
   ],
   "source": [
    "gb.score(x_test, y_test)"
   ]
  },
  {
   "cell_type": "markdown",
   "id": "b5bbd71e",
   "metadata": {},
   "source": [
    "### 회귀 모델"
   ]
  },
  {
   "cell_type": "code",
   "execution_count": 30,
   "id": "06f6866f",
   "metadata": {},
   "outputs": [],
   "source": [
    "from sklearn.ensemble import GradientBoostingRegressor\n",
    "plt.rc('font', family='Malgun Gothic')\n",
    "plt.rcParams['axes.unicode_minus']= False"
   ]
  },
  {
   "cell_type": "code",
   "execution_count": 31,
   "id": "ac083700",
   "metadata": {},
   "outputs": [],
   "source": [
    "gb= GradientBoostingRegressor(n_estimators= 100, random_state= 0, criterion= 'mse')"
   ]
  },
  {
   "cell_type": "code",
   "execution_count": 32,
   "id": "f457a5e2",
   "metadata": {},
   "outputs": [],
   "source": [
    "boston= load_boston()\n",
    "x_train, x_test, y_train, y_test= train_test_split(boston.data,\n",
    "                                                   boston.target,\n",
    "                                                   test_size= 0.3)"
   ]
  },
  {
   "cell_type": "code",
   "execution_count": 33,
   "id": "34b2e668",
   "metadata": {
    "scrolled": true
   },
   "outputs": [
    {
     "data": {
      "text/plain": [
       "GradientBoostingRegressor(criterion='mse', random_state=0)"
      ]
     },
     "execution_count": 33,
     "metadata": {},
     "output_type": "execute_result"
    }
   ],
   "source": [
    "gb.fit(x_train, y_train)"
   ]
  },
  {
   "cell_type": "code",
   "execution_count": 34,
   "id": "aa067673",
   "metadata": {},
   "outputs": [
    {
     "data": {
      "text/plain": [
       "array([21.15021434, 14.59250421, 12.04177312, 32.18482027, 23.3531931 ,\n",
       "       16.84679189, 33.14645277, 25.13359111, 19.15246006, 23.32646178,\n",
       "       25.24246219, 22.82587935, 20.18472427, 15.9220907 , 14.47685153,\n",
       "       23.74517676,  8.73863619, 23.28309112, 12.21471106, 30.98091777,\n",
       "       15.58710337, 17.25753231, 14.96063603, 30.95229758, 38.87030791,\n",
       "       19.46039516, 23.6199516 , 21.56888066, 28.87775376, 18.70482859,\n",
       "       24.35819377, 47.83255014, 22.03996157, 18.04993544, 47.01927603,\n",
       "       28.55924018, 28.42811832, 44.48210687, 15.42731892, 15.67998798,\n",
       "        8.7978947 , 43.90597334, 25.05130728, 21.73630438, 32.34140242,\n",
       "       19.43718711, 23.80328831, 11.39678806, 20.38188946, 11.51314761,\n",
       "       26.80832253, 12.14153439, 20.04636471, 33.16254633, 27.71678416,\n",
       "       20.32973477, 22.97557848, 23.93685609, 22.1114647 , 14.88324291,\n",
       "       19.72545966, 31.99340253, 11.49081281, 25.0459512 , 34.1005134 ,\n",
       "       13.82900347, 27.73511741, 16.45672682, 32.1094053 , 14.76773172,\n",
       "       36.00824294, 34.08344691, 18.82330886, 24.36022196, 20.62487298,\n",
       "       14.7112149 , 22.63648576, 22.45374854, 13.57013201, 42.37057174,\n",
       "       17.99141163, 16.53008244, 16.84371628, 13.83124474, 23.76701025,\n",
       "       41.84076683, 15.97365758, 24.23839602, 22.9004998 , 16.97135875,\n",
       "       27.56066078, 22.68059541, 19.28276765, 34.08117875, 16.97850081,\n",
       "       24.26677926, 22.51084276, 18.26654753, 23.46609102, 19.31016675,\n",
       "       16.83441006, 10.85867533, 15.51310327, 30.76470914, 15.27240728,\n",
       "       20.17227226, 12.99629262,  5.7114812 , 10.4721449 , 18.79478078,\n",
       "       18.39617331, 23.42450402, 30.13008563, 26.3473418 , 15.98443955,\n",
       "       19.27174965, 20.7692807 , 10.97124728, 19.73489616, 17.14033423,\n",
       "       23.84995905, 45.3998675 , 20.95367222, 17.19841303, 44.49180052,\n",
       "       23.57021163, 21.71851396, 38.96934669, 20.76172266, 22.32420434,\n",
       "       27.16757013, 19.90078702, 29.96551792, 43.08583398, 15.12137651,\n",
       "       20.16430193, 22.73675845, 18.84858129, 11.49095088, 19.91229551,\n",
       "       20.71402203, 32.81255107, 10.02483203, 14.6497334 , 16.56265634,\n",
       "       19.34357048, 43.13605727, 19.47965284, 26.64636953, 23.34620761,\n",
       "       21.02780319, 28.56914138])"
      ]
     },
     "execution_count": 34,
     "metadata": {},
     "output_type": "execute_result"
    }
   ],
   "source": [
    "pred= gb.predict(x_test)\n",
    "pred"
   ]
  },
  {
   "cell_type": "code",
   "execution_count": 35,
   "id": "5be0304a",
   "metadata": {},
   "outputs": [
    {
     "data": {
      "text/plain": [
       "0.9791164942463324"
      ]
     },
     "execution_count": 35,
     "metadata": {},
     "output_type": "execute_result"
    }
   ],
   "source": [
    "gb.score(x_train, y_train)"
   ]
  },
  {
   "cell_type": "code",
   "execution_count": 36,
   "id": "9ec5f650",
   "metadata": {
    "scrolled": true
   },
   "outputs": [
    {
     "data": {
      "text/plain": [
       "0.7706457146632365"
      ]
     },
     "execution_count": 36,
     "metadata": {},
     "output_type": "execute_result"
    }
   ],
   "source": [
    "gb.score(x_test, y_test)"
   ]
  },
  {
   "cell_type": "markdown",
   "id": "7f681e93",
   "metadata": {},
   "source": [
    "### XGBoost Classifier"
   ]
  },
  {
   "cell_type": "code",
   "execution_count": 37,
   "id": "30152572",
   "metadata": {},
   "outputs": [
    {
     "name": "stdout",
     "output_type": "stream",
     "text": [
      "Requirement already satisfied: xgboost in c:\\users\\user\\anaconda3\\lib\\site-packages (1.6.2)\n",
      "Requirement already satisfied: numpy in c:\\users\\user\\anaconda3\\lib\\site-packages (from xgboost) (1.21.5)\n",
      "Requirement already satisfied: scipy in c:\\users\\user\\anaconda3\\lib\\site-packages (from xgboost) (1.7.3)\n"
     ]
    }
   ],
   "source": [
    "!pip install xgboost"
   ]
  },
  {
   "cell_type": "code",
   "execution_count": 38,
   "id": "883ace48",
   "metadata": {},
   "outputs": [],
   "source": [
    "import xgboost as xgb"
   ]
  },
  {
   "cell_type": "code",
   "execution_count": 39,
   "id": "6257af72",
   "metadata": {},
   "outputs": [],
   "source": [
    "xgb= xgb.XGBClassifier(random_state= 0)"
   ]
  },
  {
   "cell_type": "code",
   "execution_count": 40,
   "id": "eccbbfc0",
   "metadata": {},
   "outputs": [],
   "source": [
    "cancer= load_breast_cancer()\n",
    "x_train, x_test, y_train, y_test= train_test_split(cancer.data,\n",
    "                                                   cancer.target,\n",
    "                                                   random_state= 0)"
   ]
  },
  {
   "cell_type": "code",
   "execution_count": 41,
   "id": "05c59a30",
   "metadata": {},
   "outputs": [
    {
     "data": {
      "text/plain": [
       "XGBClassifier(base_score=0.5, booster='gbtree', callbacks=None,\n",
       "              colsample_bylevel=1, colsample_bynode=1, colsample_bytree=1,\n",
       "              early_stopping_rounds=None, enable_categorical=False,\n",
       "              eval_metric=None, gamma=0, gpu_id=-1, grow_policy='depthwise',\n",
       "              importance_type=None, interaction_constraints='',\n",
       "              learning_rate=0.300000012, max_bin=256, max_cat_to_onehot=4,\n",
       "              max_delta_step=0, max_depth=6, max_leaves=0, min_child_weight=1,\n",
       "              missing=nan, monotone_constraints='()', n_estimators=100,\n",
       "              n_jobs=0, num_parallel_tree=1, predictor='auto', random_state=0,\n",
       "              reg_alpha=0, reg_lambda=1, ...)"
      ]
     },
     "execution_count": 41,
     "metadata": {},
     "output_type": "execute_result"
    }
   ],
   "source": [
    "xgb.fit(x_train, y_train)"
   ]
  },
  {
   "cell_type": "code",
   "execution_count": 42,
   "id": "5f139a20",
   "metadata": {},
   "outputs": [
    {
     "data": {
      "text/plain": [
       "1.0"
      ]
     },
     "execution_count": 42,
     "metadata": {},
     "output_type": "execute_result"
    }
   ],
   "source": [
    "xgb.score(x_train, y_train)"
   ]
  },
  {
   "cell_type": "code",
   "execution_count": 43,
   "id": "a4636e04",
   "metadata": {
    "scrolled": true
   },
   "outputs": [
    {
     "data": {
      "text/plain": [
       "0.986013986013986"
      ]
     },
     "execution_count": 43,
     "metadata": {},
     "output_type": "execute_result"
    }
   ],
   "source": [
    "xgb.score(x_test, y_test)"
   ]
  },
  {
   "cell_type": "markdown",
   "id": "2dfe0dfb",
   "metadata": {},
   "source": [
    "### 사전 가지치기"
   ]
  },
  {
   "cell_type": "code",
   "execution_count": 44,
   "id": "be793d87",
   "metadata": {},
   "outputs": [],
   "source": [
    "import xgboost as xgb"
   ]
  },
  {
   "cell_type": "code",
   "execution_count": 45,
   "id": "352173f0",
   "metadata": {},
   "outputs": [],
   "source": [
    "xgb= xgb.XGBClassifier(random_state= 0, max_depth= 1)"
   ]
  },
  {
   "cell_type": "code",
   "execution_count": 46,
   "id": "da74465d",
   "metadata": {
    "scrolled": true
   },
   "outputs": [
    {
     "data": {
      "text/plain": [
       "XGBClassifier(base_score=0.5, booster='gbtree', callbacks=None,\n",
       "              colsample_bylevel=1, colsample_bynode=1, colsample_bytree=1,\n",
       "              early_stopping_rounds=None, enable_categorical=False,\n",
       "              eval_metric=None, gamma=0, gpu_id=-1, grow_policy='depthwise',\n",
       "              importance_type=None, interaction_constraints='',\n",
       "              learning_rate=0.300000012, max_bin=256, max_cat_to_onehot=4,\n",
       "              max_delta_step=0, max_depth=1, max_leaves=0, min_child_weight=1,\n",
       "              missing=nan, monotone_constraints='()', n_estimators=100,\n",
       "              n_jobs=0, num_parallel_tree=1, predictor='auto', random_state=0,\n",
       "              reg_alpha=0, reg_lambda=1, ...)"
      ]
     },
     "execution_count": 46,
     "metadata": {},
     "output_type": "execute_result"
    }
   ],
   "source": [
    "xgb.fit(x_train, y_train)"
   ]
  },
  {
   "cell_type": "code",
   "execution_count": 47,
   "id": "fd5c0d9c",
   "metadata": {},
   "outputs": [
    {
     "data": {
      "text/plain": [
       "0.9976525821596244"
      ]
     },
     "execution_count": 47,
     "metadata": {},
     "output_type": "execute_result"
    }
   ],
   "source": [
    "xgb.score(x_train, y_train)"
   ]
  },
  {
   "cell_type": "code",
   "execution_count": 48,
   "id": "ac16df1b",
   "metadata": {},
   "outputs": [
    {
     "data": {
      "text/plain": [
       "0.986013986013986"
      ]
     },
     "execution_count": 48,
     "metadata": {},
     "output_type": "execute_result"
    }
   ],
   "source": [
    "xgb.score(x_test, y_test)"
   ]
  },
  {
   "cell_type": "markdown",
   "id": "12019947",
   "metadata": {},
   "source": [
    "### 학습률 낮추기"
   ]
  },
  {
   "cell_type": "code",
   "execution_count": 49,
   "id": "0de2f21e",
   "metadata": {},
   "outputs": [],
   "source": [
    "import xgboost as xgb"
   ]
  },
  {
   "cell_type": "code",
   "execution_count": 50,
   "id": "6d5c950b",
   "metadata": {},
   "outputs": [],
   "source": [
    "xgb= xgb.XGBClassifier(random_state= 0, learning_rate= 0.01)"
   ]
  },
  {
   "cell_type": "code",
   "execution_count": 51,
   "id": "77b8376f",
   "metadata": {},
   "outputs": [
    {
     "data": {
      "text/plain": [
       "XGBClassifier(base_score=0.5, booster='gbtree', callbacks=None,\n",
       "              colsample_bylevel=1, colsample_bynode=1, colsample_bytree=1,\n",
       "              early_stopping_rounds=None, enable_categorical=False,\n",
       "              eval_metric=None, gamma=0, gpu_id=-1, grow_policy='depthwise',\n",
       "              importance_type=None, interaction_constraints='',\n",
       "              learning_rate=0.01, max_bin=256, max_cat_to_onehot=4,\n",
       "              max_delta_step=0, max_depth=6, max_leaves=0, min_child_weight=1,\n",
       "              missing=nan, monotone_constraints='()', n_estimators=100,\n",
       "              n_jobs=0, num_parallel_tree=1, predictor='auto', random_state=0,\n",
       "              reg_alpha=0, reg_lambda=1, ...)"
      ]
     },
     "execution_count": 51,
     "metadata": {},
     "output_type": "execute_result"
    }
   ],
   "source": [
    "xgb.fit(x_train, y_train)"
   ]
  },
  {
   "cell_type": "code",
   "execution_count": 52,
   "id": "b6a681a7",
   "metadata": {},
   "outputs": [
    {
     "data": {
      "text/plain": [
       "0.9953051643192489"
      ]
     },
     "execution_count": 52,
     "metadata": {},
     "output_type": "execute_result"
    }
   ],
   "source": [
    "xgb.score(x_train, y_train)"
   ]
  },
  {
   "cell_type": "code",
   "execution_count": 53,
   "id": "bd90d347",
   "metadata": {},
   "outputs": [
    {
     "data": {
      "text/plain": [
       "0.965034965034965"
      ]
     },
     "execution_count": 53,
     "metadata": {},
     "output_type": "execute_result"
    }
   ],
   "source": [
    "xgb.score(x_test, y_test)"
   ]
  },
  {
   "cell_type": "markdown",
   "id": "c67cf65a",
   "metadata": {},
   "source": [
    "### 회귀 모델"
   ]
  },
  {
   "cell_type": "code",
   "execution_count": 54,
   "id": "cc3fd9b1",
   "metadata": {},
   "outputs": [],
   "source": [
    "import xgboost as xgb"
   ]
  },
  {
   "cell_type": "code",
   "execution_count": 55,
   "id": "fff9bac7",
   "metadata": {},
   "outputs": [],
   "source": [
    "r= xgb.XGBRegressor(n_estimators=100, random_state= 0, learning_rate= 0.01\n",
    "                   ,gamma= 0, max_depth= 3)"
   ]
  },
  {
   "cell_type": "code",
   "execution_count": 56,
   "id": "1e4e6598",
   "metadata": {
    "scrolled": true
   },
   "outputs": [],
   "source": [
    "boston= load_boston()\n",
    "x_train, x_test, y_train, y_test= train_test_split(boston.data,\n",
    "                                                   boston.target,\n",
    "                                                   test_size= 0.3)"
   ]
  },
  {
   "cell_type": "code",
   "execution_count": 57,
   "id": "12d194a5",
   "metadata": {},
   "outputs": [
    {
     "data": {
      "text/plain": [
       "XGBRegressor(base_score=0.5, booster='gbtree', callbacks=None,\n",
       "             colsample_bylevel=1, colsample_bynode=1, colsample_bytree=1,\n",
       "             early_stopping_rounds=None, enable_categorical=False,\n",
       "             eval_metric=None, gamma=0, gpu_id=-1, grow_policy='depthwise',\n",
       "             importance_type=None, interaction_constraints='',\n",
       "             learning_rate=0.01, max_bin=256, max_cat_to_onehot=4,\n",
       "             max_delta_step=0, max_depth=3, max_leaves=0, min_child_weight=1,\n",
       "             missing=nan, monotone_constraints='()', n_estimators=100, n_jobs=0,\n",
       "             num_parallel_tree=1, predictor='auto', random_state=0, reg_alpha=0,\n",
       "             reg_lambda=1, ...)"
      ]
     },
     "execution_count": 57,
     "metadata": {},
     "output_type": "execute_result"
    }
   ],
   "source": [
    "r.fit(x_train, y_train)"
   ]
  },
  {
   "cell_type": "code",
   "execution_count": 58,
   "id": "95d793db",
   "metadata": {},
   "outputs": [
    {
     "data": {
      "text/plain": [
       "<AxesSubplot:title={'center':'Feature importance'}, xlabel='F score', ylabel='Features'>"
      ]
     },
     "execution_count": 58,
     "metadata": {},
     "output_type": "execute_result"
    },
    {
     "data": {
      "image/png": "[encoded data removed]",
      "text/plain": [
       "<Figure size 432x288 with 1 Axes>"
      ]
     },
     "metadata": {
      "needs_background": "light"
     },
     "output_type": "display_data"
    }
   ],
   "source": [
    "xgb.plot_importance(r)"
   ]
  },
  {
   "cell_type": "code",
   "execution_count": 59,
   "id": "1837d88e",
   "metadata": {},
   "outputs": [
    {
     "data": {
      "text/plain": [
       "array([10.586325 , 13.454783 , 15.283201 , 13.298168 , 19.390646 ,\n",
       "       11.309959 , 15.283201 , 26.656633 , 21.730785 , 18.182161 ,\n",
       "       14.181941 , 16.088043 , 14.085111 , 11.984474 , 22.029985 ,\n",
       "       12.630001 , 12.506435 , 28.217203 , 13.454783 ,  9.683662 ,\n",
       "       14.402462 ,  9.531023 , 14.402462 ,  9.683662 , 20.6496   ,\n",
       "       14.402462 , 14.241726 , 16.799107 , 14.241726 , 13.454783 ,\n",
       "       10.904037 , 17.022406 , 14.241726 , 13.475107 ,  8.948352 ,\n",
       "       22.181374 , 15.283201 ,  7.8827395, 13.454783 , 28.016928 ,\n",
       "       18.055809 , 13.454783 , 10.100984 , 16.336605 , 13.61552  ,\n",
       "       15.359143 ,  9.640279 , 13.454783 , 15.37476  , 15.246031 ,\n",
       "        9.050258 , 12.289608 , 21.080107 , 11.573404 , 28.217203 ,\n",
       "       13.711406 , 12.630001 ,  7.070422 , 13.244858 ,  9.710559 ,\n",
       "       15.37476  ,  9.050258 , 12.289608 , 13.244858 , 20.879831 ,\n",
       "       11.984474 , 22.029985 ,  9.869113 ,  7.130074 , 26.929985 ,\n",
       "       13.298168 , 10.904037 ,  7.070422 , 22.101156 , 19.156097 ,\n",
       "        9.683662 , 28.217203 , 26.808022 , 19.56111  , 15.359143 ,\n",
       "       13.454783 , 10.731016 ,  9.515378 , 15.246031 , 10.538422 ,\n",
       "       15.246031 , 13.454783 ,  9.882026 , 12.956608 ,  7.070422 ,\n",
       "       15.865465 , 13.454783 , 13.454783 ,  7.3656087, 13.454783 ,\n",
       "       10.586325 , 16.088043 , 15.632498 ,  9.515378 , 15.246031 ,\n",
       "       20.844461 , 17.193825 , 16.58817  , 10.425882 , 16.088043 ,\n",
       "       13.401471 , 28.217203 , 10.865921 , 13.454783 , 15.246031 ,\n",
       "       16.148554 ,  9.683662 , 11.984474 , 15.283201 , 13.126701 ,\n",
       "       17.53878  ,  9.710559 ,  6.666792 ,  9.153224 , 16.950285 ,\n",
       "       13.454783 , 16.572254 , 10.906499 , 17.511103 , 11.064774 ,\n",
       "       13.126701 , 13.421734 , 14.085111 , 27.081373 , 21.754074 ,\n",
       "       14.365292 , 19.10721  , 15.246031 , 13.454783 , 20.844461 ,\n",
       "        7.435062 , 11.958737 , 12.289608 ,  8.49837  , 13.634504 ,\n",
       "       16.522852 , 28.217203 , 20.817537 , 14.895225 , 13.578349 ,\n",
       "       20.782812 , 13.475107 , 11.984474 ,  8.610329 , 13.454783 ,\n",
       "       13.454783 , 14.241726 ], dtype=float32)"
      ]
     },
     "execution_count": 59,
     "metadata": {},
     "output_type": "execute_result"
    }
   ],
   "source": [
    "pred= r.predict(x_test)\n",
    "pred"
   ]
  },
  {
   "cell_type": "code",
   "execution_count": 60,
   "id": "2c633e89",
   "metadata": {},
   "outputs": [
    {
     "data": {
      "text/plain": [
       "-0.07159666157396116"
      ]
     },
     "execution_count": 60,
     "metadata": {},
     "output_type": "execute_result"
    }
   ],
   "source": [
    "r.score(x_train, y_train)"
   ]
  },
  {
   "cell_type": "code",
   "execution_count": 61,
   "id": "6ddbe33a",
   "metadata": {},
   "outputs": [
    {
     "data": {
      "text/plain": [
       "-0.12202792426871789"
      ]
     },
     "execution_count": 61,
     "metadata": {},
     "output_type": "execute_result"
    }
   ],
   "source": [
    "r.score(x_test, y_test)"
   ]
  },
  {
   "cell_type": "code",
   "execution_count": null,
   "id": "eed9e381",
   "metadata": {},
   "outputs": [],
   "source": []
  }
 ],
 "metadata": {
  "kernelspec": {
   "display_name": "Python 3 (ipykernel)",
   "language": "python",
   "name": "python3"
  },
  "language_info": {
   "codemirror_mode": {
    "name": "ipython",
    "version": 3
   },
   "file_extension": ".py",
   "mimetype": "text/x-python",
   "name": "python",
   "nbconvert_exporter": "python",
   "pygments_lexer": "ipython3",
   "version": "3.9.12"
  }
 },
 "nbformat": 4,
 "nbformat_minor": 5
}
