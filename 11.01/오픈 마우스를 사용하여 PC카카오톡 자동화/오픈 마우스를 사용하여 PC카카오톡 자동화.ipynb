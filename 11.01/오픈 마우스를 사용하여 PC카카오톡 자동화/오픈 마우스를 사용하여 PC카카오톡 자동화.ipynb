{
 "cells": [
  {
   "cell_type": "markdown",
   "id": "a0de5e38",
   "metadata": {},
   "source": [
    "!pip install pyautogui\n",
    "!pip install pyperclip\n",
    "!pip install schedule"
   ]
  },
  {
   "cell_type": "code",
   "execution_count": null,
   "id": "5b60f5a6",
   "metadata": {},
   "outputs": [],
   "source": [
    "import pyautogui\n",
    "import pyperclip\n",
    "import threading\n",
    "import schedule\n",
    "import time"
   ]
  },
  {
   "cell_type": "code",
   "execution_count": null,
   "id": "5adb61d2",
   "metadata": {},
   "outputs": [],
   "source": [
    "def send_message():\n",
    "    #threading.Timer(10, send_message).start()\n",
    "    \n",
    "    picPosition= pyautogui.locateOnScreen('Ex_2.png')\n",
    "    print(picPosition)\n",
    "    \n",
    "    if picPosition == None or pyautogui.locateOnScreen('Ex_3.png'):\n",
    "        picPosition= pyautogui.locateOnScreen('Ex_3.png')\n",
    "        print(picPosition)\n",
    "    \n",
    "        clickPosition= pyautogui.center(picPosition)\n",
    "        pyautogui.doubleClick(clickPosition)\n",
    "\n",
    "        pyperclip.copy(\"Please contact me again in half an hour.\")\n",
    "        pyautogui.hotkey(\"ctrl\", \"v\")\n",
    "        time.sleep(1.0)\n",
    "        pyautogui.write([\"enter\"])\n",
    "        time.sleep(1.0)\n",
    "        pyautogui.write([\"escape\"])\n",
    "        time.sleep(1.0)\n",
    "    \n",
    "    elif pyautogui.locateOnScreen('Ex_2.png'):\n",
    "        clickPosition= pyautogui.center(picPosition)\n",
    "        pyautogui.doubleClick(clickPosition)\n",
    "\n",
    "        pyperclip.copy(\"User is away.\")\n",
    "        pyautogui.hotkey(\"ctrl\", \"v\")\n",
    "        time.sleep(1.0)\n",
    "        pyautogui.write([\"enter\"])\n",
    "        time.sleep(1.0)\n",
    "        pyautogui.write([\"escape\"])\n",
    "        time.sleep(1.0)"
   ]
  },
  {
   "cell_type": "code",
   "execution_count": null,
   "id": "1005e2d8",
   "metadata": {},
   "outputs": [],
   "source": [
    "send_message()"
   ]
  },
  {
   "cell_type": "code",
   "execution_count": null,
   "id": "e180ca08",
   "metadata": {},
   "outputs": [],
   "source": []
  }
 ],
 "metadata": {
  "hide_input": false,
  "kernelspec": {
   "display_name": "Python 3 (ipykernel)",
   "language": "python",
   "name": "python3"
  },
  "language_info": {
   "codemirror_mode": {
    "name": "ipython",
    "version": 3
   },
   "file_extension": ".py",
   "mimetype": "text/x-python",
   "name": "python",
   "nbconvert_exporter": "python",
   "pygments_lexer": "ipython3",
   "version": "3.9.12"
  }
 },
 "nbformat": 4,
 "nbformat_minor": 5
}
