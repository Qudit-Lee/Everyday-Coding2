{
  "nbformat": 4,
  "nbformat_minor": 0,
  "metadata": {
    "colab": {
      "provenance": []
    },
    "kernelspec": {
      "name": "python3",
      "display_name": "Python 3"
    },
    "language_info": {
      "name": "python"
    }
  },
  "cells": [
    {
      "cell_type": "markdown",
      "source": [
        "1. 환경 준비\n",
        "\n"
      ],
      "metadata": {
        "id": "HlHdbr2VDtLa"
      }
    },
    {
      "cell_type": "code",
      "execution_count": null,
      "metadata": {
        "id": "pFxqJUUSCYPp"
      },
      "outputs": [],
      "source": [
        "from tensorflow.keras.models import Sequential #텐서플로의 케라스 API에서 필요한 함수\n",
        "from tensorflow.keras.layers import Dense #데이터를 다루는데 필요한 라이브러리리\n",
        "import numpy as np"
      ]
    },
    {
      "cell_type": "markdown",
      "source": [
        "2. 데이터 준비"
      ],
      "metadata": {
        "id": "pqh00qfYDlr6"
      }
    },
    {
      "cell_type": "code",
      "source": [
        "!git clone https://github.com/taehojo/data.git #깃허브에 준비된 데이터 삽입입"
      ],
      "metadata": {
        "colab": {
          "base_uri": "https://localhost:8080/"
        },
        "id": "WQsiLTCbC1x6",
        "outputId": "7f7f82d1-1b9a-4529-c8c3-194489aeabb3"
      },
      "execution_count": null,
      "outputs": [
        {
          "output_type": "stream",
          "name": "stdout",
          "text": [
            "Cloning into 'data'...\n",
            "remote: Enumerating objects: 21, done.\u001b[K\n",
            "remote: Counting objects: 100% (21/21), done.\u001b[K\n",
            "remote: Compressing objects: 100% (18/18), done.\u001b[K\n",
            "remote: Total 21 (delta 3), reused 20 (delta 2), pack-reused 0\u001b[K\n",
            "Unpacking objects: 100% (21/21), done.\n"
          ]
        }
      ]
    },
    {
      "cell_type": "code",
      "source": [
        "Data_set= np.loadtxt(\"./data/ThoraricSurgery3.csv\", delimiter=\",\") #수술 환자 데이터\n",
        "x= Data_set[:, 0:16] #환자의 진찰 기록\n",
        "y= Data_set[:, 16] #수술 후 사망&생존 여부부"
      ],
      "metadata": {
        "id": "kNiBzCpEDBvO"
      },
      "execution_count": null,
      "outputs": []
    },
    {
      "cell_type": "markdown",
      "source": [
        "3. 구조 결정"
      ],
      "metadata": {
        "id": "xKPU6RpkDvoL"
      }
    },
    {
      "cell_type": "code",
      "source": [
        "model= Sequential() \n",
        "model.add(Dense(30, input_dim= 16, activation= 'relu')) #가중치 활성화 함수\n",
        "model.add(Dense(1, activation= 'sigmoid')) #둘 중 하나 "
      ],
      "metadata": {
        "id": "PXkTR74bDyWB"
      },
      "execution_count": null,
      "outputs": []
    },
    {
      "cell_type": "markdown",
      "source": [
        "4. 모델 실행"
      ],
      "metadata": {
        "id": "2MzFaVo0EUfp"
      }
    },
    {
      "cell_type": "code",
      "source": [
        "from IPython.core import history\n",
        "model.compile(loss= 'binary_crossentropy', optimizer= 'adam', metrics= ['accuracy'])\n",
        "history= model.fit(x, y, epochs= 5, batch_size= 16)"
      ],
      "metadata": {
        "colab": {
          "base_uri": "https://localhost:8080/"
        },
        "id": "uu_gCPLpEZyy",
        "outputId": "26f126f4-4b93-4a44-e834-d6e8178a4c08"
      },
      "execution_count": null,
      "outputs": [
        {
          "output_type": "stream",
          "name": "stdout",
          "text": [
            "Epoch 1/5\n",
            "30/30 [==============================] - 1s 2ms/step - loss: 0.4830 - accuracy: 0.8489\n",
            "Epoch 2/5\n",
            "30/30 [==============================] - 0s 2ms/step - loss: 0.4419 - accuracy: 0.8532\n",
            "Epoch 3/5\n",
            "30/30 [==============================] - 0s 2ms/step - loss: 0.4503 - accuracy: 0.8532\n",
            "Epoch 4/5\n",
            "30/30 [==============================] - 0s 2ms/step - loss: 0.4311 - accuracy: 0.8426\n",
            "Epoch 5/5\n",
            "30/30 [==============================] - 0s 2ms/step - loss: 0.4311 - accuracy: 0.8532\n"
          ]
        }
      ]
    },
    {
      "cell_type": "code",
      "source": [],
      "metadata": {
        "id": "agvo-JA5Eza3"
      },
      "execution_count": null,
      "outputs": []
    }
  ]
}