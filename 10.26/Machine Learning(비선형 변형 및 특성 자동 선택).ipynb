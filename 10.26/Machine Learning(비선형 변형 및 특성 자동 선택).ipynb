{
 "cells": [
  {
   "cell_type": "code",
   "execution_count": 1,
   "id": "0fcc1bad",
   "metadata": {},
   "outputs": [],
   "source": [
    "import numpy as np\n",
    "from matplotlib import pyplot as plt\n",
    "plt.rcParams['font.family']= 'Malgun Gothic'\n",
    "plt.rcParams['axes.unicode_minus']= False\n",
    "import warnings\n",
    "warnings.filterwarnings('ignore', category= FutureWarning)"
   ]
  },
  {
   "cell_type": "code",
   "execution_count": 2,
   "id": "65242537",
   "metadata": {},
   "outputs": [
    {
     "name": "stdout",
     "output_type": "stream",
     "text": [
      "[12  4  0 66 87  4 15 11  3  4]\n"
     ]
    }
   ],
   "source": [
    "rnd= np.random.RandomState()\n",
    "x_org= rnd.normal(size= (1000, 3))\n",
    "w= rnd.normal(size= 3)\n",
    "\n",
    "x= rnd.poisson(10 * np.exp(x_org))\n",
    "y= np.dot(x_org, w)\n",
    "print(x[:10,0])"
   ]
  },
  {
   "cell_type": "code",
   "execution_count": 3,
   "id": "ab3ad4af",
   "metadata": {},
   "outputs": [
    {
     "name": "stdout",
     "output_type": "stream",
     "text": [
      "특성 출현 횟수:  [22 46 50 63 45 49 44 57 48 39 29 34 40 20 35 21 21 20 18 22 18 11 20 14\n",
      " 13 11  7 12  7  6  8 10  8  5  5  9  4  1  5  2  5  5  2  7  4  3  5  4\n",
      "  4  2  3  4  0  5  0  0  1  3  1  2  2  1  3  2  0  0  2  0  2  1  2  5\n",
      "  0  0  0  1  0  0  0  0  0  1  1  1  2  0  1  1  0  0  0  1  1  0  0  0\n",
      "  0  1  0  0  0  0  0  0  0  1  0  0  0  0  0  0  1  0  0  0  0  1  0  0\n",
      "  0  0  0  0  0  0  0  1  2  0  0  0  0  1  0  0  0  0  0  0  0  0  0  0\n",
      "  0  0  0  0  0  0  0  0  0  0  0  0  0  0  0  0  0  0  0  0  0  0  0  0\n",
      "  0  0  0  0  0  0  0  0  0  0  0  0  0  0  0  1  0  0  1  0  0  0  0  0\n",
      "  0  0  0  0  0  0  0  0  0  0  0  0  0  0  0  0  0  0  0  0  0  0  0  0\n",
      "  0  0  0  0  0  0  0  0  0  0  0  0  0  0  0  0  0  0  0  0  0  0  0  0\n",
      "  0  0  0  0  0  0  0  0  0  0  0  0  0  0  0  0  0  0  0  0  0  0  0  0\n",
      "  0  0  0  0  0  0  0  0  0  0  0  0  0  0  0  0  0  0  0  0  0  0  0  0\n",
      "  0  0  0  0  0  0  1]\n"
     ]
    }
   ],
   "source": [
    " print('특성 출현 횟수: ', np.bincount(x[:, 0]))"
   ]
  },
  {
   "cell_type": "code",
   "execution_count": 4,
   "id": "ac8976dd",
   "metadata": {},
   "outputs": [
    {
     "data": {
      "text/plain": [
       "Text(0.5, 0, '값')"
      ]
     },
     "execution_count": 4,
     "metadata": {},
     "output_type": "execute_result"
    },
    {
     "data": {
      "image/png": "[encoded data removed]",
      "text/plain": [
       "<Figure size 432x288 with 1 Axes>"
      ]
     },
     "metadata": {
      "needs_background": "light"
     },
     "output_type": "display_data"
    }
   ],
   "source": [
    "plt.xlim(0, 150)\n",
    "plt.xlim(0, 70)\n",
    "bins= np.bincount(x[:, 0])\n",
    "plt.bar(range(len(bins)), bins, color= 'grey')\n",
    "plt.ylabel('출현 횟수')\n",
    "plt.xlabel('값')"
   ]
  },
  {
   "cell_type": "code",
   "execution_count": 5,
   "id": "627c1e30",
   "metadata": {},
   "outputs": [
    {
     "name": "stdout",
     "output_type": "stream",
     "text": [
      "테스트 점수: 0.152\n"
     ]
    }
   ],
   "source": [
    "from sklearn.linear_model import Ridge\n",
    "from sklearn.model_selection import train_test_split\n",
    "\n",
    "x_train, x_test, y_train, y_test= train_test_split(x,\n",
    "                                                   y,\n",
    "                                                   random_state= 0)\n",
    "score= Ridge().fit(x_train, y_train).score(x_test, y_test)\n",
    "print('테스트 점수: {:.3f}'.format(score))"
   ]
  },
  {
   "cell_type": "code",
   "execution_count": 6,
   "id": "388afcfc",
   "metadata": {},
   "outputs": [],
   "source": [
    "x_train_log= np.log(x_train + 1)\n",
    "x_test_log= np.log(x_test + 1)"
   ]
  },
  {
   "cell_type": "code",
   "execution_count": 7,
   "id": "14f71a2f",
   "metadata": {},
   "outputs": [
    {
     "data": {
      "text/plain": [
       "Text(0.5, 0, '값')"
      ]
     },
     "execution_count": 7,
     "metadata": {},
     "output_type": "execute_result"
    },
    {
     "data": {
      "image/png": "[encoded data removed]",
      "text/plain": [
       "<Figure size 432x288 with 1 Axes>"
      ]
     },
     "metadata": {
      "needs_background": "light"
     },
     "output_type": "display_data"
    }
   ],
   "source": [
    "plt.hist(x_train_log[:, 0], bins= 25, color= 'grey')\n",
    "plt.ylabel('출현 횟수')\n",
    "plt.xlabel('값')"
   ]
  },
  {
   "cell_type": "code",
   "execution_count": 8,
   "id": "21ae6af1",
   "metadata": {},
   "outputs": [
    {
     "name": "stdout",
     "output_type": "stream",
     "text": [
      "테스트 점수: 0.860\n"
     ]
    }
   ],
   "source": [
    "score= Ridge().fit(x_train_log, y_train).score(x_test_log, y_test)\n",
    "print('테스트 점수: {:.3f}'.format(score))"
   ]
  },
  {
   "cell_type": "markdown",
   "id": "fd04d0b2",
   "metadata": {},
   "source": [
    "### 특성 자동 선택"
   ]
  },
  {
   "cell_type": "code",
   "execution_count": 9,
   "id": "f396c898",
   "metadata": {},
   "outputs": [],
   "source": [
    "from sklearn.datasets import load_breast_cancer\n",
    "from sklearn.feature_selection import SelectPercentile, f_classif"
   ]
  },
  {
   "cell_type": "code",
   "execution_count": 10,
   "id": "1dbf2549",
   "metadata": {},
   "outputs": [
    {
     "name": "stdout",
     "output_type": "stream",
     "text": [
      "x_train.shape:  (284, 80)\n",
      "x_train_selected.shape:  (284, 40)\n"
     ]
    }
   ],
   "source": [
    "cancer= load_breast_cancer()\n",
    "# 고정된 난수 발생\n",
    "rng= np.random.RandomState(42)\n",
    "noise= rng.normal(size= (len(cancer.data), 50))\n",
    "# 데이터에 노이즈 특성 추가\n",
    "# 처음 30개는 원본 특성이고, 다음 50개는 노이즈\n",
    "x_w_noise= np.hstack([cancer.data, noise])\n",
    "\n",
    "x_train, x_test, y_train, y_test= train_test_split(x_w_noise,\n",
    "                                                   cancer.target,\n",
    "                                                   random_state= 0,\n",
    "                                                   test_size= .5)\n",
    "# f_classif와 selectpercentile을 사용하여 특성의 50%를 선택 후 학습\n",
    "select= SelectPercentile(score_func= f_classif, percentile= 50).fit(x_train, y_train)\n",
    "x_train_selected= select.transform(x_train)\n",
    "\n",
    "print('x_train.shape: ', x_train.shape)\n",
    "print('x_train_selected.shape: ', x_train_selected.shape)"
   ]
  },
  {
   "cell_type": "code",
   "execution_count": 11,
   "id": "1474b0e2",
   "metadata": {},
   "outputs": [
    {
     "name": "stdout",
     "output_type": "stream",
     "text": [
      "[ True  True  True  True  True  True  True  True  True False  True False\n",
      "  True  True  True  True  True  True False False  True  True  True  True\n",
      "  True  True  True  True  True  True False False False  True False  True\n",
      " False False  True False False False False  True False False  True False\n",
      " False  True False  True False False False False False False  True False\n",
      "  True False False False False  True False  True False False False False\n",
      "  True  True False  True False False False False]\n"
     ]
    },
    {
     "data": {
      "text/plain": [
       "([<matplotlib.axis.YTick at 0x23a5c172a60>], [Text(0, 0, '')])"
      ]
     },
     "execution_count": 11,
     "metadata": {},
     "output_type": "execute_result"
    },
    {
     "data": {
      "image/png": "[encoded data removed]",
      "text/plain": [
       "<Figure size 1152x144 with 1 Axes>"
      ]
     },
     "metadata": {
      "needs_background": "light"
     },
     "output_type": "display_data"
    }
   ],
   "source": [
    "mask= select.get_support()\n",
    "print(mask)\n",
    "\n",
    "plt.matshow(mask.reshape(1, -1), cmap= 'gray_r')\n",
    "plt.xlabel('특성 번호')\n",
    "plt.yticks([0])"
   ]
  },
  {
   "cell_type": "code",
   "execution_count": 12,
   "id": "8ba49d18",
   "metadata": {},
   "outputs": [],
   "source": [
    "from sklearn.linear_model import LogisticRegression"
   ]
  },
  {
   "cell_type": "code",
   "execution_count": 13,
   "id": "46651e64",
   "metadata": {},
   "outputs": [
    {
     "name": "stdout",
     "output_type": "stream",
     "text": [
      "전체 특성을 사용한 점수: 0.951\n",
      "선택된 일부 특성을 사용한 점수: 0.937\n"
     ]
    }
   ],
   "source": [
    "x_test_selected= select.transform(x_test)\n",
    "\n",
    "lr= LogisticRegression(max_iter= 5000).fit(x_train, y_train)\n",
    "print('전체 특성을 사용한 점수: {:.3f}'.format(lr.score(x_test, y_test)))\n",
    "lr= LogisticRegression(max_iter= 5000).fit(x_train_selected, y_train)\n",
    "print('선택된 일부 특성을 사용한 점수: {:.3f}'.format(lr.score(x_test_selected, y_test)))"
   ]
  },
  {
   "cell_type": "markdown",
   "id": "1b15ee2f",
   "metadata": {},
   "source": [
    "### 모델 기반 특성 선택"
   ]
  },
  {
   "cell_type": "code",
   "execution_count": 14,
   "id": "ba6d84ec",
   "metadata": {},
   "outputs": [],
   "source": [
    "from sklearn.feature_selection import SelectFromModel\n",
    "from sklearn.ensemble import RandomForestClassifier"
   ]
  },
  {
   "cell_type": "code",
   "execution_count": 15,
   "id": "16aa7e2f",
   "metadata": {},
   "outputs": [],
   "source": [
    "select= SelectFromModel(\n",
    "    RandomForestClassifier(n_estimators= 100, random_state= 42),\n",
    "                           threshold= 'median')"
   ]
  },
  {
   "cell_type": "code",
   "execution_count": 16,
   "id": "f2492d9e",
   "metadata": {},
   "outputs": [
    {
     "name": "stdout",
     "output_type": "stream",
     "text": [
      "x_train.shape:  (284, 80)\n",
      "x_train_l1.shape:  (284, 40)\n"
     ]
    }
   ],
   "source": [
    "select.fit(x_train, y_train)\n",
    "x_train_l1= select.transform(x_train)\n",
    "print('x_train.shape: ', x_train.shape)\n",
    "print('x_train_l1.shape: ', x_train_l1.shape)"
   ]
  },
  {
   "cell_type": "code",
   "execution_count": 17,
   "id": "26d7b57c",
   "metadata": {},
   "outputs": [
    {
     "data": {
      "text/plain": [
       "Text(0.5, 0, '특성 번호')"
      ]
     },
     "execution_count": 17,
     "metadata": {},
     "output_type": "execute_result"
    },
    {
     "data": {
      "image/png": "[encoded data removed]",
      "text/plain": [
       "<Figure size 1152x144 with 1 Axes>"
      ]
     },
     "metadata": {
      "needs_background": "light"
     },
     "output_type": "display_data"
    }
   ],
   "source": [
    "mask= select.get_support()\n",
    "plt.matshow(mask.reshape(1, -1), cmap= 'gray_r')\n",
    "plt.xlabel('특성 번호')"
   ]
  },
  {
   "cell_type": "code",
   "execution_count": 18,
   "id": "493bb692",
   "metadata": {},
   "outputs": [
    {
     "name": "stdout",
     "output_type": "stream",
     "text": [
      "테스트 점수: 0.947\n"
     ]
    }
   ],
   "source": [
    "x_test_l1= select.transform(x_test)\n",
    "score= LogisticRegression(max_iter= 5000).fit(x_train_l1, y_train).score(x_test_l1, y_test)\n",
    "print('테스트 점수: {:.3f}'.format(score))"
   ]
  },
  {
   "cell_type": "markdown",
   "id": "581b2f13",
   "metadata": {},
   "source": [
    "### 반복적 특성 선택"
   ]
  },
  {
   "cell_type": "code",
   "execution_count": 19,
   "id": "d06d44fb",
   "metadata": {},
   "outputs": [],
   "source": [
    "from sklearn.feature_selection import RFE"
   ]
  },
  {
   "cell_type": "code",
   "execution_count": 20,
   "id": "9ecc4b8f",
   "metadata": {},
   "outputs": [
    {
     "data": {
      "text/plain": [
       "Text(0.5, 0, '특성 번호')"
      ]
     },
     "execution_count": 20,
     "metadata": {},
     "output_type": "execute_result"
    },
    {
     "data": {
      "image/png": "[encoded data removed]",
      "text/plain": [
       "<Figure size 1152x144 with 1 Axes>"
      ]
     },
     "metadata": {
      "needs_background": "light"
     },
     "output_type": "display_data"
    }
   ],
   "source": [
    "select= RFE(RandomForestClassifier(n_estimators= 100, random_state= 42),\n",
    "            n_features_to_select= 40).fit(x_train, y_train)\n",
    "\n",
    "mask= select.get_support()\n",
    "plt.matshow(mask.reshape(1, -1), cmap= 'gray_r')\n",
    "plt.xlabel('특성 번호')"
   ]
  },
  {
   "cell_type": "code",
   "execution_count": 21,
   "id": "f880922d",
   "metadata": {},
   "outputs": [
    {
     "name": "stdout",
     "output_type": "stream",
     "text": [
      "테스트 점수: 0.940\n"
     ]
    }
   ],
   "source": [
    "x_train_rfe= select.transform(x_train)\n",
    "x_test_rfe= select.transform(x_test)\n",
    "\n",
    "score= LogisticRegression(max_iter= 5000).fit(x_train_rfe, y_train).score(x_test_rfe, y_test)\n",
    "print('테스트 점수: {:.3f}'.format(score))"
   ]
  },
  {
   "cell_type": "code",
   "execution_count": 22,
   "id": "5c85af89",
   "metadata": {},
   "outputs": [
    {
     "name": "stdout",
     "output_type": "stream",
     "text": [
      "테스트 점수: 0.951\n"
     ]
    }
   ],
   "source": [
    "print('테스트 점수: {:.3f}'.format(select.score(x_test, y_test)))"
   ]
  },
  {
   "cell_type": "code",
   "execution_count": null,
   "id": "7379f444",
   "metadata": {},
   "outputs": [],
   "source": []
  }
 ],
 "metadata": {
  "kernelspec": {
   "display_name": "Python 3 (ipykernel)",
   "language": "python",
   "name": "python3"
  },
  "language_info": {
   "codemirror_mode": {
    "name": "ipython",
    "version": 3
   },
   "file_extension": ".py",
   "mimetype": "text/x-python",
   "name": "python",
   "nbconvert_exporter": "python",
   "pygments_lexer": "ipython3",
   "version": "3.9.12"
  }
 },
 "nbformat": 4,
 "nbformat_minor": 5
}
