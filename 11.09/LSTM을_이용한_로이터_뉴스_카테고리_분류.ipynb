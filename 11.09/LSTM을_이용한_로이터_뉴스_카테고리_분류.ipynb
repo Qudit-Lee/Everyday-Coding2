{
  "nbformat": 4,
  "nbformat_minor": 0,
  "metadata": {
    "colab": {
      "provenance": []
    },
    "kernelspec": {
      "name": "python3",
      "display_name": "Python 3"
    },
    "language_info": {
      "name": "python"
    },
    "accelerator": "GPU",
    "gpuClass": "standard"
  },
  "cells": [
    {
      "cell_type": "code",
      "execution_count": 1,
      "metadata": {
        "id": "wqmcc06OYy1r"
      },
      "outputs": [],
      "source": [
        "# 로이터 뉴스 데이터셋 불러오기.\n",
        "from tensorflow.keras.layers import Dense, Embedding, LSTM\n",
        "from tensorflow.keras.callbacks import EarlyStopping\n",
        "from tensorflow.keras.preprocessing import sequence\n",
        "from keras.utils.np_utils import to_categorical\n",
        "from tensorflow.keras.models import Sequential\n",
        "from tensorflow.keras.datasets import reuters\n",
        "\n",
        "import numpy as np\n",
        "import matplotlib.pyplot as plt"
      ]
    },
    {
      "cell_type": "code",
      "source": [
        "# 불러온 데이터 학습셋과 데이터셋으로 분활.\n",
        "(x_train, y_train), (x_test, y_test)= reuters.load_data(num_words= 1000, test_split= .2)"
      ],
      "metadata": {
        "id": "kQ-Ge9umcXmN"
      },
      "execution_count": 2,
      "outputs": []
    },
    {
      "cell_type": "code",
      "source": [
        "# 데이터 확인 후 출력.\n",
        "category= np.max(y_train) +1\n",
        "print('카테고리: ', category)\n",
        "print('학습용 뉴스 기사: ', len(x_train))\n",
        "print('테스트용 뉴스 기사: ', len(x_test))\n",
        "print(x_train[0])"
      ],
      "metadata": {
        "colab": {
          "base_uri": "https://localhost:8080/"
        },
        "id": "fHPj7t67cvhz",
        "outputId": "322846b8-71e6-49ee-817e-6ccf24f74197"
      },
      "execution_count": 3,
      "outputs": [
        {
          "output_type": "stream",
          "name": "stdout",
          "text": [
            "카테고리:  46\n",
            "학습용 뉴스 기사:  8982\n",
            "테스트용 뉴스 기사:  2246\n",
            "[1, 2, 2, 8, 43, 10, 447, 5, 25, 207, 270, 5, 2, 111, 16, 369, 186, 90, 67, 7, 89, 5, 19, 102, 6, 19, 124, 15, 90, 67, 84, 22, 482, 26, 7, 48, 4, 49, 8, 864, 39, 209, 154, 6, 151, 6, 83, 11, 15, 22, 155, 11, 15, 7, 48, 9, 2, 2, 504, 6, 258, 6, 272, 11, 15, 22, 134, 44, 11, 15, 16, 8, 197, 2, 90, 67, 52, 29, 209, 30, 32, 132, 6, 109, 15, 17, 12]\n"
          ]
        }
      ]
    },
    {
      "cell_type": "code",
      "source": [
        "# 단어 수 맞춤.\n",
        "x_train= sequence.pad_sequences(x_train, maxlen= 100)\n",
        "x_test= sequence.pad_sequences(x_test, maxlen= 100)"
      ],
      "metadata": {
        "id": "oyph8NdIdTru"
      },
      "execution_count": 4,
      "outputs": []
    },
    {
      "cell_type": "code",
      "source": [
        "# 원-핫 인코딩 처리.\n",
        "y_train= to_categorical(y_train)\n",
        "y_test= to_categorical(y_test)"
      ],
      "metadata": {
        "id": "Wb4XhLMbd06H"
      },
      "execution_count": 5,
      "outputs": []
    },
    {
      "cell_type": "code",
      "source": [
        "# 모델의 구조를 설정.\n",
        "model= Sequential()\n",
        "model.add(Embedding(1000, 100))\n",
        "model.add(LSTM(100, activation= 'tanh'))\n",
        "model.add(Dense(46, activation= 'softmax'))"
      ],
      "metadata": {
        "id": "c4a1DgnMeQrb"
      },
      "execution_count": 6,
      "outputs": []
    },
    {
      "cell_type": "code",
      "source": [
        "# 모델의 실행 옵션 설정.\n",
        "model.compile(loss= 'categorical_crossentropy', optimizer= 'adam',\n",
        "              metrics= ['accuracy'])\n",
        "\n",
        "# 학습의 조기 중단 설정.\n",
        "early_stopping_callback= EarlyStopping(monitor= 'val_loss', patience= 5)\n",
        "\n",
        "# 모델 실행.\n",
        "history= model.fit(x_train, y_train, batch_size= 20, epochs= 200, \n",
        "                   validation_data= (x_test, y_test), callbacks= [early_stopping_callback])"
      ],
      "metadata": {
        "colab": {
          "base_uri": "https://localhost:8080/"
        },
        "id": "9WSDRWEhe-6a",
        "outputId": "da403fad-8d52-4d46-ce95-d02479027e71"
      },
      "execution_count": 7,
      "outputs": [
        {
          "output_type": "stream",
          "name": "stdout",
          "text": [
            "Epoch 1/200\n",
            "450/450 [==============================] - 17s 18ms/step - loss: 2.2993 - accuracy: 0.4202 - val_loss: 2.0450 - val_accuracy: 0.4960\n",
            "Epoch 2/200\n",
            "450/450 [==============================] - 4s 8ms/step - loss: 1.9102 - accuracy: 0.5145 - val_loss: 1.7883 - val_accuracy: 0.5472\n",
            "Epoch 3/200\n",
            "450/450 [==============================] - 4s 9ms/step - loss: 1.6991 - accuracy: 0.5696 - val_loss: 1.6503 - val_accuracy: 0.5833\n",
            "Epoch 4/200\n",
            "450/450 [==============================] - 4s 9ms/step - loss: 1.5497 - accuracy: 0.6116 - val_loss: 1.5178 - val_accuracy: 0.6327\n",
            "Epoch 5/200\n",
            "450/450 [==============================] - 4s 9ms/step - loss: 1.3590 - accuracy: 0.6530 - val_loss: 1.3844 - val_accuracy: 0.6523\n",
            "Epoch 6/200\n",
            "450/450 [==============================] - 4s 9ms/step - loss: 1.2368 - accuracy: 0.6887 - val_loss: 1.2987 - val_accuracy: 0.6732\n",
            "Epoch 7/200\n",
            "450/450 [==============================] - 4s 9ms/step - loss: 1.1365 - accuracy: 0.7142 - val_loss: 1.2622 - val_accuracy: 0.6772\n",
            "Epoch 8/200\n",
            "450/450 [==============================] - 4s 9ms/step - loss: 1.0422 - accuracy: 0.7366 - val_loss: 1.1902 - val_accuracy: 0.6963\n",
            "Epoch 9/200\n",
            "450/450 [==============================] - 4s 9ms/step - loss: 0.9479 - accuracy: 0.7639 - val_loss: 1.1464 - val_accuracy: 0.7150\n",
            "Epoch 10/200\n",
            "450/450 [==============================] - 4s 9ms/step - loss: 0.9163 - accuracy: 0.7730 - val_loss: 1.1332 - val_accuracy: 0.7119\n",
            "Epoch 11/200\n",
            "450/450 [==============================] - 5s 10ms/step - loss: 0.8145 - accuracy: 0.7987 - val_loss: 1.1519 - val_accuracy: 0.7164\n",
            "Epoch 12/200\n",
            "450/450 [==============================] - 4s 9ms/step - loss: 0.7540 - accuracy: 0.8087 - val_loss: 1.1152 - val_accuracy: 0.7293\n",
            "Epoch 13/200\n",
            "450/450 [==============================] - 4s 9ms/step - loss: 0.7057 - accuracy: 0.8241 - val_loss: 1.0996 - val_accuracy: 0.7346\n",
            "Epoch 14/200\n",
            "450/450 [==============================] - 4s 9ms/step - loss: 0.6492 - accuracy: 0.8361 - val_loss: 1.1239 - val_accuracy: 0.7306\n",
            "Epoch 15/200\n",
            "450/450 [==============================] - 4s 9ms/step - loss: 0.5969 - accuracy: 0.8509 - val_loss: 1.1618 - val_accuracy: 0.7311\n",
            "Epoch 16/200\n",
            "450/450 [==============================] - 4s 9ms/step - loss: 0.5514 - accuracy: 0.8631 - val_loss: 1.1986 - val_accuracy: 0.7333\n",
            "Epoch 17/200\n",
            "450/450 [==============================] - 4s 10ms/step - loss: 0.5051 - accuracy: 0.8744 - val_loss: 1.1955 - val_accuracy: 0.7306\n",
            "Epoch 18/200\n",
            "450/450 [==============================] - 4s 10ms/step - loss: 0.4653 - accuracy: 0.8840 - val_loss: 1.2387 - val_accuracy: 0.7257\n"
          ]
        }
      ]
    },
    {
      "cell_type": "markdown",
      "source": [
        "LSTM을 이용해 로이터 뉴스 카테고리 분석"
      ],
      "metadata": {
        "id": "ViV97ir0gHDu"
      }
    },
    {
      "cell_type": "code",
      "source": [
        "# 불러온 데이터 학습셋과 데이터셋으로 분활.\n",
        "(x_train, y_train), (x_test, y_test)= reuters.load_data(num_words= 1000, test_split= .2)\n",
        "\n",
        "# 데이터 확인.\n",
        "category= np.max(y_train) +1\n",
        "\n",
        "# 단어 수 맞춤.\n",
        "x_train= sequence.pad_sequences(x_train, maxlen= 100)\n",
        "x_test= sequence.pad_sequences(x_test, maxlen= 100)\n",
        "\n",
        "# 원-핫 인코딩 처리.\n",
        "y_train= to_categorical(y_train)\n",
        "y_test= to_categorical(y_test)\n",
        "\n",
        "# 모델의 구조를 설정.\n",
        "model= Sequential()\n",
        "model.add(Embedding(1000, 100))\n",
        "model.add(LSTM(100, activation= 'tanh'))\n",
        "model.add(Dense(46, activation= 'softmax'))\n",
        "\n",
        "# 모델의 실행 옵션 설정.\n",
        "model.compile(loss= 'categorical_crossentropy', optimizer= 'adam',\n",
        "              metrics= ['accuracy'])\n",
        "\n",
        "# 학습의 조기 중단 설정.\n",
        "early_stopping_callback= EarlyStopping(monitor= 'val_loss', patience= 5)\n",
        "\n",
        "# 모델 실행.\n",
        "history= model.fit(x_train, y_train, batch_size= 20, epochs= 200, \n",
        "                   validation_data= (x_test, y_test), callbacks= [early_stopping_callback])\n",
        "\n",
        "# 테스트 정확도 출력.\n",
        "print('\\n Test Accuracy: %.4f' % (model.evaluate(x_test, y_test)[1]))\n",
        "\n",
        "# 검증셋과 학습셋이 오차 저장.\n",
        "y_vloss= history.history['val_loss']\n",
        "y_loss= history.history['loss']\n",
        "\n",
        "# 그래프화.\n",
        "x_len= np.arange(len(y_loss))\n",
        "plt.plot(x_len, y_vloss, marker= '.', c= 'green', label= 'Testset_loss')\n",
        "plt.plot(x_len, y_loss, marker= '.', c= 'black', label= 'Trainset_loss')\n",
        "\n",
        "# 그래프에 그리드 추가, 레이블 표시.\n",
        "plt.legend(loc= 'upper right')\n",
        "plt.grid()\n",
        "plt.xlabel('epoch')\n",
        "plt.ylabel('loss')\n",
        "plt.show()"
      ],
      "metadata": {
        "colab": {
          "base_uri": "https://localhost:8080/",
          "height": 862
        },
        "id": "Vx93vDmRttxX",
        "outputId": "e29e2c9b-b572-4df4-94c5-fe17f6743dfa"
      },
      "execution_count": 8,
      "outputs": [
        {
          "output_type": "stream",
          "name": "stdout",
          "text": [
            "Epoch 1/200\n",
            "450/450 [==============================] - 6s 10ms/step - loss: 2.1866 - accuracy: 0.4459 - val_loss: 1.9597 - val_accuracy: 0.5053\n",
            "Epoch 2/200\n",
            "450/450 [==============================] - 4s 9ms/step - loss: 1.8050 - accuracy: 0.5301 - val_loss: 1.7347 - val_accuracy: 0.5659\n",
            "Epoch 3/200\n",
            "450/450 [==============================] - 4s 9ms/step - loss: 1.6124 - accuracy: 0.5857 - val_loss: 1.6044 - val_accuracy: 0.5975\n",
            "Epoch 4/200\n",
            "450/450 [==============================] - 4s 9ms/step - loss: 1.4356 - accuracy: 0.6330 - val_loss: 1.4502 - val_accuracy: 0.6287\n",
            "Epoch 5/200\n",
            "450/450 [==============================] - 4s 9ms/step - loss: 1.2845 - accuracy: 0.6742 - val_loss: 1.3121 - val_accuracy: 0.6714\n",
            "Epoch 6/200\n",
            "450/450 [==============================] - 5s 11ms/step - loss: 1.1693 - accuracy: 0.7017 - val_loss: 1.2595 - val_accuracy: 0.6741\n",
            "Epoch 7/200\n",
            "450/450 [==============================] - 4s 9ms/step - loss: 1.0688 - accuracy: 0.7288 - val_loss: 1.1914 - val_accuracy: 0.6901\n",
            "Epoch 8/200\n",
            "450/450 [==============================] - 4s 9ms/step - loss: 0.9830 - accuracy: 0.7533 - val_loss: 1.1643 - val_accuracy: 0.7030\n",
            "Epoch 9/200\n",
            "450/450 [==============================] - 4s 9ms/step - loss: 0.9025 - accuracy: 0.7722 - val_loss: 1.1117 - val_accuracy: 0.7231\n",
            "Epoch 10/200\n",
            "450/450 [==============================] - 5s 10ms/step - loss: 0.8329 - accuracy: 0.7869 - val_loss: 1.1221 - val_accuracy: 0.7115\n",
            "Epoch 11/200\n",
            "450/450 [==============================] - 4s 9ms/step - loss: 0.7652 - accuracy: 0.8075 - val_loss: 1.1124 - val_accuracy: 0.7266\n",
            "Epoch 12/200\n",
            "450/450 [==============================] - 4s 9ms/step - loss: 0.7044 - accuracy: 0.8211 - val_loss: 1.1310 - val_accuracy: 0.7275\n",
            "Epoch 13/200\n",
            "450/450 [==============================] - 4s 9ms/step - loss: 0.6415 - accuracy: 0.8380 - val_loss: 1.1627 - val_accuracy: 0.7226\n",
            "Epoch 14/200\n",
            "450/450 [==============================] - 4s 10ms/step - loss: 0.5951 - accuracy: 0.8475 - val_loss: 1.1969 - val_accuracy: 0.7199\n",
            "71/71 [==============================] - 0s 7ms/step - loss: 1.1969 - accuracy: 0.7199\n",
            "\n",
            " Test Accuracy: 0.7199\n"
          ]
        },
        {
          "output_type": "display_data",
          "data": {
            "text/plain": [
              "<Figure size 432x288 with 1 Axes>"
            ],
            "image/png": "[encoded data removed]"
          },
          "metadata": {
            "needs_background": "light"
          }
        }
      ]
    }
  ]
}