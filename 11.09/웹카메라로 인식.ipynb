{
 "cells": [
  {
   "cell_type": "code",
   "execution_count": 1,
   "id": "c9464dfd",
   "metadata": {},
   "outputs": [],
   "source": [
    "import cv2\n",
    "import numpy as np"
   ]
  },
  {
   "cell_type": "code",
   "execution_count": 2,
   "id": "675b5e43",
   "metadata": {},
   "outputs": [],
   "source": [
    "cap= cv2.VideoCapture(0)\n",
    "if cap.isOpened():\n",
    "    while True:\n",
    "        ret, img= cap.read()\n",
    "        if ret:\n",
    "            g_img= cv2.cvtColor(img, cv2.COLOR_BGR2GRAY)\n",
    "            thr, bin_img= cv2.threshold(g_img, 110, 255, cv2.THRESH_BINARY_INV)\n",
    "            contours, hierarchy= cv2.findContours(bin_img, cv2.RETR_EXTERNAL,\n",
    "                                            cv2.CHAIN_APPROX_SIMPLE)\n",
    "            try:\n",
    "                for i in range(len(contours)):\n",
    "                    contour= contours[i]\n",
    "                    (x, y), radius= cv2.minEnclosingCircle(contour)\n",
    "                    if radius > 3:\n",
    "                        xs, xe= int(x-radius), int(x+radius)\n",
    "                        ys, ye= int(y-radius), int(y+radius)\n",
    "                        cv2.rectangle(bin_img, (xs, ys), (xe, ye), (200, 0, 0), 2)\n",
    "                        roi= bin_img[ys:ye, xs:xe]\n",
    "                        dst= cv2.resize(roi, dsize= (50, 50), interpolation= cv2.INTER_AREA)\n",
    "                        dst= cv2.resize(dst, dsize= (16, 16), interpolation= cv2.INTER_AREA)\n",
    "                        A= np.zeros((20, 20))\n",
    "                        A[2:-2, 2:-2]= dst[:, :]\n",
    "                        A= A.reshape(-1, 20, 20, 1)\n",
    "                        num= np.argmax(model.predict(A))\n",
    "                        cv2.putText(bin_img, str(num), (xs, ys), cv2.FONT_HERSHEY_DUPLEX,\n",
    "                                    1, (200, 0, 0))\n",
    "            except Exception as e:\n",
    "                #print(e)\n",
    "                pass\n",
    "        \n",
    "            cv2.imshow(\"Image\", bin_img)\n",
    "            if cv2.waitKey(1)&0xFF == 27:\n",
    "                break\n",
    "            \n",
    "        else:\n",
    "            print(\"No Frame\")\n",
    "            break\n",
    "else:\n",
    "    print(\"Camera not opened\")\n",
    "\n",
    "cap.release()\n",
    "cv2.destroyAllWindows()"
   ]
  },
  {
   "cell_type": "code",
   "execution_count": null,
   "id": "9443981a",
   "metadata": {},
   "outputs": [],
   "source": []
  }
 ],
 "metadata": {
  "hide_input": false,
  "kernelspec": {
   "display_name": "Python 3 (ipykernel)",
   "language": "python",
   "name": "python3"
  },
  "language_info": {
   "codemirror_mode": {
    "name": "ipython",
    "version": 3
   },
   "file_extension": ".py",
   "mimetype": "text/x-python",
   "name": "python",
   "nbconvert_exporter": "python",
   "pygments_lexer": "ipython3",
   "version": "3.9.12"
  }
 },
 "nbformat": 4,
 "nbformat_minor": 5
}
