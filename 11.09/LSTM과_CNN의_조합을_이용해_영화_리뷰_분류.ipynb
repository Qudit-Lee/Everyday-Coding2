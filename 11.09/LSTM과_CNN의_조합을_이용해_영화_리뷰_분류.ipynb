{
  "nbformat": 4,
  "nbformat_minor": 0,
  "metadata": {
    "colab": {
      "provenance": [],
      "collapsed_sections": []
    },
    "kernelspec": {
      "name": "python3",
      "display_name": "Python 3"
    },
    "language_info": {
      "name": "python"
    },
    "accelerator": "GPU",
    "gpuClass": "standard"
  },
  "cells": [
    {
      "cell_type": "code",
      "source": [
        "from tensorflow.keras.layers import Dropout, Conv1D, Embedding, MaxPooling1D, Dense, LSTM\n",
        "from tensorflow.keras.callbacks import EarlyStopping\n",
        "from tensorflow.keras.preprocessing import sequence\n",
        "from tensorflow.keras.models import Sequential\n",
        "from tensorflow.keras.datasets import imdb\n",
        "\n",
        "import numpy as np\n",
        "import matplotlib.pyplot as plt"
      ],
      "metadata": {
        "id": "pYL7xxUfHZ4w"
      },
      "execution_count": 1,
      "outputs": []
    },
    {
      "cell_type": "code",
      "execution_count": 2,
      "metadata": {
        "colab": {
          "base_uri": "https://localhost:8080/"
        },
        "id": "6aF57x73G0qw",
        "outputId": "c70513a9-5b77-450f-fecc-7321f6b1fccd"
      },
      "outputs": [
        {
          "output_type": "stream",
          "name": "stdout",
          "text": [
            "Downloading data from https://storage.googleapis.com/tensorflow/tf-keras-datasets/imdb.npz\n",
            "17464789/17464789 [==============================] - 0s 0us/step\n"
          ]
        }
      ],
      "source": [
        "# 테스트셋 지정.\n",
        "(x_train, y_train), (x_test, y_test)= imdb.load_data(num_words= 5000)\n",
        "\n",
        "x_train= sequence.pad_sequences(x_train, maxlen= 500)\n",
        "x_test= sequence.pad_sequences(x_test, maxlen= 500)"
      ]
    },
    {
      "cell_type": "code",
      "source": [
        "# 모델의 구조를 설정.\n",
        "model= Sequential()\n",
        "model.add(Embedding(5000, 100))\n",
        "model.add(Dropout(.5))\n",
        "model.add(Conv1D(64, 5, padding= 'valid', activation= 'relu', strides= 1))\n",
        "model.add(MaxPooling1D(pool_size= 4))\n",
        "model.add(LSTM(55))\n",
        "model.add(Dense(1, activation= 'sigmoid'))\n",
        "model.summary()"
      ],
      "metadata": {
        "colab": {
          "base_uri": "https://localhost:8080/"
        },
        "id": "C3KtfbGTHcoD",
        "outputId": "9a58c8b3-28ec-4f41-913b-11af4a114ae7"
      },
      "execution_count": 3,
      "outputs": [
        {
          "output_type": "stream",
          "name": "stdout",
          "text": [
            "Model: \"sequential\"\n",
            "_________________________________________________________________\n",
            " Layer (type)                Output Shape              Param #   \n",
            "=================================================================\n",
            " embedding (Embedding)       (None, None, 100)         500000    \n",
            "                                                                 \n",
            " dropout (Dropout)           (None, None, 100)         0         \n",
            "                                                                 \n",
            " conv1d (Conv1D)             (None, None, 64)          32064     \n",
            "                                                                 \n",
            " max_pooling1d (MaxPooling1D  (None, None, 64)         0         \n",
            " )                                                               \n",
            "                                                                 \n",
            " lstm (LSTM)                 (None, 55)                26400     \n",
            "                                                                 \n",
            " dense (Dense)               (None, 1)                 56        \n",
            "                                                                 \n",
            "=================================================================\n",
            "Total params: 558,520\n",
            "Trainable params: 558,520\n",
            "Non-trainable params: 0\n",
            "_________________________________________________________________\n"
          ]
        }
      ]
    },
    {
      "cell_type": "markdown",
      "source": [
        "LSTM과 CNN의 조합을 이용해 영화 리뷰 분석"
      ],
      "metadata": {
        "id": "Xrz1jLJ6JCmd"
      }
    },
    {
      "cell_type": "code",
      "source": [
        "# 데이터를 불러와 학습셋과 테스트셋으로 분활.\n",
        "(x_train, y_train), (x_test, y_test)= imdb.load_data(num_words= 5000)\n",
        "\n",
        "# 단어의 수 지정.\n",
        "x_train= sequence.pad_sequences(x_train, maxlen= 500)\n",
        "x_test= sequence.pad_sequences(x_test, maxlen= 500)\n",
        "\n",
        "# 모델의 구조 설정.\n",
        "model= Sequential()\n",
        "model.add(Embedding(5000, 100))\n",
        "model.add(Dropout(.5))\n",
        "model.add(Conv1D(64, 5, padding= 'valid', activation= 'relu', strides= 1))\n",
        "model.add(MaxPooling1D(pool_size= 4))\n",
        "model.add(LSTM(55))\n",
        "model.add(Dense(1, activation= 'sigmoid'))\n",
        "\n",
        "# 모델의 실행 옵션 설정.\n",
        "model.compile(loss= 'binary_crossentropy', optimizer= 'adam', metrics= ['accuracy'])\n",
        "\n",
        "# 학습의 조기 중단 설정.\n",
        "early_stopping_callback= EarlyStopping(monitor= 'val_loss', patience= 3)\n",
        "\n",
        "# 모델 실행.\n",
        "history= model.fit(x_train, y_train, batch_size= 40, epochs= 100,\n",
        "                   validation_split= .25, callbacks= [early_stopping_callback])\n",
        "\n",
        "# 테스트 정확도 출력.\n",
        "print('\\n Test Accuracy: %.4f' % (model.evaluate(x_test, y_test)[1]))\n",
        "\n",
        "# 검증셋과 학습셋이 오차 저장.\n",
        "y_vloss= history.history['val_loss']\n",
        "y_loss= history.history['loss']\n",
        "\n",
        "# 그래프 구현.\n",
        "x_len= np.arange(len(y_loss))\n",
        "plt.plot(x_len, y_vloss, marker= '.', c= 'green', label= 'Testset_loss')\n",
        "plt.plot(x_len, y_loss, marker= '.', c= 'black', label= 'Trainset_loss')\n",
        "\n",
        "# 그래프에 그리드 추가, 레이블 표시.\n",
        "plt.legend(loc= 'upper right')\n",
        "plt.grid()\n",
        "plt.xlabel('epoch')\n",
        "plt.ylabel('loss')\n",
        "plt.show()"
      ],
      "metadata": {
        "colab": {
          "base_uri": "https://localhost:8080/",
          "height": 479
        },
        "id": "iCzykkm-JgGQ",
        "outputId": "4437706c-77dc-4112-9f66-97cef0688eec"
      },
      "execution_count": 4,
      "outputs": [
        {
          "output_type": "stream",
          "name": "stdout",
          "text": [
            "Epoch 1/100\n",
            "469/469 [==============================] - 17s 13ms/step - loss: 0.4053 - accuracy: 0.8043 - val_loss: 0.2716 - val_accuracy: 0.8888\n",
            "Epoch 2/100\n",
            "469/469 [==============================] - 6s 13ms/step - loss: 0.2358 - accuracy: 0.9055 - val_loss: 0.2764 - val_accuracy: 0.8896\n",
            "Epoch 3/100\n",
            "469/469 [==============================] - 6s 13ms/step - loss: 0.1860 - accuracy: 0.9295 - val_loss: 0.2739 - val_accuracy: 0.8931\n",
            "Epoch 4/100\n",
            "469/469 [==============================] - 5s 11ms/step - loss: 0.1515 - accuracy: 0.9442 - val_loss: 0.2881 - val_accuracy: 0.8893\n",
            "782/782 [==============================] - 4s 5ms/step - loss: 0.3097 - accuracy: 0.8795\n",
            "\n",
            " Test Accuracy: 0.8795\n"
          ]
        },
        {
          "output_type": "display_data",
          "data": {
            "text/plain": [
              "<Figure size 432x288 with 1 Axes>"
            ],
            "image/png": "[encoded data removed]"
          },
          "metadata": {
            "needs_background": "light"
          }
        }
      ]
    },
    {
      "cell_type": "code",
      "source": [],
      "metadata": {
        "id": "VsLogEeuL1aV"
      },
      "execution_count": 4,
      "outputs": []
    }
  ]
}