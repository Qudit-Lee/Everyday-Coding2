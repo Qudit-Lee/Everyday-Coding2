{
 "cells": [
  {
   "cell_type": "code",
   "execution_count": 1,
   "id": "223c19d7",
   "metadata": {},
   "outputs": [],
   "source": [
    "from sklearn.model_selection import train_test_split\n",
    "from sklearn.linear_model import LinearRegression\n",
    "from sklearn.metrics import r2_score\n",
    "from sklearn.metrics import mean_absolute_error\n",
    "from sklearn.metrics import mean_squared_error\n",
    "from sklearn.metrics import mean_squared_log_error\n",
    "from sklearn.metrics import make_scorer"
   ]
  },
  {
   "cell_type": "code",
   "execution_count": 2,
   "id": "9fa71dfe",
   "metadata": {},
   "outputs": [],
   "source": [
    "x_data= [\n",
    "    [2,1],\n",
    "    [3,2],\n",
    "    [3,4],\n",
    "    [5,5],\n",
    "    [7,5],\n",
    "    [2,5],\n",
    "    [8,9],\n",
    "    [9,10],\n",
    "    [6,12],\n",
    "    [9,2],\n",
    "    [6,10],\n",
    "    [2,4]\n",
    "]\n",
    "\n",
    "y_data= [3,5,7,10,12,7,13,13,12,13,12,6]"
   ]
  },
  {
   "cell_type": "code",
   "execution_count": 3,
   "id": "e878212e",
   "metadata": {},
   "outputs": [],
   "source": [
    "x_train, x_test, y_train, y_test= train_test_split(x_data, y_data,\n",
    "                                                   test_size= 0.3,\n",
    "                                                   random_state= 0)"
   ]
  },
  {
   "cell_type": "code",
   "execution_count": 4,
   "id": "b608a04c",
   "metadata": {},
   "outputs": [],
   "source": [
    "model= LinearRegression()"
   ]
  },
  {
   "cell_type": "code",
   "execution_count": 5,
   "id": "66c926e7",
   "metadata": {},
   "outputs": [
    {
     "data": {
      "text/plain": [
       "LinearRegression()"
      ]
     },
     "execution_count": 5,
     "metadata": {},
     "output_type": "execute_result"
    }
   ],
   "source": [
    "model.fit(x_train, y_train)"
   ]
  },
  {
   "cell_type": "markdown",
   "id": "02ad2952",
   "metadata": {},
   "source": [
    "### R2 score"
   ]
  },
  {
   "cell_type": "code",
   "execution_count": 6,
   "id": "1b51d4e2",
   "metadata": {},
   "outputs": [
    {
     "data": {
      "text/plain": [
       "0.9356057047590941"
      ]
     },
     "execution_count": 6,
     "metadata": {},
     "output_type": "execute_result"
    }
   ],
   "source": [
    "model.score(x_test, y_test) "
   ]
  },
  {
   "cell_type": "code",
   "execution_count": 7,
   "id": "cc251e28",
   "metadata": {},
   "outputs": [
    {
     "data": {
      "text/plain": [
       "0.9356057047590941"
      ]
     },
     "execution_count": 7,
     "metadata": {},
     "output_type": "execute_result"
    }
   ],
   "source": [
    "score= make_scorer(r2_score) \n",
    "score(model, x_test, y_test)"
   ]
  },
  {
   "cell_type": "markdown",
   "id": "1b3979a6",
   "metadata": {},
   "source": [
    "### MAE"
   ]
  },
  {
   "cell_type": "code",
   "execution_count": 8,
   "id": "06e2ec5a",
   "metadata": {
    "scrolled": true
   },
   "outputs": [
    {
     "data": {
      "text/plain": [
       "0.6021492393141756"
      ]
     },
     "execution_count": 8,
     "metadata": {},
     "output_type": "execute_result"
    }
   ],
   "source": [
    "score= make_scorer(mean_absolute_error) \n",
    "score(model, x_test, y_test)"
   ]
  },
  {
   "cell_type": "markdown",
   "id": "263e7cd6",
   "metadata": {},
   "source": [
    "### MSE"
   ]
  },
  {
   "cell_type": "code",
   "execution_count": 9,
   "id": "47f3f035",
   "metadata": {},
   "outputs": [
    {
     "data": {
      "text/plain": [
       "0.4950311446644644"
      ]
     },
     "execution_count": 9,
     "metadata": {},
     "output_type": "execute_result"
    }
   ],
   "source": [
    "score= make_scorer(mean_squared_error) \n",
    "score(model, x_test, y_test)"
   ]
  },
  {
   "cell_type": "markdown",
   "id": "66eb4b92",
   "metadata": {},
   "source": [
    "### RMSE"
   ]
  },
  {
   "cell_type": "code",
   "execution_count": 10,
   "id": "45b90b3f",
   "metadata": {},
   "outputs": [],
   "source": [
    "import numpy as np"
   ]
  },
  {
   "cell_type": "code",
   "execution_count": 11,
   "id": "f0f68e3d",
   "metadata": {},
   "outputs": [],
   "source": [
    "pred= model.predict(x_test)"
   ]
  },
  {
   "cell_type": "code",
   "execution_count": 12,
   "id": "618e1a99",
   "metadata": {},
   "outputs": [],
   "source": [
    "def rmse(y_true, y_predict):\n",
    "    return np.sqrt(mean_squared_error(y_true, y_predict))"
   ]
  },
  {
   "cell_type": "code",
   "execution_count": 13,
   "id": "3686334b",
   "metadata": {},
   "outputs": [
    {
     "data": {
      "text/plain": [
       "0.7035844971746211"
      ]
     },
     "execution_count": 13,
     "metadata": {},
     "output_type": "execute_result"
    }
   ],
   "source": [
    "rmse(y_test, pred)"
   ]
  },
  {
   "cell_type": "code",
   "execution_count": 14,
   "id": "d2cf43f6",
   "metadata": {},
   "outputs": [
    {
     "name": "stdout",
     "output_type": "stream",
     "text": [
      "rmse:  0.7035844971746211\n"
     ]
    }
   ],
   "source": [
    "print('rmse: ', score(model, x_test, y_test)**0.5)"
   ]
  },
  {
   "cell_type": "code",
   "execution_count": null,
   "id": "ed888305",
   "metadata": {},
   "outputs": [],
   "source": []
  }
 ],
 "metadata": {
  "kernelspec": {
   "display_name": "Python 3 (ipykernel)",
   "language": "python",
   "name": "python3"
  },
  "language_info": {
   "codemirror_mode": {
    "name": "ipython",
    "version": 3
   },
   "file_extension": ".py",
   "mimetype": "text/x-python",
   "name": "python",
   "nbconvert_exporter": "python",
   "pygments_lexer": "ipython3",
   "version": "3.9.12"
  }
 },
 "nbformat": 4,
 "nbformat_minor": 5
}
