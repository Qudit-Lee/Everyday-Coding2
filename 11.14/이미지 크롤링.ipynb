{
 "cells": [
  {
   "cell_type": "markdown",
   "id": "f04b4af0",
   "metadata": {},
   "source": [
    "!pip install selenium\n",
    "!pip install webdriver-manager"
   ]
  },
  {
   "cell_type": "code",
   "execution_count": 1,
   "id": "99003a15",
   "metadata": {},
   "outputs": [],
   "source": [
    "from webdriver_manager.chrome import ChromeDriverManager\n",
    "from selenium import webdriver"
   ]
  },
  {
   "cell_type": "markdown",
   "id": "6fd726ba",
   "metadata": {},
   "source": [
    "webdriver 구글 크롬 연결"
   ]
  },
  {
   "cell_type": "code",
   "execution_count": 2,
   "id": "20e65f3d",
   "metadata": {},
   "outputs": [
    {
     "name": "stderr",
     "output_type": "stream",
     "text": [
      "[WDM] - Downloading: 100%|████████████████████████████████████████████████████████| 6.46M/6.46M [00:00<00:00, 39.5MB/s]\n"
     ]
    }
   ],
   "source": [
    "# 구글 크롬 연결\n",
    "driver= webdriver.Chrome(ChromeDriverManager().install())\n",
    "\n",
    "URL= 'https://www.google.co.kr/imghp'\n",
    "driver.get(url= URL)\n",
    "\n",
    "driver.implicitly_wait(time_to_wait= 10)"
   ]
  },
  {
   "cell_type": "markdown",
   "id": "6bcb1040",
   "metadata": {},
   "source": [
    "이미지 검색 키워드 설정"
   ]
  },
  {
   "cell_type": "code",
   "execution_count": 3,
   "id": "8bac0a53",
   "metadata": {},
   "outputs": [],
   "source": [
    "from selenium.webdriver.common.keys import Keys"
   ]
  },
  {
   "cell_type": "code",
   "execution_count": 4,
   "id": "1cf6e920",
   "metadata": {
    "scrolled": true
   },
   "outputs": [],
   "source": [
    "elem= driver.find_element_by_css_selector('body > div.L3eUgb > div.o3j99.ikrT4e.om7nvf > form > div:nth-child(1) > div.A8SBwf > div.RNNXgb > div > div.a4bIc > input')\n",
    "elem.send_keys('바다')\n",
    "elem.send_keys(Keys.RETURN)"
   ]
  },
  {
   "cell_type": "markdown",
   "id": "db2afbc0",
   "metadata": {},
   "source": [
    "이미지 파일 찾기(스크롤 바)"
   ]
  },
  {
   "cell_type": "code",
   "execution_count": 5,
   "id": "7bc8175d",
   "metadata": {},
   "outputs": [],
   "source": [
    "import time"
   ]
  },
  {
   "cell_type": "code",
   "execution_count": 10,
   "id": "5f2ad650",
   "metadata": {},
   "outputs": [],
   "source": [
    "SCROLL_PAUSE_TIME= 1\n",
    "\n",
    "last_height= driver.execute_script('return document.body.scrollHeight')\n",
    "\n",
    "while True:\n",
    "    driver.execute_script('window.scrollTo(0, document.body.scrollHeight)')\n",
    "    time.sleep(SCROLL_PAUSE_TIME)\n",
    "    \n",
    "    new_height= driver.execute_script('return document.body.scrollHeight')\n",
    "    \n",
    "    if new_height == last_height:\n",
    "        try:\n",
    "            driver.fine_element_by_css_selector('.mye4qd').click()\n",
    "        except:\n",
    "            break\n",
    "    last_height == new_height     "
   ]
  },
  {
   "cell_type": "markdown",
   "id": "0539be15",
   "metadata": {},
   "source": [
    "이미지 수집"
   ]
  },
  {
   "cell_type": "code",
   "execution_count": 11,
   "id": "70345635",
   "metadata": {},
   "outputs": [],
   "source": [
    "images= driver.find_elements_by_css_selector('.rg_i.Q4LuWd')\n",
    "count= 100\n",
    "saveurl= r\"C:\\Users\\user\\Desktop\\이미지(바다)\"\n",
    "\n",
    "for i in range(count):\n",
    "    try:\n",
    "        images[i].click()\n",
    "        time.sleep(1)\n",
    "        \n",
    "        imgUrl= driver.find_element_by_css_selector('.n3VNCb').get_attribute('src')\n",
    "        urllib.request.urlretrieve(imgUrl, saveurl + str(i) + '.jpg')\n",
    "    \n",
    "    except:\n",
    "        pass\n",
    "driver.close()"
   ]
  }
 ],
 "metadata": {
  "hide_input": false,
  "kernelspec": {
   "display_name": "Python 3 (ipykernel)",
   "language": "python",
   "name": "python3"
  },
  "language_info": {
   "codemirror_mode": {
    "name": "ipython",
    "version": 3
   },
   "file_extension": ".py",
   "mimetype": "text/x-python",
   "name": "python",
   "nbconvert_exporter": "python",
   "pygments_lexer": "ipython3",
   "version": "3.9.12"
  }
 },
 "nbformat": 4,
 "nbformat_minor": 5
}
